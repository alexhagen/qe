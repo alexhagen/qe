{
 "cells": [
  {
   "cell_type": "code",
   "execution_count": 1,
   "metadata": {
    "collapsed": false,
    "deletable": true,
    "editable": true
   },
   "outputs": [
    {
     "data": {
      "application/javascript": [
       "\n",
       "MathJax.Hub.Register.StartupHook(\"TeX Jax Ready\",function () {\n",
       "  var MML = MathJax.ElementJax.mml,\n",
       "      TeX = MathJax.InputJax.TeX;\n",
       "\n",
       "  TeX.Definitions.macros.nicefrac = \"myBevelFraction\";\n",
       "  TeX.Definitions.macros.unit = \"myUnit\";\n",
       "  TeX.Definitions.macros.ce = \"myCe\";\n",
       "\n",
       "  TeX.Parse.Augment({\n",
       "    myBevelFraction: function (name) {\n",
       "      var num = this.ParseArg(name),\n",
       "          den = this.ParseArg(name);\n",
       "      this.Push(MML.mfrac(num,den).With({bevelled: true}));\n",
       "    },\n",
       "    myUnit: function(name) {\n",
       "      var num = this.ParseArg(name);\n",
       "      var den = 2;\n",
       "      this.Push(MML.mtext(num).With({variant: 'normal'}));\n",
       "    },\n",
       "    myCe: function(name) {\n",
       "      var num = this.ParseArg(name);\n",
       "      var den = 2;\n",
       "      this.Push(MML.mtext(num).With({variant: 'normal'}));\n",
       "    }\n",
       "  });\n",
       "  MathJax.Hub.Insert(MathJax.InputJax.TeX.Definitions.macros,{\n",
       "      cancel: [\"Extension\",\"cancel\"],\n",
       "      bcancel: [\"Extension\",\"cancel\"],\n",
       "      xcancel: [\"Extension\",\"cancel\"],\n",
       "      cancelto: [\"Extension\",\"cancel\"]\n",
       "    });\n",
       "});\n"
      ],
      "text/plain": [
       "<IPython.core.display.Javascript object>"
      ]
     },
     "metadata": {},
     "output_type": "display_data"
    }
   ],
   "source": [
    "import lyxithea.lyxithea as lyx\n",
    "\n",
    "bib = lyx.bib('bibs/qe.bib')"
   ]
  },
  {
   "cell_type": "markdown",
   "metadata": {
    "deletable": true,
    "editable": true,
    "variables": {
     " bib.pcite('Lamarsh2001a') ": "(<a href=\"#Lamarsh2001a\">Lamarsh,  et. al. 2001</a>)"
    }
   },
   "source": [
    "# Recoil Kinematics\n",
    "\n",
    "Again, this material is really common, but problably comes from {{ bib.pcite('Lamarsh2001a') }}.\n",
    "\n",
    "**Given an $\\alpha$ of energy $E$ incident on $\\mathrm{\\sideset{^{9}}{}{Be}}$, what is the identity and energy of the recoil?**"
   ]
  },
  {
   "cell_type": "markdown",
   "metadata": {
    "deletable": true,
    "editable": true
   },
   "source": [
    "First, we can write up our reaction $$\\mathrm{\\sideset{^{9}_{4}}{}{Be}} + \\alpha \\rightarrow \\mathrm{\\sideset{^{13}_{6}}{}C} + \\gamma$$, then we have to apply energy and momentum conservation and solve."
   ]
  },
  {
   "cell_type": "markdown",
   "metadata": {
    "deletable": true,
    "editable": true
   },
   "source": [
    "### Energy Conservation\n",
    "\n",
    "$$T_{\\alpha} + m_{\\alpha}c^{2} + m_{Be}c^{2} = T_{\\gamma} + m_{C}c^{2} + T_{C}$$"
   ]
  },
  {
   "cell_type": "markdown",
   "metadata": {
    "deletable": true,
    "editable": true
   },
   "source": [
    "### Momentum Conservation\n",
    "\n",
    "$$p_{\\alpha} = p_{\\gamma} + p_{C}$$"
   ]
  },
  {
   "cell_type": "markdown",
   "metadata": {
    "deletable": true,
    "editable": true
   },
   "source": [
    "### Solve\n",
    "\n",
    "$$T_{\\alpha} + \\left[ m_{\\alpha}c^{2} + m_{Be}c^{2} - m_{C}c^{2} = T_{\\gamma} + T_{C}\\right]$$\n",
    "\n",
    "$$5.3\\unit{MeV} + 931.5\\unit{\\nicefrac{MeV}{amu}} \\left[9\\unit{amu}+4\\unit{amu}-13\\unit{amu}\\right] = T_{\\gamma} + T_{C}$$\n",
    "\n",
    "$$\\frac{1}{c}\\sqrt{\\left(T_{\\alpha}+2m_{\\alpha}c^{2}\\right)T_{\\alpha}}=\\frac{E_{\\gamma}}{c}+\\frac{1}{c}\\sqrt{\\left(T_{C}+2m_{C}c^{2}\\right)T_{C}}$$\n",
    "\n",
    "$$\\sqrt{\\left(T_{\\alpha}+2m_{\\alpha}c^{2}\\right)T_{\\alpha}}=E_{\\gamma}+\\sqrt{\\left(T_{C}+2m_{C}c^{2}\\right)T_{C}}$$\n",
    "\n",
    "$$T_{\\gamma}=15.55\\unit{MeV}-T_{C}$$\n",
    "\n",
    "$$\\sqrt{\\left(T_{\\alpha}+2m_{\\alpha}c^{2}\\right)T_{\\alpha}}=15.55\\unit{MeV}-T_{C}+\\sqrt{\\left(T_{C}+2m_{C}c^{2}\\right)T_{C}}$$\n",
    "\n",
    "$$198.85\\unit{MeV}-15.55\\unit{MeV}=\\sqrt{\\left(T_{C}+2m_{C}c^{2}\\right)T_{C}}-T_{C}$$\n",
    "\n",
    "$$\\left(T_{C}+183.3\\unit{MeV}\\right)^{2}=\\left(T_{C}^{2}+T_{C}2m_{C}c^{2}\\right)$$\n",
    "\n",
    "$$\\cancel{T_{c}^{2}}+\\left(2\\cdot183.3\\unit{MeV}\\right)T_{C}+\\left(183.3\\unit{MeV}\\right)^{2}=\\cancel{T_{C}^{2}}+T_{C}2m_{C}c^{2}$$\n",
    "\n",
    "$$T_{C}=-\\frac{\\left(183.3\\unit{MeV}\\right)^{2}}{\\left(2\\cdot183.3\\unit{MeV}\\right)-2m_{C}c^{2}}$$\n",
    "\n",
    "$$T_{C}=1.408\\unit{MeV}$$"
   ]
  },
  {
   "cell_type": "code",
   "execution_count": 2,
   "metadata": {
    "collapsed": false,
    "deletable": true,
    "editable": true
   },
   "outputs": [
    {
     "data": {
      "text/html": [
       "<h2>Bibliography</h2>\n",
       "<ol>\n",
       "<li name=\"Lamarsh2001a\">\n",
       "<!-- This document was automatically generated with bibtex2html 1.98\n",
       "     (see http://www.lri.fr/~filliatr/bibtex2html/),\n",
       "     with the following command:\n",
       "     bibtex2html -nokeys -o - -s plain -nodoc -q /var/folders/cy/f4wwjss96p34f35b2w98ynk80000gp/T/tmpK1EyO7.bib  -->\n",
       "\n",
       "\n",
       "\n",
       "\n",
       "<p><a name=\"Lamarsh2001a\"></a>\n",
       "\n",
       "John&nbsp;R Lamarsh and Anthony&nbsp;J Baratta.\n",
       " <em>Introduction to Nuclear Engineering</em>.\n",
       " Upper Saddle River, New Jersey, third edition, 2001.\n",
       "\n",
       "</p>\n",
       "</li>\n",
       "</ol>\n"
      ],
      "text/plain": [
       "<IPython.core.display.HTML object>"
      ]
     },
     "metadata": {},
     "output_type": "display_data"
    }
   ],
   "source": [
    "bib.bibliography()"
   ]
  }
 ],
 "metadata": {
  "breadcrumb": [
   {
    "title": "Materials"
   }
  ],
  "hide_input": false,
  "kernelspec": {
   "display_name": "Python 2",
   "language": "python",
   "name": "python2"
  },
  "language_info": {
   "codemirror_mode": {
    "name": "ipython",
    "version": 2
   },
   "file_extension": ".py",
   "mimetype": "text/x-python",
   "name": "python",
   "nbconvert_exporter": "python",
   "pygments_lexer": "ipython2",
   "version": "2.7.12"
  },
  "latex_envs": {
   "LaTeX_envs_menu_present": true,
   "autocomplete": true,
   "bibliofile": "biblio.bib",
   "cite_by": "apalike",
   "current_citInitial": 1,
   "eqLabelWithNumbers": true,
   "eqNumInitial": 1,
   "hotkeys": {
    "equation": "Ctrl-E",
    "itemize": "Ctrl-I"
   },
   "labels_anchors": false,
   "latex_user_defs": false,
   "report_style_numbering": false,
   "user_envs_cfg": false
  },
  "title": "Recoil Kinematics"
 },
 "nbformat": 4,
 "nbformat_minor": 2
}
