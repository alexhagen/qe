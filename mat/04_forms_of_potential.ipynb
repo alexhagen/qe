{
 "cells": [
  {
   "cell_type": "code",
   "execution_count": 3,
   "metadata": {
    "collapsed": true
   },
   "outputs": [],
   "source": [
    "import lyxithea.lyxithea as lyx\n",
    "from pyg import twod as pyg2d\n",
    "from pym import func as pym\n",
    "import numpy as np\n",
    "\n",
    "bib = lyx.bib('bibs/qe.bib')"
   ]
  },
  {
   "cell_type": "markdown",
   "metadata": {
    "variables": {
     " bib.pcite('Nastasi1996') ": "(<a href=\"#Nastasi1996\">{Nastasi,  et. al. 1996</a>)"
    }
   },
   "source": [
    "# Forms of the potential function\n",
    "\n",
    "Most of nuclear materials is dependent upon the use of different forms of interatomic/internucleonic potential.  These forms are used throughout the field. This material is present in {{ bib.pcite('Nastasi1996') }}."
   ]
  },
  {
   "cell_type": "markdown",
   "metadata": {},
   "source": [
    "## Hard Sphere\n",
    "\n",
    "The hard sphere states that another nucleon has no probability of existings within a certain radius $\\Gamma_{r}$, and is given $$V\\left(r\\right)=\\begin{cases}\n",
    "\\infty & r<\\Gamma_{r}\\\\\n",
    "0 & r>\\Gamma_{r}\n",
    "\\end{cases}$$"
   ]
  },
  {
   "cell_type": "code",
   "execution_count": 4,
   "metadata": {},
   "outputs": [
    {
     "data": {
      "text/html": [
       "\n",
       "\t\t\t\t<div class='pygfigure' name='hardsphere' style='text-align: center; max-width: 800px; margin-left: auto; margin-right: auto;'>\n",
       "\t\t\t\t\t<img style='margin: auto; max-width:100%; width:1250.000000px; height: auto;' src='hardsphere.svg?369765173' />\n",
       "\t\t\t\t\t<div style='margin: auto; text-align: center;' class='figurecaption'><b>Figure 2:</b> Shape of the hard sphere potential</div>\n",
       "\t\t\t\t</div>\n",
       "\t\t\t"
      ],
      "text/plain": [
       "<IPython.core.display.HTML object>"
      ]
     },
     "metadata": {},
     "output_type": "display_data"
    }
   ],
   "source": [
    "plot = pyg2d.pyg2d()\n",
    "plot.add_line([0., 1., 1., 2.], [1., 1., 0.0, 0.0])\n",
    "plot.xlim(0., 2.)\n",
    "plot.ylim(-0.1, 1.1)\n",
    "plot.xlabel(r'Radius ($r$) [ ]')\n",
    "plot.ylabel(r'Potential ($V\\left( r \\right)$) [ ]')\n",
    "plot.xticks([0., 1.0, 2.0], [\"$0$\", \"$\\Gamma_{r}$\", \"$\\infty$\"])\n",
    "plot.yticks([0., 1.0], [\"$0$\", \"$\\infty$\"])\n",
    "plot.lines_on()\n",
    "plot.markers_off()\n",
    "plot.export('hardsphere', force=True, ratio='silver')\n",
    "plot.show('Shape of the hard sphere potential', label='hardsphere')"
   ]
  },
  {
   "cell_type": "markdown",
   "metadata": {},
   "source": [
    "## Square Well Potential\n",
    "\n",
    "The square well potential allows there to be some certain attractive force when the other nucleon is near enough to the nucleus, but still has the inifite potential at close range $$V\\left(r\\right)=\\begin{cases}\n",
    "\\infty & r<\\Gamma_{r}\\\\\n",
    "-\\varepsilon & \\Gamma_{r}<r<R\\\\\n",
    "0 & r>R\n",
    "\\end{cases}$$"
   ]
  },
  {
   "cell_type": "code",
   "execution_count": 5,
   "metadata": {},
   "outputs": [
    {
     "data": {
      "text/html": [
       "\n",
       "\t\t\t\t<div class='pygfigure' name='squarewell' style='text-align: center; max-width: 800px; margin-left: auto; margin-right: auto;'>\n",
       "\t\t\t\t\t<img style='margin: auto; max-width:100%; width:1250.000000px; height: auto;' src='squarewell.svg?1491004304' />\n",
       "\t\t\t\t\t<div style='margin: auto; text-align: center;' class='figurecaption'><b>Figure 3:</b> Shape of the square well potential</div>\n",
       "\t\t\t\t</div>\n",
       "\t\t\t"
      ],
      "text/plain": [
       "<IPython.core.display.HTML object>"
      ]
     },
     "metadata": {},
     "output_type": "display_data"
    }
   ],
   "source": [
    "plot = pyg2d.pyg2d()\n",
    "plot.add_line([0., 1., 1., 1.5, 1.5, 2.0], [1., 1., -0.2, -0.2, 0.0, 0.0])\n",
    "plot.xlim(0., 2.)\n",
    "plot.ylim(-0.3, 1.1)\n",
    "plot.xlabel(r'Radius ($r$) [ ]')\n",
    "plot.ylabel(r'Potential ($V\\left( r \\right)$) [ ]')\n",
    "plot.xticks([0., 1.0, 1.5, 2.0], [\"$0$\", \"$\\Gamma_{r}$\", \"$R$\", \"$\\infty$\"])\n",
    "plot.yticks([-0.2, 0., 1.0], [r\"$- \\varepsilon$\", \"$0$\", \"$\\infty$\"])\n",
    "plot.lines_on()\n",
    "plot.markers_off()\n",
    "plot.export('squarewell', force=True, ratio='silver')\n",
    "plot.show('Shape of the square well potential', label='squarewell')"
   ]
  },
  {
   "cell_type": "markdown",
   "metadata": {},
   "source": [
    "## Inverse Power Potential\n",
    "\n",
    "The potential is obviously not discrete as has been shown above, so one way to retain the infinite potential at zero but have it continuous is the inverse power potential $$V\\left(r\\right)=\\varepsilon\\left(\\frac{\\Gamma_{r}}{r}\\right)^{n}$$"
   ]
  },
  {
   "cell_type": "code",
   "execution_count": 6,
   "metadata": {},
   "outputs": [
    {
     "data": {
      "text/html": [
       "\n",
       "\t\t\t\t<div class='pygfigure' name='inversepow' style='text-align: center; max-width: 800px; margin-left: auto; margin-right: auto;'>\n",
       "\t\t\t\t\t<img style='margin: auto; max-width:100%; width:1250.000000px; height: auto;' src='inversepow.svg?1547489655' />\n",
       "\t\t\t\t\t<div style='margin: auto; text-align: center;' class='figurecaption'><b>Figure 4:</b> Shape of the inverse power potential</div>\n",
       "\t\t\t\t</div>\n",
       "\t\t\t"
      ],
      "text/plain": [
       "<IPython.core.display.HTML object>"
      ]
     },
     "metadata": {},
     "output_type": "display_data"
    }
   ],
   "source": [
    "x = np.linspace(0.01, 2.0, 1000)\n",
    "y = 0.1*(1.0 / x)\n",
    "curve = pym.curve(x, y)\n",
    "plot = curve.plot(linestyle='-')\n",
    "plot.xlim(0., 2.)\n",
    "plot.ylim(0.0, 1.0)\n",
    "plot.xlabel(r'Radius ($r$) [ ]')\n",
    "plot.ylabel(r'Potential ($V\\left( r \\right)$) [ ]')\n",
    "plot.xticks([0., 2.0], [\"$0$\", \"$\\infty$\"])\n",
    "plot.yticks([0., 1.0], [\"$0$\", \"$\\infty$\"])\n",
    "plot.lines_on()\n",
    "plot.markers_off()\n",
    "plot.export('inversepow', force=True, ratio='silver')\n",
    "plot.show('Shape of the inverse power potential', label='inversepow')"
   ]
  },
  {
   "cell_type": "markdown",
   "metadata": {},
   "source": [
    "## Lennard-Jones Potential\n",
    "\n",
    "Finally, combining everything, we have the most accurate description of the potential yet, the Lennard-Jones potential.  This potential preserves the infinite potential at zero, and the attraction between a certain distance.  It is given by $$V\\left(r\\right)=\\varepsilon\\left[\\left(\\frac{\\Gamma_{r}}{r}\\right)^{m}-\\left(\\frac{\\Gamma_{r}}{r}\\right)^{n}\\right]$$"
   ]
  },
  {
   "cell_type": "code",
   "execution_count": 7,
   "metadata": {},
   "outputs": [
    {
     "data": {
      "text/html": [
       "\n",
       "\t\t\t\t<div class='pygfigure' name='lennardjones' style='text-align: center; max-width: 800px; margin-left: auto; margin-right: auto;'>\n",
       "\t\t\t\t\t<img style='margin: auto; max-width:100%; width:1250.000000px; height: auto;' src='lennardjones.svg?828996025' />\n",
       "\t\t\t\t\t<div style='margin: auto; text-align: center;' class='figurecaption'><b>Figure 5:</b> Shape of the Lennard-Jones potential</div>\n",
       "\t\t\t\t</div>\n",
       "\t\t\t"
      ],
      "text/plain": [
       "<IPython.core.display.HTML object>"
      ]
     },
     "metadata": {},
     "output_type": "display_data"
    }
   ],
   "source": [
    "x = np.linspace(0.01, 2.0, 1000)\n",
    "m = 5.0\n",
    "n = 2.0\n",
    "epsilon = 0.2\n",
    "y = (epsilon / 0.3) * (np.power(0.1 / x, m) - np.power(0.1 / x, n))\n",
    "curve = pym.curve(x, y)\n",
    "plot = curve.plot(linestyle='-')\n",
    "plot.xlim(0., 2.)\n",
    "plot.ylim(-0.3, 1.1)\n",
    "plot.xlabel(r'Radius ($r$) [ ]')\n",
    "plot.ylabel(r'Potential ($V\\left( r \\right)$) [ ]')\n",
    "plot.xticks([0., 1.0, 2.0], [\"$0$\", \"$\\Gamma_{r}$\", \"$\\infty$\"])\n",
    "plot.yticks([-0.2, 0., 1.0], [r\"$- \\varepsilon$\", \"$0$\", \"$\\infty$\"])\n",
    "plot.lines_on()\n",
    "plot.markers_off()\n",
    "plot.export('lennardjones', force=True, ratio='silver')\n",
    "plot.show('Shape of the Lennard-Jones potential', label='lennardjones')"
   ]
  },
  {
   "cell_type": "code",
   "execution_count": 8,
   "metadata": {},
   "outputs": [
    {
     "data": {
      "text/html": [
       "<h2>Bibliography</h2>\n",
       "<ol>\n",
       "<li name=\"Nastasi1996\">\n",
       "<!-- This document was automatically generated with bibtex2html 1.98\n",
       "     (see http://www.lri.fr/~filliatr/bibtex2html/),\n",
       "     with the following command:\n",
       "     /usr/bin/bibtex2html -nokeys -o - -s plain -nodoc -q /tmp/tmpRshRLw.bib  -->\n",
       "\n",
       "\n",
       "\n",
       "\n",
       "<p><a name=\"Nastasi1996\"></a>\n",
       "\n",
       "J.&nbsp;K. Nastasi, M., Mayer, J. W., Hirvonen.\n",
       " <em>Ion-Solid Interactions: Fundamentals and Applications</em>.\n",
       " Cambridge University Press, 1996.\n",
       "\n",
       "</p>\n",
       "</li>\n",
       "</ol>\n"
      ],
      "text/plain": [
       "<IPython.core.display.HTML object>"
      ]
     },
     "metadata": {},
     "output_type": "display_data"
    }
   ],
   "source": [
    "bib.bibliography()"
   ]
  },
  {
   "cell_type": "code",
   "execution_count": null,
   "metadata": {
    "collapsed": true
   },
   "outputs": [],
   "source": []
  }
 ],
 "metadata": {
  "breadcrumb": [
   {
    "title": "Materials"
   }
  ],
  "hide_input": false,
  "kernelspec": {
   "display_name": "Python 2",
   "language": "python",
   "name": "python2"
  },
  "language_info": {
   "codemirror_mode": {
    "name": "ipython",
    "version": 2
   },
   "file_extension": ".py",
   "mimetype": "text/x-python",
   "name": "python",
   "nbconvert_exporter": "python",
   "pygments_lexer": "ipython2",
   "version": "2.7.12"
  },
  "latex_envs": {
   "LaTeX_envs_menu_present": true,
   "autocomplete": true,
   "bibliofile": "biblio.bib",
   "cite_by": "apalike",
   "current_citInitial": 1,
   "eqLabelWithNumbers": true,
   "eqNumInitial": 1,
   "hotkeys": {
    "equation": "Ctrl-E",
    "itemize": "Ctrl-I"
   },
   "labels_anchors": false,
   "latex_user_defs": false,
   "report_style_numbering": false,
   "user_envs_cfg": false
  },
  "title": "Recoil Kinematics"
 },
 "nbformat": 4,
 "nbformat_minor": 2
}
