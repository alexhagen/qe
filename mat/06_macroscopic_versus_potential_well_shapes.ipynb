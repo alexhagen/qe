{
 "cells": [
  {
   "cell_type": "code",
   "execution_count": 1,
   "metadata": {
    "collapsed": true
   },
   "outputs": [],
   "source": [
    "import lyxithea.lyxithea as lyx\n",
    "from pyg import twod as pyg2d\n",
    "from pym import func as pym\n",
    "import numpy as np\n",
    "\n",
    "bib = lyx.bib('bibs/qe.bib')"
   ]
  },
  {
   "cell_type": "markdown",
   "metadata": {
    "variables": {
     " bib.pcite('Nastasi') ": "\\[Nastasi\\]"
    }
   },
   "source": [
    "# Macroscopic Parameters in relation to Potential Well Shapes\n",
    "\n",
    "One of the most difficult aspects of materials in general, and nuclear materials especially, is the connection between microscopic quantities and nuclear stucture and macroscopic quantities.  There are several quantities physically that are **directly** correlated to the potential well shape, and they are important as is, but especially so as a template for understanding the micro-to-macro correlation.  Most of this material is easily found in {{ bib.pcite('Nastasi') }}."
   ]
  },
  {
   "cell_type": "markdown",
   "metadata": {},
   "source": [
    "## Binding Energy\n",
    "\n",
    "As can be guessed, the binding energy of a material or nucleus is defined directly by the *depth of the potential well* and can be expressed as \n",
    "$$E_{b} \\approx \\Delta H_{s} \\approx \\frac{1}{2} n_{c}N_{A}\\varepsilon_{b}$$"
   ]
  },
  {
   "cell_type": "markdown",
   "metadata": {},
   "source": [
    "## Elastic Modulus\n",
    "\n",
    "The elastic modulus corresponds to the second derivative of the potential at its minimum.  This can physically be considered as the slope required to get out of the potential well, which corresponds to how much energy it takes to move the material."
   ]
  },
  {
   "cell_type": "code",
   "execution_count": 2,
   "metadata": {},
   "outputs": [
    {
     "data": {
      "text/html": [
       "\n",
       "\t\t\t\t<div class='pygfigure' name='elasticmodulus' style='text-align: center; max-width: 800px; margin-left: auto; margin-right: auto;'>\n",
       "\t\t\t\t\t<img style='margin: auto; max-width:100%; width:1250.000000px; height: auto;' src='elasticmodulus.svg?953650578' />\n",
       "\t\t\t\t\t<div style='margin: auto; text-align: center;' class='figurecaption'><b>Figure 1:</b> Shape of the Potential correlated to the Elastic Modulus</div>\n",
       "\t\t\t\t</div>\n",
       "\t\t\t"
      ],
      "text/plain": [
       "<IPython.core.display.HTML object>"
      ]
     },
     "metadata": {},
     "output_type": "display_data"
    }
   ],
   "source": [
    "x = np.linspace(0.01, 2.0, 1000)\n",
    "m = 5.0\n",
    "n = 2.0\n",
    "epsilon = 0.2\n",
    "m2 = 5.0\n",
    "n2 = 2.0\n",
    "epsilon2 = 0.3\n",
    "y = (epsilon / 0.3) * (np.power(0.1 / x, m) - np.power(0.1 / x, n))\n",
    "y2 = (epsilon2 / 0.3) * (np.power(0.1 / x, m2) - np.power(0.1 / x, n2))\n",
    "curve = pym.curve(x, y)\n",
    "curve2 = pym.curve(x, y2, name='curve2')\n",
    "plot = curve.plot(linestyle='-')\n",
    "plot = curve2.plot(linestyle='--', addto=plot)\n",
    "plot.xlim(0., 1.1)\n",
    "plot.ylim(-0.3, 1.1)\n",
    "plot.xlabel(r'Radius ($r$) [ ]')\n",
    "plot.ylabel(r'Potential ($V\\left( r \\right)$) [ ]')\n",
    "plot.xticks([0., 1.0, 2.0], [\"$0$\", \"$\\Gamma_{r}$\", \"$\\infty$\"])\n",
    "plot.yticks([-0.2, 0., 1.0], [r\"$- \\varepsilon$\", \"$0$\", \"$\\infty$\"])\n",
    "plot.lines_on()\n",
    "plot.markers_off()\n",
    "plot.export('elasticmodulus', force=True, ratio='silver')\n",
    "plot.show('Shape of the Potential correlated to the Elastic Modulus', label='elasticmodulus')"
   ]
  },
  {
   "cell_type": "markdown",
   "metadata": {},
   "source": [
    "## Melting Temperature\n",
    "\n",
    "The melting temperature is proportational to the binding energy of the system."
   ]
  },
  {
   "cell_type": "code",
   "execution_count": 3,
   "metadata": {},
   "outputs": [
    {
     "data": {
      "text/html": [
       "\n",
       "\t\t\t\t<div class='pygfigure' name='melttemp' style='text-align: center; max-width: 800px; margin-left: auto; margin-right: auto;'>\n",
       "\t\t\t\t\t<img style='margin: auto; max-width:100%; width:1250.000000px; height: auto;' src='melttemp.svg?460329417' />\n",
       "\t\t\t\t\t<div style='margin: auto; text-align: center;' class='figurecaption'><b>Figure 2:</b> Shape of the Potential correlated to the Elastic Modulus</div>\n",
       "\t\t\t\t</div>\n",
       "\t\t\t"
      ],
      "text/plain": [
       "<IPython.core.display.HTML object>"
      ]
     },
     "metadata": {},
     "output_type": "display_data"
    }
   ],
   "source": [
    "x = np.linspace(0.01, 2.0, 1000)\n",
    "m = 5.0\n",
    "n = 2.0\n",
    "epsilon = 0.2\n",
    "m2 = 5.0\n",
    "n2 = 2.0\n",
    "epsilon2 = 0.1\n",
    "y = (epsilon / 0.3) * (np.power(0.1 / x, m) - np.power(0.1 / x, n))\n",
    "y2 = (epsilon2 / 0.3) * (np.power(0.1 / x, m2) - np.power(0.1 / x, n2))\n",
    "curve = pym.curve(x, y)\n",
    "curve2 = pym.curve(x, y2, name='curve2')\n",
    "plot = curve.plot(linestyle='-')\n",
    "plot = curve2.plot(linestyle='--', addto=plot)\n",
    "plot.add_data_pointer(curve.find_min(), curve=curve, string=r'High $T_{melt}$', place=(0.5, -0.35))\n",
    "plot.add_data_pointer(curve2.find_min(), curve=curve2, string=r'Low $T_{melt}$', place=(0.375, 0.5))\n",
    "plot.xlim(0., 1.1)\n",
    "plot.ylim(-0.4, 1.1)\n",
    "plot.xlabel(r'Radius ($r$) [ ]')\n",
    "plot.ylabel(r'Potential ($V\\left( r \\right)$) [ ]')\n",
    "plot.xticks([0., 1.0, 2.0], [\"$0$\", \"$\\Gamma_{r}$\", \"$\\infty$\"])\n",
    "plot.yticks([-0.2, 0., 1.0], [r\"$- \\varepsilon$\", \"$0$\", \"$\\infty$\"])\n",
    "plot.lines_on()\n",
    "plot.markers_off()\n",
    "plot.export('melttemp', force=True, ratio='silver')\n",
    "plot.show('Shape of the Potential correlated to the Elastic Modulus', label='melttemp')"
   ]
  },
  {
   "cell_type": "markdown",
   "metadata": {},
   "source": [
    "## Coefficient of Thermal Expansion\n",
    "\n",
    "The coefficient of thermal expansion is inversely proportional to the elastic modulus.  A diagram of the mean atom position inside the potential well can be useful to think about this, showing that with a lower elastic modulus, the mean atom position changes *more* for each unit energy."
   ]
  },
  {
   "cell_type": "code",
   "execution_count": 4,
   "metadata": {},
   "outputs": [
    {
     "data": {
      "text/html": [
       "\n",
       "\t\t\t\t<div class='pygfigure' name='highelowbeta' style='text-align: center; max-width: 800px; margin-left: auto; margin-right: auto;'>\n",
       "\t\t\t\t\t<img style='margin: auto; max-width:100%; width:1250.000000px; height: auto;' src='highelowbeta.svg?1008880237' />\n",
       "\t\t\t\t\t<div style='margin: auto; text-align: center;' class='figurecaption'><b>Figure 3:</b> Shape of the Potential correlated to the Elastic Modulus</div>\n",
       "\t\t\t\t</div>\n",
       "\t\t\t"
      ],
      "text/plain": [
       "<IPython.core.display.HTML object>"
      ]
     },
     "metadata": {},
     "output_type": "display_data"
    }
   ],
   "source": [
    "x = np.linspace(0.01, 2.0, 1000)\n",
    "m = 5.0\n",
    "n = 2.0\n",
    "epsilon = 0.2\n",
    "y = (epsilon / 0.3) * (np.power(0.1 / x, m) - np.power(0.1 / x, n))\n",
    "curve = pym.curve(x, y)\n",
    "plot = curve.plot(linestyle='-')\n",
    "plot.xlim(0., 1.1)\n",
    "plot.ylim(-0.4, 1.1)\n",
    "plot.xlabel(r'Radius ($r$) [ ]')\n",
    "plot.ylabel(r'Potential ($V\\left( r \\right)$) [ ]')\n",
    "plot.xticks([0., 1.0, 2.0], [\"$0$\", \"$\\Gamma_{r}$\", \"$\\infty$\"])\n",
    "plot.yticks([-0.2, 0., 1.0], [r\"$- \\varepsilon$\", \"$0$\", \"$\\infty$\"])\n",
    "plot.lines_on()\n",
    "plot.markers_off()\n",
    "plot.add_subplot()\n",
    "plot = curve.plot(linestyle='-', addto=plot, axes=plot.ax2)\n",
    "plot.xlim(0., 1.1, axes=plot.ax2)\n",
    "plot.ylim(-0.4, 1.1, axes=plot.ax2)\n",
    "plot.xlabel(r'Radius ($r$) [ ]', axes=plot.ax2)\n",
    "plot.ylabel(r'Potential ($V\\left( r \\right)$) [ ]', axes=plot.ax2)\n",
    "plot.xticks([0., 1.0, 2.0], [\"$0$\", \"$\\Gamma_{r}$\", \"$\\infty$\"], axes=plot.ax2)\n",
    "plot.yticks([-0.2, 0., 1.0], [r\"$- \\varepsilon$\", \"$0$\", \"$\\infty$\"], axes=plot.ax2)\n",
    "plot.lines_on()\n",
    "plot.markers_off()\n",
    "plot.export('highelowbeta', force=True, ratio='silver')\n",
    "plot.show('Shape of the Potential correlated to the Elastic Modulus', label='highelowbeta')"
   ]
  },
  {
   "cell_type": "code",
   "execution_count": 5,
   "metadata": {},
   "outputs": [
    {
     "data": {
      "text/html": [
       "<h2>Bibliography</h2>\n",
       "<ol>\n",
       "</ol>\n"
      ],
      "text/plain": [
       "<IPython.core.display.HTML object>"
      ]
     },
     "metadata": {},
     "output_type": "display_data"
    }
   ],
   "source": [
    "bib.bibliography()"
   ]
  }
 ],
 "metadata": {
  "breadcrumb": [
   {
    "title": "Materials"
   }
  ],
  "hide_input": false,
  "kernelspec": {
   "display_name": "Python 2",
   "language": "python",
   "name": "python2"
  },
  "language_info": {
   "codemirror_mode": {
    "name": "ipython",
    "version": 2
   },
   "file_extension": ".py",
   "mimetype": "text/x-python",
   "name": "python",
   "nbconvert_exporter": "python",
   "pygments_lexer": "ipython2",
   "version": "2.7.12"
  },
  "latex_envs": {
   "LaTeX_envs_menu_present": true,
   "autocomplete": true,
   "bibliofile": "biblio.bib",
   "cite_by": "apalike",
   "current_citInitial": 1,
   "eqLabelWithNumbers": true,
   "eqNumInitial": 1,
   "hotkeys": {
    "equation": "Ctrl-E",
    "itemize": "Ctrl-I"
   },
   "labels_anchors": false,
   "latex_user_defs": false,
   "report_style_numbering": false,
   "user_envs_cfg": false
  },
  "title": "Recoil Kinematics"
 },
 "nbformat": 4,
 "nbformat_minor": 2
}
