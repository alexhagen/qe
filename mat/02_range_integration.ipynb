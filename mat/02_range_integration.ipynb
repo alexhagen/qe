{
 "cells": [
  {
   "cell_type": "code",
   "execution_count": 1,
   "metadata": {
    "collapsed": true,
    "deletable": true,
    "editable": true
   },
   "outputs": [],
   "source": [
    "import lyxithea.lyxithea as lyx\n",
    "\n",
    "bib = lyx.bib('bibs/qe.bib')"
   ]
  },
  {
   "cell_type": "markdown",
   "metadata": {
    "deletable": true,
    "editable": true,
    "variables": {
     " bib.pcite('Nastasi1996') ": "\\[Nastasi1996\\]"
    }
   },
   "source": [
    "# Range Integration\n",
    "\n",
    "One important aspect of materials science as it relates to nuclear energy is the range or stopping power of a material.  This is a straightforward integration determination, however the knowledge of the dependencies will help you determine relative differences in materials.  The textbook I learned it from was {{ bib.pcite('Nastasi1996') }}."
   ]
  },
  {
   "cell_type": "markdown",
   "metadata": {
    "deletable": true,
    "editable": true
   },
   "source": [
    "The calculation of the range of a particle is defined by the integral from the incident energy to zero of the reciprocal of its energy deposition function. $$R=\\int_{E_{i}}^{0} \\frac{dE}{\\nicefrac{dE}{dx}}$$"
   ]
  },
  {
   "cell_type": "markdown",
   "metadata": {
    "deletable": true,
    "editable": true
   },
   "source": [
    "In general, the nuclear energy deposition follows the equation $$\\left.\\frac{dE}{dx}\\right|_{n}=N_{\\Pi} \\frac{Z_{1}^{2}Z_{2}^{2}e^{4}M_{1}}{E_{i}M_{2}} \\ln \\frac{\\Lambda E_{i}}{E_{a}}$$ and the electrical energy deposition is $$\\left.\\frac{dE}{dx}\\right|_{e}=\\frac{dE}{k\\sqrt{E_{i}}}$$"
   ]
  },
  {
   "cell_type": "code",
   "execution_count": 2,
   "metadata": {
    "collapsed": false,
    "deletable": true,
    "editable": true
   },
   "outputs": [
    {
     "data": {
      "text/html": [
       "<h2>Bibliography</h2>\n",
       "<ol>\n",
       "<li name=\"Lamarsh2001a\">\n",
       "<!-- This document was automatically generated with bibtex2html 1.98\n",
       "     (see http://www.lri.fr/~filliatr/bibtex2html/),\n",
       "     with the following command:\n",
       "     bibtex2html -nokeys -o - -s plain -nodoc -q /var/folders/cy/f4wwjss96p34f35b2w98ynk80000gp/T/tmpK1EyO7.bib  -->\n",
       "\n",
       "\n",
       "\n",
       "\n",
       "<p><a name=\"Lamarsh2001a\"></a>\n",
       "\n",
       "John&nbsp;R Lamarsh and Anthony&nbsp;J Baratta.\n",
       " <em>Introduction to Nuclear Engineering</em>.\n",
       " Upper Saddle River, New Jersey, third edition, 2001.\n",
       "\n",
       "</p>\n",
       "</li>\n",
       "</ol>\n"
      ],
      "text/plain": [
       "<IPython.core.display.HTML object>"
      ]
     },
     "metadata": {},
     "output_type": "display_data"
    }
   ],
   "source": [
    "bib.bibliography()"
   ]
  }
 ],
 "metadata": {
  "breadcrumb": [
   {
    "title": "Materials"
   }
  ],
  "hide_input": false,
  "kernelspec": {
   "display_name": "Python 2",
   "language": "python",
   "name": "python2"
  },
  "language_info": {
   "codemirror_mode": {
    "name": "ipython",
    "version": 2
   },
   "file_extension": ".py",
   "mimetype": "text/x-python",
   "name": "python",
   "nbconvert_exporter": "python",
   "pygments_lexer": "ipython2",
   "version": "2.7.13"
  },
  "latex_envs": {
   "LaTeX_envs_menu_present": true,
   "autocomplete": true,
   "bibliofile": "biblio.bib",
   "cite_by": "apalike",
   "current_citInitial": 1,
   "eqLabelWithNumbers": true,
   "eqNumInitial": 1,
   "hotkeys": {
    "equation": "Ctrl-E",
    "itemize": "Ctrl-I"
   },
   "labels_anchors": false,
   "latex_user_defs": false,
   "report_style_numbering": false,
   "user_envs_cfg": false
  },
  "title": "Recoil Kinematics"
 },
 "nbformat": 4,
 "nbformat_minor": 2
}
