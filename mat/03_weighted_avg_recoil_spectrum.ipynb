{
 "cells": [
  {
   "cell_type": "code",
   "execution_count": 1,
   "metadata": {
    "collapsed": true
   },
   "outputs": [],
   "source": [
    "import lyxithea.lyxithea as lyx\n",
    "\n",
    "bib = lyx.bib('bibs/qe.bib')"
   ]
  },
  {
   "cell_type": "markdown",
   "metadata": {
    "variables": {
     " bib.pcite('Nastasi1996') ": "\\[Nastasi1996\\]"
    }
   },
   "source": [
    "# Maximum Energy Transfer and the Weighted Average Recoil Spectrum\n",
    "\n",
    "Understanding of nuclear stopping requires the understanding of how much energy transfer is possible and the weighted average spectrum of the recoil. This material is present in {{ bib.pcite('Nastasi1996') }}."
   ]
  },
  {
   "cell_type": "markdown",
   "metadata": {},
   "source": [
    "The maximum energy transfer to a knock on is usually expressed as $T$, as the transfer, and it is related to the masses of the particles involved. $$T_{max}=\\Lambda E_{i} = \\frac{4M_{1}M_{2}}{\\left( M_{1} + M_{2}\\right)^{2}}$$"
   ]
  },
  {
   "cell_type": "markdown",
   "metadata": {},
   "source": [
    "From that maximum energy, we can then look into the average spectrum, which will start at the top end from the maximum energy transfer and drop from there.  This is defined as $$\\overline{T}=\\frac{1}{2}\\Lambda E_{i}=\\frac{\\int_{0}^{E_{i}}T\\sigma\\left(E,T\\right)dT}{\\int_{0}^{E_{i}}\\sigma\\left(E,T\\right)dT}$$ $$\\sigma=\\frac{\\pi}{4}\\frac{\\left(Z_{1}Z_{2}e^{2}\\right)^{2}}{E_{i}^{2}}\\left(\\frac{T_{m}}{E_{d}}-1\\right)$$ $$\\widetilde{T}=E_{d}\\ln\\frac{\\Lambda E_{i}}{E_{d}}\\;E_{d}\\ll\\Lambda E_{i}$$\n",
    "\n",
    "Then, we can find the weighted average recoil spectrum as defined above.  For higher mass, there is a harder spectrum.  There are more displacements at a higher recoil energy and higher primary atom energy."
   ]
  },
  {
   "cell_type": "code",
   "execution_count": 2,
   "metadata": {},
   "outputs": [
    {
     "data": {
      "text/html": [
       "<h2>Bibliography</h2>\n",
       "<ol>\n",
       "<li name=\"Lamarsh2001a\">\n",
       "<!-- This document was automatically generated with bibtex2html 1.98\n",
       "     (see http://www.lri.fr/~filliatr/bibtex2html/),\n",
       "     with the following command:\n",
       "     bibtex2html -nokeys -o - -s plain -nodoc -q /var/folders/cy/f4wwjss96p34f35b2w98ynk80000gp/T/tmpK1EyO7.bib  -->\n",
       "\n",
       "\n",
       "\n",
       "\n",
       "<p><a name=\"Lamarsh2001a\"></a>\n",
       "\n",
       "John&nbsp;R Lamarsh and Anthony&nbsp;J Baratta.\n",
       " <em>Introduction to Nuclear Engineering</em>.\n",
       " Upper Saddle River, New Jersey, third edition, 2001.\n",
       "\n",
       "</p>\n",
       "</li>\n",
       "</ol>\n"
      ],
      "text/plain": [
       "<IPython.core.display.HTML object>"
      ]
     },
     "metadata": {},
     "output_type": "display_data"
    }
   ],
   "source": [
    "bib.bibliography()"
   ]
  }
 ],
 "metadata": {
  "breadcrumb": [
   {
    "title": "Materials"
   }
  ],
  "hide_input": false,
  "kernelspec": {
   "display_name": "Python 2",
   "language": "python",
   "name": "python2"
  },
  "language_info": {
   "codemirror_mode": {
    "name": "ipython",
    "version": 2
   },
   "file_extension": ".py",
   "mimetype": "text/x-python",
   "name": "python",
   "nbconvert_exporter": "python",
   "pygments_lexer": "ipython2",
   "version": "2.7.12"
  },
  "latex_envs": {
   "LaTeX_envs_menu_present": true,
   "autocomplete": true,
   "bibliofile": "biblio.bib",
   "cite_by": "apalike",
   "current_citInitial": 1,
   "eqLabelWithNumbers": true,
   "eqNumInitial": 1,
   "hotkeys": {
    "equation": "Ctrl-E",
    "itemize": "Ctrl-I"
   },
   "labels_anchors": false,
   "latex_user_defs": false,
   "report_style_numbering": false,
   "user_envs_cfg": false
  },
  "title": "Recoil Kinematics"
 },
 "nbformat": 4,
 "nbformat_minor": 2
}
