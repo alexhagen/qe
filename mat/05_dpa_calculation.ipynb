{
 "cells": [
  {
   "cell_type": "code",
   "execution_count": 14,
   "metadata": {
    "collapsed": true
   },
   "outputs": [],
   "source": [
    "import lyxithea.lyxithea as lyx\n",
    "from pyg import twod as pyg2d\n",
    "from pym import func as pym\n",
    "import numpy as np\n",
    "\n",
    "bib = lyx.bib('bibs/qe.bib')"
   ]
  },
  {
   "cell_type": "markdown",
   "metadata": {},
   "source": [
    "# DPA Calculations\n",
    "\n",
    "Calculation of displacements per atom (DPA) is crucial to the characterization of radiation damage in material.  The chart below is most informative in the rate of displacement creation based on the energy of the incident ion.  Basically, below a certain energy, the ion cannot displace an atom.  Past twice that energy, it can displace an increasing number of ions with increasing energy until reaching an energy at which it can only displace $\\frac{E_{c}}{2E_{d}}$ atoms per ion."
   ]
  },
  {
   "cell_type": "code",
   "execution_count": 15,
   "metadata": {},
   "outputs": [
    {
     "data": {
      "text/html": [
       "\n",
       "\t\t\t\t<div class='pygfigure' name='dpa' style='text-align: center; max-width: 800px; margin-left: auto; margin-right: auto;'>\n",
       "\t\t\t\t\t<img style='margin: auto; max-width:100%; width:1250.000000px; height: auto;' src='dpa.svg?241059892' />\n",
       "\t\t\t\t\t<div style='margin: auto; text-align: center;' class='figurecaption'><b>Figure 11:</b> Rate of displatement generation versus energy of primary knock on (<a href=\"#Nastasi1996\">{Nastasi,  et. al. 1996</a>)</div>\n",
       "\t\t\t\t</div>\n",
       "\t\t\t"
      ],
      "text/plain": [
       "<IPython.core.display.HTML object>"
      ]
     },
     "metadata": {},
     "output_type": "display_data"
    }
   ],
   "source": [
    "plot = pyg2d.pyg2d()\n",
    "plot.add_line([0., 1., 1., 1.5, 3., 5.], [0., 0., 1., 1., 5., 5.])\n",
    "plot.xlim(0., 4.)\n",
    "plot.ylim(0., 6.)\n",
    "plot.add_arrow(1.5, 3.0, 2.0, 6.0, r'$\\frac{\\partial \\nu}{\\partial T} = \\frac{T}{2E_{d}}$')\n",
    "plot.xlabel(r'Energy ($T$) [ ]')\n",
    "plot.ylabel(r'Number of Displacements ($\\nu\\left( T \\right)$) [ ]')\n",
    "plot.xticks([0., 1.0, 1.5, 3.0], [\"$0$\", \"$E_{d}$\", \"$2E$\", r\"$E_{c}\\approx A\\left[ \\mathrm{keV}\\right]\"])\n",
    "plot.yticks([0., 1.0, 5.0], [\"$0$\", \"$1$\", r\"$\\frac{E_{c}}{2E_{d}}$\"])\n",
    "plot.lines_on()\n",
    "plot.markers_off()\n",
    "plot.export('dpa', force=True, ratio='silver')\n",
    "plot.show('Rate of displatement generation versus energy of primary knock on ' + bib.pcite(\"Nastasi1996\"),\n",
    "          label='dpa')"
   ]
  },
  {
   "cell_type": "markdown",
   "metadata": {},
   "source": [
    "We can use this to determine the displacement rate.  We start by defining the maximum energy transfered, which is $T_{max}=\\Lambda E$, with $$\\Lambda=\\frac{4M_{1}M_{2}}{M_{1}+M_{2}}$$.  Then, we can define the displacement rate as $$\\dot{\\nu}=\\int_{E_{d}}^{\\Lambda E}\\phi\\left(E\\right)\\sigma_{d}\\left(E,T\\right)dE$$.  We can see that the displacement cross section $\\sigma_{d}$, so we can define that as $$\\sigma_{d}=\\int_{E_{d}}^{\\Lambda E}\\nu\\left(T\\right)\\sigma\\left(E,T\\right)dT$$ This in turn requires a cross section, for which we will use the hard sphere cross section $$\\sigma\\left(E,T\\right)=\\frac{\\sigma_{p}}{\\Lambda E}=\\frac{c}{E}$$ Then, all that's left to do is math $$\\sigma_{d}=\\int_{0}^{E_{d}}\\left[\\left(0\\right)\\frac{\\sigma_{p}}{\\Lambda E}+\\left(1\\right)\\frac{\\sigma_{p}}{\\Lambda E}+\\left(\\frac{T}{2E_{d}}\\right)\\frac{\\sigma_{p}}{\\Lambda E}\\right]dT$$ $$\\sigma_{d}=\\left(\\frac{\\sigma_{p}}{\\Lambda E}\\right)\\left(\\Lambda E_{d}-E_{d}\\right)+\\left(\\frac{\\sigma_{p}}{2\\Lambda E_{d}}\\right)\\left(\\frac{\\left(\\Lambda E\\right)^{2}}{2}-\\frac{E_{d}^{2}}{2}\\right)$$ From the last result, and the first definition, we can find $\\dot{\\nu}$ in $\\frac{\\mathrm{dpa}}{\\mathrm{s}}$"
   ]
  },
  {
   "cell_type": "code",
   "execution_count": 8,
   "metadata": {},
   "outputs": [
    {
     "data": {
      "text/html": [
       "<h2>Bibliography</h2>\n",
       "<ol>\n",
       "<li name=\"Nastasi1996\">\n",
       "<!-- This document was automatically generated with bibtex2html 1.98\n",
       "     (see http://www.lri.fr/~filliatr/bibtex2html/),\n",
       "     with the following command:\n",
       "     /usr/bin/bibtex2html -nokeys -o - -s plain -nodoc -q /tmp/tmpRshRLw.bib  -->\n",
       "\n",
       "\n",
       "\n",
       "\n",
       "<p><a name=\"Nastasi1996\"></a>\n",
       "\n",
       "J.&nbsp;K. Nastasi, M., Mayer, J. W., Hirvonen.\n",
       " <em>Ion-Solid Interactions: Fundamentals and Applications</em>.\n",
       " Cambridge University Press, 1996.\n",
       "\n",
       "</p>\n",
       "</li>\n",
       "</ol>\n"
      ],
      "text/plain": [
       "<IPython.core.display.HTML object>"
      ]
     },
     "metadata": {},
     "output_type": "display_data"
    }
   ],
   "source": [
    "bib.bibliography()"
   ]
  }
 ],
 "metadata": {
  "breadcrumb": [
   {
    "title": "Materials"
   }
  ],
  "hide_input": false,
  "kernelspec": {
   "display_name": "Python 2",
   "language": "python",
   "name": "python2"
  },
  "language_info": {
   "codemirror_mode": {
    "name": "ipython",
    "version": 2
   },
   "file_extension": ".py",
   "mimetype": "text/x-python",
   "name": "python",
   "nbconvert_exporter": "python",
   "pygments_lexer": "ipython2",
   "version": "2.7.12"
  },
  "latex_envs": {
   "LaTeX_envs_menu_present": true,
   "autocomplete": true,
   "bibliofile": "biblio.bib",
   "cite_by": "apalike",
   "current_citInitial": 1,
   "eqLabelWithNumbers": true,
   "eqNumInitial": 1,
   "hotkeys": {
    "equation": "Ctrl-E",
    "itemize": "Ctrl-I"
   },
   "labels_anchors": false,
   "latex_user_defs": false,
   "report_style_numbering": false,
   "user_envs_cfg": false
  },
  "title": "Recoil Kinematics"
 },
 "nbformat": 4,
 "nbformat_minor": 2
}
