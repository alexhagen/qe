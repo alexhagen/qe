{
 "cells": [
  {
   "cell_type": "code",
   "execution_count": 1,
   "metadata": {
    "collapsed": true
   },
   "outputs": [],
   "source": [
    "from lyxithea import lyxithea as lyx\n",
    "\n",
    "bib = lyx.bib('bibs/qe.bib')"
   ]
  },
  {
   "cell_type": "markdown",
   "metadata": {},
   "source": [
    "# Compton Scattering\n",
    "\n",
    "The derivation of Compton Scattering informs many uses of both the result and the technique used to derive it."
   ]
  },
  {
   "cell_type": "markdown",
   "metadata": {},
   "source": [
    "We start with the knowledge that a photon has the momentum $$p = \\frac{E}{c}$$ and we must apply special relativity to that, as an electron.  Thus the kinetic energy of that photon is $$T_{\\gamma}=\\sqrt{p_{e}^{2}c^{2}+m_{e}^{2}c^{4}}-m_{e}c^{2}$$ It should be noted that the last two terms will cancel each other out."
   ]
  },
  {
   "cell_type": "markdown",
   "metadata": {},
   "source": [
    "We then apply elastic scattering, knowing that the total energy is the initial energy of the photon and the sum of its kinetic energy and the secondary energy of the electron $$E=E^{'}+T$$"
   ]
  },
  {
   "cell_type": "markdown",
   "metadata": {
    "collapsed": true
   },
   "source": [
    "Now we get into the real math (algebra).  We find the momentum of the scattered photon and the momentum of the electron. \n",
    "\n",
    "$$\\left(p^{'}\\right)^{2}=\\left|\\vec{p}-\\vec{p}_{e}\\right|^{2}-2pp_{e}\\cos\\theta_{r}$$\n",
    "$$\\left(p_{e}\\right)^{2}=\\left|\\vec{p}-\\vec{p}^{'}\\right|^{2}=p^{2}+\\left(p^{'}\\right)^{2}-2pp^{'}\\cos\\theta_{s}$$ Note that the last terms are from the law of cosines from the scattering angles."
   ]
  },
  {
   "cell_type": "markdown",
   "metadata": {},
   "source": [
    "We then continue with our balances, this time doing an energy balance on the two particles. $$\\left(E^{'}\\right)^{2}=E^{2}+T\\left(T+2m_{e}c^{2}\\right)-2E\\sqrt{T\\left(T+2m_{e}c^{2}\\right)}\\cos\\theta_{r}$$ $$T\\left(T+2m_{e}c^{2}\\right)=E^{2}+\\left(E^{'}\\right)^{2}-2EE^{'}\\cos\\theta_{s}$$\n",
    "and our energy conservation is simply stated earlier, and restated as $$T=E-E^{'}$$"
   ]
  },
  {
   "cell_type": "markdown",
   "metadata": {},
   "source": [
    "Performing this energy balance, we get $$E^{2}+\\left(E^{'}\\right)^{2}-2EE^{'}\\cos\\theta_{s}\t=\\left(E-E^{'}\\right)\\left(E-E^{'}+2m_{e}c^{2}\\right)$$\n",
    "$$\\left[\\left(1-\\cos\\theta_{s}\\right)E+m_{e}c^{2}\\right]E^{'}\t=m_{e}c^{2}E$$ which gives us $$E^{'}=\\frac{E}{1+\\left(\\frac{E}{m_{e}c^{2}}\\right)\\left(1-\\cos\\theta_{s}\\right)},\\quad0\\leq\\theta_{s}\\leq\\pi$$"
   ]
  },
  {
   "cell_type": "markdown",
   "metadata": {},
   "source": [
    "Finally, we complete this using the momentum equations we wrote earlier\n",
    "$$E^{2}+T\\left(T+2m_{e}c^{2}\\right)-2E\\sqrt{T\\left(T+2m_{e}c^{2}\\right)}\\cos\\theta_{r}=\\left(E-T\\right)^{2}$$ $$\\left[\\left(E+m_{e}c^{2}\\right)-E^{2}\\cos^{2}\\theta_{r}\\right]T=2m_{e}c^{2}E^{2}\\cos^{2}\\theta_{r}$$ which yields the result $$T=\\frac{2m_{e}c^{2}E^{2}\\cos^{2}\\theta_{r}}{\\left(E+m_{e}c^{2}\\right)^{2}-E^{2}\\cos^{2}\\theta_{r}},\\quad0\\leq\\theta_{r}\\leq\\frac{\\pi}{2}$$"
   ]
  },
  {
   "cell_type": "code",
   "execution_count": null,
   "metadata": {
    "collapsed": true
   },
   "outputs": [],
   "source": []
  }
 ],
 "metadata": {
  "hide_input": false,
  "kernelspec": {
   "display_name": "Python 2",
   "language": "python",
   "name": "python2"
  },
  "language_info": {
   "codemirror_mode": {
    "name": "ipython",
    "version": 2
   },
   "file_extension": ".py",
   "mimetype": "text/x-python",
   "name": "python",
   "nbconvert_exporter": "python",
   "pygments_lexer": "ipython2",
   "version": "2.7.12"
  },
  "latex_envs": {
   "LaTeX_envs_menu_present": true,
   "autocomplete": true,
   "bibliofile": "bibs/dissertation.bib",
   "cite_by": "apalike",
   "current_citInitial": 1,
   "eqLabelWithNumbers": true,
   "eqNumInitial": 1,
   "hotkeys": {
    "equation": "Ctrl-E",
    "itemize": "Ctrl-I"
   },
   "labels_anchors": false,
   "latex_user_defs": false,
   "report_style_numbering": false,
   "user_envs_cfg": false
  }
 },
 "nbformat": 4,
 "nbformat_minor": 2
}
