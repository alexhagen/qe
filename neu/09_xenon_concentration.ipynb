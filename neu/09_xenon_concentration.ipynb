{
 "cells": [
  {
   "cell_type": "code",
   "execution_count": 1,
   "metadata": {
    "collapsed": true
   },
   "outputs": [],
   "source": [
    "from lyxithea import lyxithea as lyx\n",
    "\n",
    "bib = lyx.bib('bibs/qe.bib')"
   ]
  },
  {
   "cell_type": "markdown",
   "metadata": {},
   "source": [
    "# Xenon Concentration\n",
    "\n",
    "The Xenon buildup in fission fuel is an important parameter to consider during burnup of fuel.  Xenon is a radioactive gas and causes many problems within the fuel cycle.  Besides these issues, calculation of Xenon buildup is also an illustration of how to use the Bateman equations, which has many other uses in nuclear engineering.\n",
    "\n",
    "To start, we know that Xenon can be produced directly in the fission process, at the rate of $\\gamma_{Xe}$, and can also come from the decay of Iodine that was produced by fission (at the rate of $\\gamma_{I}$).  Thus, we must define two equations\n",
    "$$\\frac{dN_{I}}{dt}=\\underbrace{\\gamma_{I}F\\left(t\\right)}_{\\text{production}} -\\underbrace{\\overline{\\lambda}_{I}N_{I}\\left(t\\right)}_{\\text{loss}}$$\n",
    "$$\\frac{dN_{Xe}}{dt}=\\underbrace{\\gamma_{Xe}F\\left(t\\right)+\\lambda_{I}N_{I}\\left(t\\right)}_{\\text{production}} -\\underbrace{\\overline{\\lambda}_{Xe}N_{Xe}\\left(t\\right)}_{\\text{loss}}$$\n",
    "with $\\sigma_{.}$ the cross section for neutron absorption, $\\phi$ the neutron flux, $F\\left( t \\right)$ the fission rate, and\n",
    "$$\\overline{\\lambda}_{I}=\\lambda_{I}+\\sigma_{I}\\phi\\left(t\\right)$$\n",
    "$$\\overline{\\lambda}_{Xe}=\\lambda_{Xe}+\\sigma_{Xe}\\phi\\left(t\\right)$$\n",
    "with $\\lambda_{x}$ the decay constant.\n",
    "\n",
    "Conceptually, both of these equations are simple:  they both read that the change in the concentration of the atom is the production of that atom (whether directly from fission or from decay of Iodine in the case of xenon) less the loss of that atom.  The loss of that atom is the sum of the natural decay and the neutron absorption probability (which will transmute the atom).\n",
    "\n",
    "To solve these equations, the integrating factor is used, and these steps are shown below\n",
    "$$\\frac{d}{dt}\\left[N_{I}\\left(t\\right)e^{\\overline{\\lambda}_{I}t}\\right]=\\gamma_{I}Fe^{\\overline{\\lambda}_{I}t}$$\n",
    "$$N_{I}\\left(t\\right)=N_{I}^{0}e^{\\overline{\\lambda}_{I}t}+\\frac{\\gamma_{I}F}{\\lambda_{I}}\\left(1-e^{\\overline{\\lambda}_{I}t}\\right)$$\n",
    "$$\\frac{d}{dt}\\left[N_{Xe}e^{\\overline{\\lambda}_{Xe}t}\\right]=\\left[\\gamma_{Xe}F+\\lambda_{I}N_{I}\\left(t\\right)\\right]e^{\\overline{\\lambda}_{Xe}t}$$\n",
    "$$\\begin{multline*}\n",
    "N_{Xe}\\left(t\\right)=N_{Xe}^{0}e^{\\overline{\\lambda}_{Xe}t}+\\frac{\\gamma_{Xe}F}{\\lambda_{Xe}}\\left(1-e^{-\\overline{\\lambda}_{Xe}t}\\right)+\\frac{\\lambda_{I}N_{I}^{0}}{\\overline{\\lambda}_{Xe}-\\overline{\\lambda}_{I}}\\left(e^{-\\overline{\\lambda}_{I}t}-e^{-\\overline{\\lambda}_{Xe}t}\\right)\\\\\n",
    "+\\frac{\\lambda_{I}\\gamma_{I}F}{\\overline{\\lambda}_{I}}\\left[\\frac{1}{\\overline{\\lambda}_{Xe}}\\left(1-e^{-\\overline{\\lambda}_{Xe}t}\\right)-\\frac{1}{\\overline{\\lambda}_{Xe}-\\overline{\\lambda}_{I}}\\left(e^{-\\overline{\\lambda}_{I}t}-e^{-\\overline{\\lambda}_{Xe}t}\\right)\\right]\n",
    "\\end{multline*}$$\n",
    "\n",
    "It should be noted that this can be more easily solved in matrix form, and modern computing makes it almost trivial to solve.  The program ORIGEN is often used for this purpose."
   ]
  },
  {
   "cell_type": "code",
   "execution_count": null,
   "metadata": {
    "collapsed": true
   },
   "outputs": [],
   "source": []
  }
 ],
 "metadata": {
  "hide_input": false,
  "kernelspec": {
   "display_name": "Python 2",
   "language": "python",
   "name": "python2"
  },
  "language_info": {
   "codemirror_mode": {
    "name": "ipython",
    "version": 2
   },
   "file_extension": ".py",
   "mimetype": "text/x-python",
   "name": "python",
   "nbconvert_exporter": "python",
   "pygments_lexer": "ipython2",
   "version": "2.7.12"
  },
  "latex_envs": {
   "LaTeX_envs_menu_present": true,
   "autocomplete": true,
   "bibliofile": "bibs/dissertation.bib",
   "cite_by": "apalike",
   "current_citInitial": 1,
   "eqLabelWithNumbers": true,
   "eqNumInitial": 1,
   "hotkeys": {
    "equation": "Ctrl-E",
    "itemize": "Ctrl-I"
   },
   "labels_anchors": false,
   "latex_user_defs": false,
   "report_style_numbering": false,
   "user_envs_cfg": false
  }
 },
 "nbformat": 4,
 "nbformat_minor": 2
}
