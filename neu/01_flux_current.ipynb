{
 "cells": [
  {
   "cell_type": "code",
   "execution_count": 3,
   "metadata": {
    "collapsed": false,
    "deletable": true,
    "editable": true
   },
   "outputs": [],
   "source": [
    "import lyxithea.lyxithea as lyx\n",
    "\n",
    "bib = lyx.bib('bibs/qe.bib')"
   ]
  },
  {
   "cell_type": "markdown",
   "metadata": {
    "deletable": true,
    "editable": true
   },
   "source": [
    "# Flux, Current, and Directional Current"
   ]
  },
  {
   "cell_type": "markdown",
   "metadata": {
    "deletable": true,
    "editable": true,
    "variables": {
     " bib.pcite('Lamarsh') ": "(<a href=\"#Lamarsh\">Lamarsh,  2002</a>)"
    }
   },
   "source": [
    "This material is taken from {{ bib.pcite('Lamarsh') }}. Note that in neutronics, the integrals are often written backwards, so $$\\int\\overbrace{\\mathscr{f}\\left(x, y, \\dots \\right)}^{\\text{integrand}} \\underbrace{dx dy \\dots}_{\\text{differential}} \\equiv \\int \\overbrace{dx dy \\dots}^{\\text{differential}} \\underbrace{\\mathscr{f}\\left(x, y, \\dots \\right)}_{\\text{integrand}}$$\n",
    "This can be confusing, but it's how it is.\n",
    "\n",
    "Also, often the integration of the polar angle $\\theta$ is done by substitution, so $$\\int_{0}^{\\pi}\\mathscr{f}\\left(\\theta \\right)\\sin \\theta d\\theta \\equiv \\int_{-1}^{1} \\mathscr{f} \\left( \\mu \\right) d\\mu$$"
   ]
  },
  {
   "cell_type": "markdown",
   "metadata": {},
   "source": [
    "Given a differential flux of $\\psi = a + b \\cos \\theta$, find the flux, current, and each directions partial current.\n",
    "\n",
    "To find the flux, we must integrate the differential flux over the solid angle $\\Omega$.  In spherical coordinates, $d\\Omega = \\sin \\theta d\\theta_{0}^{\\pi} d\\phi_{0}^{2\\pi}$ $$\\phi\\left(\\vec{r}\\right) = \\int_{0}^{2\\pi}\\int_{0}^{\\pi}\\left(a + b \\cos \\theta \\right) \\sin \\theta d\\theta d\\varphi$$ $$\\phi\\left(\\vec{r}\\right) = 2\\pi \\int_{-1}^{1}\\left(a + b \\mu \\right) d \\mu = 4\\pi a$$"
   ]
  },
  {
   "cell_type": "markdown",
   "metadata": {},
   "source": [
    "To find the current, we must integrate $\\phi \\Omega$ over $\\Omega$, so we have $$J=\\int_{0}^{2\\pi}\\int_{0}^{\\pi}\\left( a + b \\cos \\theta\\right) \\sin \\theta \\Omega d\\theta d\\varphi$$"
   ]
  },
  {
   "cell_type": "code",
   "execution_count": 4,
   "metadata": {
    "collapsed": false
   },
   "outputs": [
    {
     "data": {
      "text/html": [
       "<h2>Bibliography</h2>\n",
       "<ol>\n",
       "<li name=\"Lamarsh\">\n",
       "<!-- This document was automatically generated with bibtex2html 1.98\n",
       "     (see http://www.lri.fr/~filliatr/bibtex2html/),\n",
       "     with the following command:\n",
       "     /usr/bin/bibtex2html -nokeys -o - -s plain -nodoc -q /tmp/tmpeE0i67.bib  -->\n",
       "\n",
       "\n",
       "\n",
       "\n",
       "<p><a name=\"Lamarsh\"></a>\n",
       "\n",
       "John&nbsp;R Lamarsh.\n",
       " <em>Introduction to Nuclear Reactor Theory</em>.\n",
       " American Nuclear Society, La Grange Park, IL, 2002.\n",
       "\n",
       "</p>\n",
       "</li>\n",
       "</ol>\n"
      ],
      "text/plain": [
       "<IPython.core.display.HTML object>"
      ]
     },
     "metadata": {},
     "output_type": "display_data"
    }
   ],
   "source": [
    "bib.bibliography()"
   ]
  }
 ],
 "metadata": {
  "hide_input": false,
  "kernelspec": {
   "display_name": "Python 2",
   "language": "python",
   "name": "python2"
  },
  "language_info": {
   "codemirror_mode": {
    "name": "ipython",
    "version": 2
   },
   "file_extension": ".py",
   "mimetype": "text/x-python",
   "name": "python",
   "nbconvert_exporter": "python",
   "pygments_lexer": "ipython2",
   "version": "2.7.12"
  },
  "latex_envs": {
   "LaTeX_envs_menu_present": true,
   "autocomplete": true,
   "bibliofile": "bibs/dissertation.bib",
   "cite_by": "apalike",
   "current_citInitial": 1,
   "eqLabelWithNumbers": true,
   "eqNumInitial": 1,
   "hotkeys": {
    "equation": "Ctrl-E",
    "itemize": "Ctrl-I"
   },
   "labels_anchors": false,
   "latex_user_defs": false,
   "report_style_numbering": false,
   "user_envs_cfg": false
  }
 },
 "nbformat": 4,
 "nbformat_minor": 2
}
