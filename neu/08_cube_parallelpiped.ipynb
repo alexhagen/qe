{
 "cells": [
  {
   "cell_type": "code",
   "execution_count": 1,
   "metadata": {
    "collapsed": true
   },
   "outputs": [],
   "source": [
    "from lyxithea import lyxithea as lyx\n",
    "\n",
    "bib = lyx.bib('bibs/qe.bib')"
   ]
  },
  {
   "cell_type": "markdown",
   "metadata": {},
   "source": [
    "# Optimization of Reactor Design\n",
    "\n",
    "Much of reactor design uses optimization techniques to determine the best theoretical design before engineering considerations are then tackled.  The optimization of a parallelpiped for the best shape is a very simple example of this, but is instructive.\n",
    "\n",
    "To prove that a cube is the best parallelpiped for minimal critical volume, we start knowing the buckling and the volume equations for the parallelpiped.\n",
    "$$V=abc$$ $$B^{2}=\\left(\\frac{\\pi}{a}\\right)^{2}+\\left(\\frac{\\pi}{b}\\right)^{2}+\\left(\\frac{\\pi}{c}\\right)^{2}$$\n",
    "\n",
    "Now, we want to pose the problem with a Lagrange multiplier, $\\lambda$.\n",
    "$$V\\left(a,b,c,\\lambda\\right)=abc+\\lambda\\left[B^{2}-\\left(\\frac{\\pi}{a}\\right)^{2}-\\left(\\frac{\\pi}{b}\\right)^{2}-\\left(\\frac{\\pi}{c}\\right)^{2}\\right]$$\n",
    "\n",
    "This gives us an equation in four dimensions, where the minimum of that hyperplane is the location where the volume is minimized and the buckling criteria is satisfied. So, we take the derivatives and set them equal to zero\n",
    "$$\\begin{align*}\n",
    "\\frac{\\partial V}{\\partial a}=0 & =bc-\\frac{2\\pi^{2}\\lambda}{a^{3}}\\\\\n",
    "\\frac{\\partial V}{\\partial b}=0 & =ac-\\frac{2\\pi^{2}\\lambda}{b^{3}}\\\\\n",
    "\\frac{\\partial V}{\\partial c}=0 & =ab-\\frac{2\\pi^{2}\\lambda}{c^{3}}\n",
    "\\end{align*}$$\n",
    "\n",
    "Manipulation of these three equations leads us to another set of equations\n",
    "$$\\begin{align*}\n",
    "abc & =2\\lambda\\frac{\\pi^{2}}{a^{2}}\\\\\n",
    "abc & =2\\lambda\\frac{\\pi^{2}}{b^{2}}\\\\\n",
    "abc & =2\\lambda\\frac{\\pi^{2}}{c^{2}}\n",
    "\\end{align*}$$\n",
    "\n",
    "for which the only solution (this can be solved with substitution if it is not apparent) is\n",
    "$$a=b=c$$\n",
    "\n",
    "Which shows that the minimal volume for a parallelpiped critical reactor is a cube, and volume is\n",
    "$$V=a^{3}$$\n",
    "\n",
    "and buckling is\n",
    "$$B^{2}=3\\left(\\frac{\\pi}{a}\\right)^{2}$$"
   ]
  }
 ],
 "metadata": {
  "hide_input": false,
  "kernelspec": {
   "display_name": "Python 2",
   "language": "python",
   "name": "python2"
  },
  "language_info": {
   "codemirror_mode": {
    "name": "ipython",
    "version": 2
   },
   "file_extension": ".py",
   "mimetype": "text/x-python",
   "name": "python",
   "nbconvert_exporter": "python",
   "pygments_lexer": "ipython2",
   "version": "2.7.12"
  },
  "latex_envs": {
   "LaTeX_envs_menu_present": true,
   "autocomplete": true,
   "bibliofile": "bibs/dissertation.bib",
   "cite_by": "apalike",
   "current_citInitial": 1,
   "eqLabelWithNumbers": true,
   "eqNumInitial": 1,
   "hotkeys": {
    "equation": "Ctrl-E",
    "itemize": "Ctrl-I"
   },
   "labels_anchors": false,
   "latex_user_defs": false,
   "report_style_numbering": false,
   "user_envs_cfg": false
  }
 },
 "nbformat": 4,
 "nbformat_minor": 2
}
