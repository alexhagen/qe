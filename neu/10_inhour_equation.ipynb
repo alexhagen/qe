{
 "cells": [
  {
   "cell_type": "code",
   "execution_count": 4,
   "metadata": {
    "collapsed": true
   },
   "outputs": [],
   "source": [
    "from lyxithea import lyxithea as lyx\n",
    "from pym import func as pym\n",
    "from pyg import twod as pyg\n",
    "import numpy as np\n",
    "\n",
    "bib = lyx.bib('bibs/qe.bib')"
   ]
  },
  {
   "cell_type": "markdown",
   "metadata": {},
   "source": [
    "# Inhour Equation\n",
    "\n",
    "The inhour equation is a simplistic approach to reactor kinetics.  To develop the equations, we first assume that we are whithin an infinite reactor.  This is coupled with the assumption that **prompt neutrons slow down instananeously, as do delayed neutrons**.  By using that, we get the equation for the flux change as a function of decay time and the fission rate of the reactor.\n",
    "$$-\\phi_{T}\\left(t\\right)+\\frac{q_{T}\\left(t\\right)}{\\Sigma_{a}}=t_{d}\\frac{d\\phi_{T}\\left(t\\right)}{dt}$$\n",
    "We can then couple that with a grouped expressions for delayed neutrons, where $\\beta$ indicates the amount of delayed neutrons compared to total neutrons from a reactor.  This yields the equation\n",
    "$$\\left[\\left(1-\\beta\\right)k_{\\infty}-1\\right]\\phi_{T}\\left(t\\right)+\\frac{p}{\\Sigma_{a}}\\sum\\lambda_{i}C_{i}\\left(t\\right)=t_{d}\\frac{d\\phi_{T}\\left(t\\right)}{dt}$$\n",
    "and the (usually 6 equations of)\n",
    "$$\\frac{dC_{i}\\left(t\\right)}{dt}=\\beta_{i}\\frac{k_{\\infty}}{\\rho}\\overline{\\Sigma}_{a}\\phi_{T}\\left(t\\right)-\\lambda_{i}C_{i}\\left(t\\right)$$ which define the concentration of the delayed neutron parents.\n",
    "\n",
    "Finally, we can rearrange to get the **Inhour equation**.  $$\\rho=\\frac{k_{\\infty}-1}{k_{\\infty}}=\\frac{\\omega t_{d}}{1+\\omega t_{d}}+\\frac{\\omega}{1+\\omega t_{d}}\\sum_{i}\\frac{\\beta_{i}}{\\omega+\\lambda_{i}}$$, which graphically is plotted below."
   ]
  },
  {
   "cell_type": "code",
   "execution_count": 24,
   "metadata": {},
   "outputs": [
    {
     "data": {
      "text/html": [
       "\n",
       "\t\t\t\t<div class='pygfigure' name='inhour' style='text-align: center; max-width: 800px; margin-left: auto; margin-right: auto;'>\n",
       "\t\t\t\t\t<img style='margin: auto; max-width:100%; width:1250.000000px; height: auto;' src='inhour.svg?793697500' />\n",
       "\t\t\t\t\t<div style='margin: auto; text-align: center;' class='figurecaption'><b>Figure 18:</b> Typical solution of the inhour equation</div>\n",
       "\t\t\t\t</div>\n",
       "\t\t\t"
      ],
      "text/plain": [
       "<IPython.core.display.HTML object>"
      ]
     },
     "metadata": {},
     "output_type": "display_data"
    }
   ],
   "source": [
    "epsilon = 1.0E-9\n",
    "omega = np.concatenate([np.linspace(-lambda6- 0.5, -lambda5 - epsilon, 1000),\n",
    "                        np.linspace(-lambda5 + epsilon, -lambda4 - epsilon, 1000),\n",
    "                        np.linspace(-lambda4 + epsilon, -lambda3 - epsilon, 1000),\n",
    "                        np.linspace(-lambda3 + epsilon, -lambda2 - epsilon, 1000),\n",
    "                        np.linspace(-lambda2 + epsilon, -lambda1 - epsilon, 1000),\n",
    "                        np.linspace(-lambda1 + epsilon, 0.5, 1000)])\n",
    "td = 1.7e-5\n",
    "beta1 = 0.0002641\n",
    "lambda1 = 0.0127\n",
    "beta2 = 0.00148035\n",
    "lambda2 = 0.031\n",
    "beta3 = 0.0013066\n",
    "lambda3 = 0.1155\n",
    "beta4 = 0.00282865\n",
    "lambda4 = 0.310\n",
    "beta5 = 0.0008896\n",
    "lambda5 = 1.397\n",
    "beta6 = 0.0001807\n",
    "lambda6 = 3.871\n",
    "rho = omega*td / (1.0+omega*td) + (omega/(1.0+omega*td))*(beta1/(omega+lambda1) + beta2/(omega+lambda2)\n",
    "                                                          + beta3/(omega+lambda3) + beta4/(omega+lambda4)\n",
    "                                                          + beta5/(omega+lambda5) + beta6/(omega+lambda6))\n",
    "\n",
    "curve = pym.curve(omega, rho)\n",
    "plot = curve.plot(linestyle='-')\n",
    "plot.xlim(-lambda6 - 0.5, 0.5)\n",
    "plot.ylim(-1.1, 1.1)\n",
    "#plot.xlabel(r'Radius ($r$) [ ]')\n",
    "#plot.ylabel(r'Potential ($V\\left( r \\right)$) [ ]')\n",
    "plot.xticks([-lambda6, -lambda5, -lambda4, -lambda3, -lambda2, -lambda1],\n",
    "            [\"$-\\lambda6$\", \"$-\\lambda5$\", \"$-\\lambda4$\", \"$-\\lambda3$\", \"$-\\lambda2$\", \"$-\\lambda1$\",])\n",
    "#plot.yticks([-0.2, 0., 1.0], [r\"$- \\varepsilon$\", \"$0$\", \"$\\infty$\"])\n",
    "plot.lines_on()\n",
    "plot.markers_off()\n",
    "plot.export('inhour', force=True, ratio='silver')\n",
    "plot.show('Typical solution of the inhour equation', label='inhour')"
   ]
  },
  {
   "cell_type": "code",
   "execution_count": null,
   "metadata": {
    "collapsed": true
   },
   "outputs": [],
   "source": []
  }
 ],
 "metadata": {
  "hide_input": false,
  "kernelspec": {
   "display_name": "Python 2",
   "language": "python",
   "name": "python2"
  },
  "language_info": {
   "codemirror_mode": {
    "name": "ipython",
    "version": 2
   },
   "file_extension": ".py",
   "mimetype": "text/x-python",
   "name": "python",
   "nbconvert_exporter": "python",
   "pygments_lexer": "ipython2",
   "version": "2.7.12"
  },
  "latex_envs": {
   "LaTeX_envs_menu_present": true,
   "autocomplete": true,
   "bibliofile": "bibs/dissertation.bib",
   "cite_by": "apalike",
   "current_citInitial": 1,
   "eqLabelWithNumbers": true,
   "eqNumInitial": 1,
   "hotkeys": {
    "equation": "Ctrl-E",
    "itemize": "Ctrl-I"
   },
   "labels_anchors": false,
   "latex_user_defs": false,
   "report_style_numbering": false,
   "user_envs_cfg": false
  }
 },
 "nbformat": 4,
 "nbformat_minor": 2
}
