{
 "cells": [
  {
   "cell_type": "code",
   "execution_count": 1,
   "metadata": {},
   "outputs": [],
   "source": [
    "from lyxithea import lyxithea as lyx\n",
    "\n",
    "bib = lyx.bib('bibs/qe.bib')"
   ]
  },
  {
   "cell_type": "markdown",
   "metadata": {
    "variables": {
     " bib.pcite('Lamarsh') ": "(<a href=\"#Lamarsh\">Lamarsh,  2002</a>)"
    }
   },
   "source": [
    "# Differential Scattering Cross Section\n",
    "\n",
    "Conversion of the differential scattering cross section to an actual cross section is essential, and can be found in {{ bib.pcite('Lamarsh') }} or really any other neutronics textbook."
   ]
  },
  {
   "cell_type": "markdown",
   "metadata": {},
   "source": [
    "We start with the differential elastic scattering cross section.  For $\\ce{^{4}He}$, it's\n",
    "$$\\sigma_{s} \\left(\\theta_{c}\\right)=\\frac{\\sigma_{s}}{4\\pi}\\left( 1 + \\cos \\theta_{c}\\right)$$"
   ]
  },
  {
   "cell_type": "markdown",
   "metadata": {},
   "source": [
    "Note that the second $\\sigma_{s}$ is a constant.  As always, the neutronics community has some strange notation conventions.  \n",
    "\n",
    "From here, we need to determine the full cross section $\\sigma_{s}$.  We start by integrating over the solid angle.\n",
    "\n",
    "$$\\sigma_{s}\t=\\int_{4\\pi}\\sigma_{s}\\left(\\theta_{c}\\right)d\\Omega\\left(\\theta_{c}\\right)$$\n",
    "$$\n",
    "\t\\sigma_{s}=\\int_{0}^{2\\pi}\\int_{0}^{\\pi}\\frac{\\sigma_{s}}{4\\pi}\\left(1+\\cos\\theta_{c}\\right)\\sin\\theta_{c}d\\theta_{c}d\\varphi$$"
   ]
  },
  {
   "cell_type": "markdown",
   "metadata": {},
   "source": [
    "Now, we use $\\mu$ substitution, and from there it is just integration and algbra.\n",
    "\n",
    "$$\\sigma_{s}=2\\pi\\int_{-1}^{1}\\frac{\\sigma_{s}}{4\\pi}\\left(1+\\mu_{c}\\right)d\\mu_{c}$$\n",
    "$$\\sigma_{s}=2\\pi\\left[\\frac{2\\sigma_{s}}{4\\pi}\\right]=\\sigma_{s}$$"
   ]
  },
  {
   "cell_type": "markdown",
   "metadata": {},
   "source": [
    "So this exercise was a little dumb.  Of course $\\sigma_{s}=\\sigma_{s}$, but we can use this to determine more difficult things, like what fraction of elastically scattered neutrons appear at angles greater than $90^{\\circ}$ in the center of mass frame.\n",
    "\n",
    "To do this, we start with the same scattering cross section, but we only integrate through angles $90^{\\circ}$ to $180^{\\circ}$.  So we have\n",
    "\n",
    "$$\\sigma_{>90^{\\circ}}=\\int_{0}^{2\\pi}\\int_{\\frac{\\pi}{2}}^{\\pi}\\frac{\\sigma_{s}}{4\\pi}\\left(1+\\cos\\theta_{c}\\right)\\sin\\theta_{c}d\\theta_{c}d\\varphi$$\n",
    "\n",
    "Then we do our typical $\\mu$ substitution.  Note that the $\\mu$ substitution goes from $-1$ to $0$ because those are the $\\cos$ values at $\\nicefrac{\\pi}{2}$ and $\\pi$, reversed.  The reversal comes because  $d\\mu = - \\sin \\theta d\\theta$, so the reversal removes the negative sign.  Then, we can do the algebra and find\n",
    "$$\\sigma_{>90^{\\circ}}=2\\pi\\int_{-1}^{0}\\frac{\\sigma_{s}}{4\\pi}\\left(1+\\mu_{c}\\right)d\\mu_{c}$$\n",
    "\n",
    "$$\\sigma_{>90^{\\circ}}=\\frac{\\sigma_{s}}{4}$$\n",
    "\n",
    "Which shows that $\\nicefrac{1}{4}$ of the neutrons are scattered through those high angles (backscattered)."
   ]
  },
  {
   "cell_type": "code",
   "execution_count": 2,
   "metadata": {},
   "outputs": [
    {
     "data": {
      "text/html": [
       "<h2>Bibliography</h2>\n",
       "<ol>\n",
       "<li name=\"Lamarsh\">\n",
       "<!-- This document was automatically generated with bibtex2html 1.98\n",
       "     (see http://www.lri.fr/~filliatr/bibtex2html/),\n",
       "     with the following command:\n",
       "     /usr/bin/bibtex2html -nokeys -o - -s plain -nodoc -q /tmp/tmpazKfKO.bib  -->\n",
       "\n",
       "\n",
       "\n",
       "\n",
       "<p><a name=\"Lamarsh\"></a>\n",
       "\n",
       "John&nbsp;R Lamarsh.\n",
       " <em>Introduction to Nuclear Reactor Theory</em>.\n",
       " American Nuclear Society, La Grange Park, IL, 2002.\n",
       "\n",
       "</p>\n",
       "</li>\n",
       "</ol>\n"
      ],
      "text/plain": [
       "<IPython.core.display.HTML object>"
      ]
     },
     "metadata": {},
     "output_type": "display_data"
    }
   ],
   "source": [
    "bib.bibliography()"
   ]
  }
 ],
 "metadata": {
  "hide_input": false,
  "kernelspec": {
   "display_name": "Python 2",
   "language": "python",
   "name": "python2"
  },
  "language_info": {
   "codemirror_mode": {
    "name": "ipython",
    "version": 2
   },
   "file_extension": ".py",
   "mimetype": "text/x-python",
   "name": "python",
   "nbconvert_exporter": "python",
   "pygments_lexer": "ipython2",
   "version": "2.7.12"
  },
  "latex_envs": {
   "LaTeX_envs_menu_present": true,
   "autocomplete": true,
   "bibliofile": "bibs/dissertation.bib",
   "cite_by": "apalike",
   "current_citInitial": 1,
   "eqLabelWithNumbers": true,
   "eqNumInitial": 1,
   "hotkeys": {
    "equation": "Ctrl-E",
    "itemize": "Ctrl-I"
   },
   "labels_anchors": false,
   "latex_user_defs": false,
   "report_style_numbering": false,
   "user_envs_cfg": false
  }
 },
 "nbformat": 4,
 "nbformat_minor": 2
}
