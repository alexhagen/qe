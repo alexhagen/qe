{
 "cells": [
  {
   "cell_type": "code",
   "execution_count": 1,
   "metadata": {
    "collapsed": true
   },
   "outputs": [],
   "source": [
    "from lyxithea import lyxithea as lyx\n",
    "\n",
    "bib = lyx.bib('bibs/qe.bib')"
   ]
  },
  {
   "cell_type": "markdown",
   "metadata": {
    "variables": {
     " bib.pcite('Lamarsh') ": "(<a href=\"#Lamarsh\">Lamarsh,  2002</a>)"
    }
   },
   "source": [
    "# Lab Frame versus COM\n",
    "\n",
    "An important distinction in neutronics is the lab frame versus the center-of-mass frame, and how to convert between the two.\n",
    "\n",
    "The central conversion is simple, defined as $$\\cos \\theta_{s} = \\frac{1 + A \\cos \\theta_{c}}{\\sqrt{A^{2}+2A\\cos \\theta_{c}+1}}$$ However, applying this can prove more difficult."
   ]
  },
  {
   "cell_type": "markdown",
   "metadata": {},
   "source": [
    "For example, we can try to show that scattered neutrons are always forward directional in the lab frame ($0\\leq \\theta_{s} \\leq \\nicefrac{\\pi}{2}$).\n",
    "\n",
    "We start with the above correlation between lab and COM frame, and since this is a neutron, $A=1$, so\n",
    "\n",
    "$$\\cos \\theta_{s} = \\frac{1+\\cos \\theta_{c}}{\\sqrt{2+2\\cos \\theta_{c}}} = \\sqrt{\\frac{1+\\cos \\theta_{c}}{2}}$$\n",
    "\n",
    "And from there, we can square both sides and perform algebraic simplification.\n",
    "\n",
    "$$2\\cos^{s} \\theta_{s}=\\cos \\theta_{c} + 1 \\therefore 2\\cos^{2} \\theta_{s} -1 = \\cos \\theta_{c}$$\n",
    "\n",
    "and using identities,\n",
    "\n",
    "$$\\cos \\left( 2\\theta_{s}\\right) = \\cos \\theta_{c} \\therefore 2\\theta_{s} = \\theta_{c}$$\n",
    "\n",
    "This leads to the conclusion that the lab frame angle is always half of the center of mass angle.  So, even if the the center of mass angle was $180^{\\circ}$, the lab angle would only be $90^{\\circ}$, which is to say that a neutron can never backscatter."
   ]
  },
  {
   "cell_type": "markdown",
   "metadata": {},
   "source": [
    "Another example is to find the scattering cross section as a function of $\\mu_{c}=\\cos \\theta_{c}$.  We start with the definition of the differential cross section $$\\sigma_{s} \\left( \\theta_{c}, \\phi_{c}\\right) = \\frac{\\sigma_{s}}{4 \\pi}$$ and then we integrate this over the whole range of $\\phi_{c}$ $$\\sigma_{s} \\left( \\theta_{c}\\right) = \\int_{0}^{2\\pi} \\frac{\\sigma_{s}}{4\\pi}d\\phi = 2\\pi \\frac{\\sigma_{s}}{4\\pi}$$ And convert to $\\mu_{c}$ (which requires no manipulation since $\\theta_{c}$ does not appear in the expression).  So, finally, we have $$\\sigma_{s}\\left( \\mu_{c}\\right)=\\frac{\\sigma_{s}}{2}$$"
   ]
  },
  {
   "cell_type": "markdown",
   "metadata": {
    "collapsed": true
   },
   "source": [
    "The last example is, using the above, to find the cross section in the lab frame.  We start with the conversion from $\\mu_{c}\\rightarrow \\mu_{s}$.  $$\\sigma_{s}\\left( \\mu_{s}\\right) = \\sigma_{s}\\left(\\mu_{c}\\right) \\left| \\frac{d\\mu_{c}}{d\\mu_{s}}\\right|$$ and, since $$\\mu_{s} = \\sqrt{\\frac{1+\\mu_{c}}{2}}$$ $$d\\mu_{s}=\\frac{1}{2\\sqrt{2\\left(1+\\mu_{c}\\right)}} d\\mu_{c}$$ we can now plug this in $$\\sigma_{s}\\left( \\mu_{s}\\right)= \\sigma_{s}\\sqrt{2\\left(1 + \\mu_{c}\\right)}=2\\sigma_{s}\\mu_{s}$$"
   ]
  }
 ],
 "metadata": {
  "hide_input": false,
  "kernelspec": {
   "display_name": "Python 2",
   "language": "python",
   "name": "python2"
  },
  "language_info": {
   "codemirror_mode": {
    "name": "ipython",
    "version": 2
   },
   "file_extension": ".py",
   "mimetype": "text/x-python",
   "name": "python",
   "nbconvert_exporter": "python",
   "pygments_lexer": "ipython2",
   "version": "2.7.12"
  },
  "latex_envs": {
   "LaTeX_envs_menu_present": true,
   "autocomplete": true,
   "bibliofile": "bibs/dissertation.bib",
   "cite_by": "apalike",
   "current_citInitial": 1,
   "eqLabelWithNumbers": true,
   "eqNumInitial": 1,
   "hotkeys": {
    "equation": "Ctrl-E",
    "itemize": "Ctrl-I"
   },
   "labels_anchors": false,
   "latex_user_defs": false,
   "report_style_numbering": false,
   "user_envs_cfg": false
  }
 },
 "nbformat": 4,
 "nbformat_minor": 2
}
