{
 "cells": [
  {
   "cell_type": "code",
   "execution_count": 1,
   "metadata": {
    "collapsed": true,
    "deletable": true,
    "editable": true
   },
   "outputs": [],
   "source": [
    "from lyxithea import lyxithea as lyx\n",
    "\n",
    "bib = lyx.bib('bibs/qe.bib')"
   ]
  },
  {
   "cell_type": "markdown",
   "metadata": {
    "deletable": true,
    "editable": true,
    "variables": {
     " bib.pcite('Lamarsh') ": "(<a href=\"#Lamarsh\">Lamarsh,  2002</a>)"
    }
   },
   "source": [
    "# Neutron Decay before Absorption\n",
    "\n",
    "Dr. Yang (my professor for neutronics) considered it absolutely essential to prove that the probability of the neutron itself decaying was negligible for common applications of neutronics.  I believe the cross sections and half lives come from {{ bib.pcite('Lamarsh') }}, but I'm not sure where this idea is fleshed out first."
   ]
  },
  {
   "cell_type": "markdown",
   "metadata": {
    "deletable": true,
    "editable": true
   },
   "source": [
    "We start with the half life of a neutron, which is $12\\unit{min}$, and we compare that to a thermal neutron traveling through water.  The water has an absorption cross section of $\\Sigma_{a}=0.022\\unit{cm}$.  So, as a general analysis point, we want to find out the average lifetime of a neutron subject to decay, and the average lifetime of a neutron subject to absorption."
   ]
  },
  {
   "cell_type": "markdown",
   "metadata": {
    "collapsed": true,
    "deletable": true,
    "editable": true
   },
   "source": [
    "Determination of the lifetime due to decay is straightforward.  We simply use the halflife formula to convert the half life to a lifetime. $$T_{\\nicefrac{1}{2}} = \\frac{\\ln \\left( 2 \\right)}{\\lambda}$$ $$\\lambda = \\frac{1}{\\tau_{d}}$$ $$\\tau_{d} = \\frac{T_{\\nicefrac{1}{2}}}{\\ln \\left( 2 \\right)}=1038.74\\unit{s}$$"
   ]
  },
  {
   "cell_type": "markdown",
   "metadata": {
    "deletable": true,
    "editable": true
   },
   "source": [
    "The calculation of the lifetime of an absorbed neutron is only slightly more complicated.  First, we'll determine its \"mean free path\" (which is denoted by $\\lambda$ in usual nomenclature like decay rate from above, so we'll use $\\Lambda$), and then, using the velocity of a thermal neutron, we'll convert that to a lifetime. $$\\Lambda = \\frac{1}{\\Sigma_{a}}$$ $$v=\\sqrt{\\frac{E}{2m}}=\\sqrt{\\frac{0.0257\\unit{eV}}{2\\cdot 938\\unit{\\frac{MeV}{c^2}}}}$$ $$\\tau_{a}=\\frac{\\Lambda}{v}=\\frac{50\\unit{cm}}{2200\\unit{\\nicefrac{cm}{s}}}=2\\times 10^{-4}\\unit{s}$$"
   ]
  },
  {
   "cell_type": "markdown",
   "metadata": {
    "deletable": true,
    "editable": true
   },
   "source": [
    "So, following the above calculation, the mean lifetime of a neutron before absorption is $10^{7}$ shorter than that of a neutron before its own decay.  Note that the cross section is conservative, there are larger absorbers; the speed of the neutron is also conservative, thermal neutrons are the slowest without going to great lengths (anything slower are called \"cold\" neutrons and do not happen naturally).  Therefore the probability of decay is very small, and is negligible to our current uncertainties in neutrons."
   ]
  },
  {
   "cell_type": "code",
   "execution_count": 2,
   "metadata": {
    "collapsed": false,
    "deletable": true,
    "editable": true
   },
   "outputs": [
    {
     "data": {
      "text/html": [
       "<h2>Bibliography</h2>\n",
       "<ol>\n",
       "<li name=\"Lamarsh\">\n",
       "<!-- This document was automatically generated with bibtex2html 1.98\n",
       "     (see http://www.lri.fr/~filliatr/bibtex2html/),\n",
       "     with the following command:\n",
       "     bibtex2html -nokeys -o - -s plain -nodoc -q /var/folders/cy/f4wwjss96p34f35b2w98ynk80000gp/T/tmpDUOOgr.bib  -->\n",
       "\n",
       "\n",
       "\n",
       "\n",
       "<p><a name=\"Lamarsh\"></a>\n",
       "\n",
       "John&nbsp;R Lamarsh.\n",
       " <em>Introduction to Nuclear Reactor Theory</em>.\n",
       " American Nuclear Society, La Grange Park, IL, 2002.\n",
       "\n",
       "</p>\n",
       "</li>\n",
       "</ol>\n"
      ],
      "text/plain": [
       "<IPython.core.display.HTML object>"
      ]
     },
     "metadata": {},
     "output_type": "display_data"
    }
   ],
   "source": [
    "bib.bibliography()"
   ]
  },
  {
   "cell_type": "code",
   "execution_count": null,
   "metadata": {
    "collapsed": true
   },
   "outputs": [],
   "source": []
  }
 ],
 "metadata": {
  "hide_input": false,
  "kernelspec": {
   "display_name": "Python 2",
   "language": "python",
   "name": "python2"
  },
  "language_info": {
   "codemirror_mode": {
    "name": "ipython",
    "version": 2
   },
   "file_extension": ".py",
   "mimetype": "text/x-python",
   "name": "python",
   "nbconvert_exporter": "python",
   "pygments_lexer": "ipython2",
   "version": "2.7.13"
  },
  "latex_envs": {
   "LaTeX_envs_menu_present": true,
   "autocomplete": true,
   "bibliofile": "bibs/dissertation.bib",
   "cite_by": "apalike",
   "current_citInitial": 1,
   "eqLabelWithNumbers": true,
   "eqNumInitial": 1,
   "hotkeys": {
    "equation": "Ctrl-E",
    "itemize": "Ctrl-I"
   },
   "labels_anchors": false,
   "latex_user_defs": false,
   "report_style_numbering": false,
   "user_envs_cfg": false
  }
 },
 "nbformat": 4,
 "nbformat_minor": 2
}
