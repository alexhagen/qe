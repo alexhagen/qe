{
 "cells": [
  {
   "cell_type": "code",
   "execution_count": 1,
   "metadata": {
    "collapsed": true
   },
   "outputs": [],
   "source": [
    "from lyxithea import lyxithea as lyx\n",
    "from pyg import twod as pyg2d\n",
    "\n",
    "bib = lyx.bib('bibs/qe.bib')"
   ]
  },
  {
   "cell_type": "markdown",
   "metadata": {
    "variables": {
     " bib.pcite('Lamarsh') ": "(<a href=\"#Lamarsh\">Lamarsh,  2002</a>)"
    }
   },
   "source": [
    "# Flux and current in a spherical fusion chamber\n",
    "\n",
    "This problem is from NUCL 510, but plays off of the material in {{ bib.pcite('Lamarsh') }}.\n",
    "\n",
    "Neutrons are produced uniformly and isotropically throughout a spherical chamber containing a fixture of $\\ce{^3}{H}$ and $\\ce{^{2}H}$ gasses at $1\\times 10^{8} \\unit{K}$.  Calculate the flux and current in the chamber."
   ]
  },
  {
   "cell_type": "code",
   "execution_count": 2,
   "metadata": {
    "collapsed": true
   },
   "outputs": [],
   "source": [
    "plot = pyg2d.pyg2d()"
   ]
  },
  {
   "cell_type": "markdown",
   "metadata": {},
   "source": [
    "We know that there are fusion reactions $$\\ce{T}\\left(d, n\\right) \\ce{^{4}He}$$ and $$\\ce{D}\\left(d, n\\right)\\ce{^{3}He}$$."
   ]
  },
  {
   "cell_type": "markdown",
   "metadata": {},
   "source": [
    "First we set up the geometry.  We have a sphere with its $z$ axis through point $A$.  $dV$ is the volume of the skirt $\\overline{AB}$.  so we have $$d\\psi = \\frac{S}{4 \\pi r^{2}} dV$$"
   ]
  },
  {
   "cell_type": "markdown",
   "metadata": {},
   "source": [
    "We know that $\\phi = \\int_{V} d\\psi$, so we integrate from $0$ to $2R \\cos \\theta$."
   ]
  },
  {
   "cell_type": "markdown",
   "metadata": {},
   "source": [
    "$$\\phi = \\int_{0}^{\\nicefrac{pi}{2}} \\int_{0}^{2R\\cos \\theta} \\frac{S}{4\\pi r^{2}} \\underbrace{r^{2} \\sin \\theta dr d\\theta d\\varphi}_{\\text{spherical lagrangian}}$$\n",
    "\n",
    "$$\\phi = \\frac{S}{2}\\int_{0}^{1} \\int_{0}^{2R\\mu} drd\\mu$$\n",
    "\n",
    "$$\\phi = SR\\int_{0}^{1}\\mu d\\mu$$\n",
    "\n",
    "$$\\phi = \\frac{SR}{2}$$\n"
   ]
  },
  {
   "cell_type": "markdown",
   "metadata": {},
   "source": [
    "For current, we need to apply the solid angle\n",
    "\n",
    "$$\\vec{\\Omega} = \\left( \\sin \\theta \\cos \\varphi, \\sin \\theta \\sin \\varphi, \\cos \\theta \\right)$$\n",
    "\n",
    "$$\\vec{J} = \\int_{0}{\\nicefrac{\\pi}{2}} \\int_{0}{2R\\cos \\theta} \\int_{0}^{2\\pi} \\frac{S}{4\\pi r^{2}} \\vec{\\Omega} r^{2}\\sin \\theta d\\varphi dr d\\theta$$\n",
    "\n",
    "and with $\\int_{0}^{2\\pi} \\cos \\varphi d\\varphi=\\int_{0}^{2\\pi} \\sin \\varphi d\\varphi=0$, therefore $J_{x} = 0$ and $J_{y}=0$\n",
    "\n",
    "$$J_{z} = \\int_{0}{\\nicefrac{\\pi}{2}} \\int_{0}{2R\\cos \\theta} \\int_{0}^{2\\pi} \\frac{S}{4\\pi } \\cos \\theta \\sin \\theta d\\varphi dr d\\theta$$\n",
    "\n",
    "$$J_{z} = \\frac{S}{2}\\int_{0}^{1} \\int_{0}^{2R\\mu} \\mu dr d\\mu$$\n",
    "\n",
    "$$J_{z} = \\frac{SR}{3}\\times \\vec{e_{z}} = \\frac{SR}{3}\\times \\vec{e_{r}}$$\n"
   ]
  },
  {
   "cell_type": "code",
   "execution_count": 3,
   "metadata": {},
   "outputs": [
    {
     "data": {
      "text/html": [
       "<h2>Bibliography</h2>\n",
       "<ol>\n",
       "<li name=\"Lamarsh\">\n",
       "<!-- This document was automatically generated with bibtex2html 1.98\n",
       "     (see http://www.lri.fr/~filliatr/bibtex2html/),\n",
       "     with the following command:\n",
       "     /usr/bin/bibtex2html -nokeys -o - -s plain -nodoc -q /tmp/tmpiYVIAy.bib  -->\n",
       "\n",
       "\n",
       "\n",
       "\n",
       "<p><a name=\"Lamarsh\"></a>\n",
       "\n",
       "John&nbsp;R Lamarsh.\n",
       " <em>Introduction to Nuclear Reactor Theory</em>.\n",
       " American Nuclear Society, La Grange Park, IL, 2002.\n",
       "\n",
       "</p>\n",
       "</li>\n",
       "</ol>\n"
      ],
      "text/plain": [
       "<IPython.core.display.HTML object>"
      ]
     },
     "metadata": {},
     "output_type": "display_data"
    }
   ],
   "source": [
    "bib.bibliography()"
   ]
  }
 ],
 "metadata": {
  "hide_input": false,
  "kernelspec": {
   "display_name": "Python 2",
   "language": "python",
   "name": "python2"
  },
  "language_info": {
   "codemirror_mode": {
    "name": "ipython",
    "version": 2
   },
   "file_extension": ".py",
   "mimetype": "text/x-python",
   "name": "python",
   "nbconvert_exporter": "python",
   "pygments_lexer": "ipython2",
   "version": "2.7.12"
  },
  "latex_envs": {
   "LaTeX_envs_menu_present": true,
   "autocomplete": true,
   "bibliofile": "bibs/dissertation.bib",
   "cite_by": "apalike",
   "current_citInitial": 1,
   "eqLabelWithNumbers": true,
   "eqNumInitial": 1,
   "hotkeys": {
    "equation": "Ctrl-E",
    "itemize": "Ctrl-I"
   },
   "labels_anchors": false,
   "latex_user_defs": false,
   "report_style_numbering": false,
   "user_envs_cfg": false
  }
 },
 "nbformat": 4,
 "nbformat_minor": 2
}
