{
 "cells": [
  {
   "cell_type": "code",
   "execution_count": 2,
   "metadata": {
    "collapsed": true
   },
   "outputs": [],
   "source": [
    "import lyxithea.lyxithea as lyx\n",
    "\n",
    "bib = lyx.bib('bibs/qe.bib')"
   ]
  },
  {
   "cell_type": "markdown",
   "metadata": {},
   "source": [
    "# Vector Operators"
   ]
  },
  {
   "cell_type": "markdown",
   "metadata": {
    "variables": {
     " bib.pcite('Bird2007') ": "(<a href=\"#Bird2007\">Bird,  et. al. 2007</a>)"
    }
   },
   "source": [
    "Based on material from {{ bib.pcite('Bird2007') }}."
   ]
  },
  {
   "cell_type": "markdown",
   "metadata": {},
   "source": [
    "## Gradient ($\\nabla$)\n",
    "\n",
    "| Property    |  Expression |\n",
    "| ----------- | ----------- |\n",
    "| Commutative | $\\nabla\\left(fg\\right)=f\\nabla g+g\\nabla f$ |\n",
    "| Cartesian   | $\\nabla f=\\frac{\\partial f}{\\partial x}\\hat{x}+\\frac{\\partial f}{\\partial y}\\hat{y}+\\frac{\\partial f}{\\partial z}\\hat{z}$ |\n",
    "| Cylindrical | $\\nabla f=\\frac{\\partial f}{\\partial r}\\hat{r}+\\frac{1}{r}\\frac{\\partial f}{\\partial\\theta}\\hat{\\theta}+\\frac{\\partial f}{\\partial z}\\hat{z}$ |\n",
    "| Spherical   | $\\nabla f=\\frac{\\partial f}{\\partial r}\\hat{r}+\\frac{1}{r}\\frac{\\partial f}{\\partial\\theta}\\hat{\\theta}+\\frac{1}{r\\sin\\left(\\theta\\right)}\\frac{\\partial f}{\\partial\\phi}\\hat{\\phi}$ |"
   ]
  },
  {
   "cell_type": "markdown",
   "metadata": {},
   "source": [
    "## Divergence ($\\nabla \\cdot$)"
   ]
  },
  {
   "cell_type": "markdown",
   "metadata": {},
   "source": [
    "| Property | Expression |\n",
    "| -------- | ---------- |\n",
    "| Commutative | $\\nabla\\cdot\\left(f\\vec{v}\\right)=f\\left(\\nabla\\cdot\\vec{v}\\right)+\\vec{v}\\cdot\\left(\\nabla\\cdot f\\right)$ |\n",
    "| Cartesian   | $\\nabla\\cdot f=\\frac{\\partial v_{x}}{\\partial x}+\\frac{\\partial v_{y}}{\\partial y}+\\frac{\\partial v_{z}}{\\partial z}$ |\n",
    "| Cylindrical | $\\nabla\\cdot f=\\frac{1}{r}\\frac{\\partial\\left(rv_{r}\\right)}{\\partial r}+\\frac{1}{r}\\frac{\\partial v_{\\theta}}{\\partial\\theta}+\\frac{\\partial v_{z}}{\\partial z}$ |\n",
    "| Spherical   | $\\nabla\\cdot f=\\frac{1}{r^{2}}\\frac{\\partial\\left(r^{2}v_{r}\\right)}{\\partial r}+\\frac{1}{r\\sin\\left(\\theta\\right)}\\frac{\\partial\\left(\\sin\\left(\\theta\\right)v_{\\theta}\\right)}{\\partial\\theta}+\\frac{1}{r\\sin\\left(\\theta\\right)}\\frac{\\partial v_{\\phi}}{\\partial\\phi}$ |"
   ]
  },
  {
   "cell_type": "markdown",
   "metadata": {},
   "source": [
    "## Laplacian ($\\nabla^{2}$)"
   ]
  },
  {
   "cell_type": "markdown",
   "metadata": {},
   "source": [
    "| Property | Expression |\n",
    "| -------- | ---------- |\n",
    "| Cartesian   | $\\nabla^{2}f=\\frac{\\partial^{2}f}{\\partial x^{2}}+\\frac{\\partial^{2}f}{\\partial y^{2}}+\\frac{\\partial^{2}f}{\\partial z^{2}}$ |\n",
    "| Cylindrical | $\\nabla^{2}f=\\frac{1}{r}\\frac{\\partial}{\\partial r}\\left(r\\frac{\\partial f}{\\partial r}\\right)+\\frac{1}{r^{2}}\\frac{\\partial^{2}f}{\\partial\\theta^{2}}+\\frac{\\partial^{2}f}{\\partial z^{2}}$ |\n",
    "| Spherical   | $\\nabla^{2}f=\\frac{1}{r^{2}}\\frac{\\partial}{\\partial r}\\left(r^{2}\\frac{\\partial f}{\\partial r}\\right)+\\frac{1}{r^{2}\\sin\\left(\\theta\\right)}\\frac{\\partial}{\\partial\\theta}\\left(\\sin\\left(\\theta\\right)\\frac{\\partial f}{\\partial\\theta}\\right)+\\frac{1}{r^{2}\\sin^{2}\\left(\\theta\\right)}\\frac{\\partial f}{\\partial\\phi}$ |"
   ]
  },
  {
   "cell_type": "code",
   "execution_count": 3,
   "metadata": {
    "collapsed": false
   },
   "outputs": [
    {
     "data": {
      "text/html": [
       "<h2>Bibliography</h2>\n",
       "<ol>\n",
       "<li name=\"Bird2007\">\n",
       "<!-- This document was automatically generated with bibtex2html 1.98\n",
       "     (see http://www.lri.fr/~filliatr/bibtex2html/),\n",
       "     with the following command:\n",
       "     /usr/bin/bibtex2html -nokeys -o - -s plain -nodoc -q /tmp/tmpn8Qxz_.bib  -->\n",
       "\n",
       "\n",
       "\n",
       "\n",
       "<p><a name=\"Bird2007\"></a>\n",
       "\n",
       "R.&nbsp;B. Bird, W.&nbsp;E. Stewart, and E.&nbsp;N. Lightfoot.\n",
       " <em>Transport Phenomena</em>.\n",
       " John Wiley &amp; Sons, Inc., New York, NY, 2nd edition, 2007.\n",
       "\n",
       "</p>\n",
       "</li>\n",
       "</ol>\n"
      ],
      "text/plain": [
       "<IPython.core.display.HTML object>"
      ]
     },
     "metadata": {},
     "output_type": "display_data"
    }
   ],
   "source": [
    "bib.bibliography()"
   ]
  },
  {
   "cell_type": "code",
   "execution_count": null,
   "metadata": {
    "collapsed": true
   },
   "outputs": [],
   "source": []
  }
 ],
 "metadata": {
  "hide_input": false,
  "kernelspec": {
   "display_name": "Python 2",
   "language": "python",
   "name": "python2"
  },
  "language_info": {
   "codemirror_mode": {
    "name": "ipython",
    "version": 2
   },
   "file_extension": ".py",
   "mimetype": "text/x-python",
   "name": "python",
   "nbconvert_exporter": "python",
   "pygments_lexer": "ipython2",
   "version": "2.7.12"
  },
  "latex_envs": {
   "LaTeX_envs_menu_present": true,
   "autocomplete": true,
   "bibliofile": "bibs/dissertation.bib",
   "cite_by": "apalike",
   "current_citInitial": 1,
   "eqLabelWithNumbers": true,
   "eqNumInitial": 1,
   "hotkeys": {
    "equation": "Ctrl-E",
    "itemize": "Ctrl-I"
   },
   "labels_anchors": false,
   "latex_user_defs": false,
   "report_style_numbering": false,
   "user_envs_cfg": false
  }
 },
 "nbformat": 4,
 "nbformat_minor": 2
}
