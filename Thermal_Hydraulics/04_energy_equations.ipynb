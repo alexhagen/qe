{
 "cells": [
  {
   "cell_type": "code",
   "execution_count": 1,
   "metadata": {
    "collapsed": true
   },
   "outputs": [],
   "source": [
    "import lyxithea.lyxithea as lyx\n",
    "\n",
    "bib = lyx.bib('bibs/qe.bib')"
   ]
  },
  {
   "cell_type": "markdown",
   "metadata": {
    "variables": {
     " bib.pcite('Bird2007') ": "(<a href=\"#Bird2007\">Bird,  et. al. 2007</a>)"
    }
   },
   "source": [
    "# Energy Equations\n",
    "\n",
    "This material is from {{ bib.pcite('Bird2007') }}.  We will finish up our derivation of the conservation equations with the conservation of energy.  This equation is significantly more complicated, and is given in many forms without the assumptions required to simplify it."
   ]
  },
  {
   "cell_type": "markdown",
   "metadata": {},
   "source": [
    "## Energy equation\n",
    "\n",
    "Applying the GBE with $\\psi=\\rho\\left(u+\\frac{\\vec{v}^{2}}{2}\\right)$, $\\mathbb{J}=\\vec{q}+\\mathbb{T}\\vec{v}$ and $\\dot{\\psi_{g}}=\\rho\\vec{v}\\cdot\\vec{g}+\\dot{q}$.  We can recognize that these simply the assumptions for the momentum equation multiplied by velocity, with an extra term $\\dot{q}$ in the generation term, which corresponds to volumetric heat generation in the flux.  This is possible through chemical reactions, radiant heat absorption, or fission/nuclear reactions.  This gives us the equation $$\\underbrace{\\frac{\\partial\\left(\\rho\\left(u+\\frac{\\vec{v}^{2}}{2}\\right)\\right)}{\\partial t}}_{\\substack{\\text{rate of energy change}\\\\\n",
    "\\text{per unit volume}\n",
    "}\n",
    "}+\\underbrace{\\nabla\\cdot\\rho\\vec{v}\\left(u+\\frac{\\vec{v}^{2}}{2}\\right)}_{\\substack{\\text{rate of energy change}\\\\\n",
    "\\text{by convection per unit}\\\\\n",
    "\\text{volume}\n",
    "}\n",
    "}\\\\=-\\underbrace{\\nabla\\cdot\\vec{q}}_{\\substack{\\text{conduction}}\n",
    "}-\\underbrace{\\nabla\\cdot\\left(p\\vec{v}\\right)}_{\\substack{\\text{work done by}\\\\\n",
    "\\text{pressure}\n",
    "}\n",
    "}-\\underbrace{\\nabla\\cdot\\left(\\boldsymbol{\\tau}\\cdot\\vec{v}\\right)}_{\\substack{\\text{work done by}\\\\\n",
    "\\text{viscous force}\n",
    "}\n",
    "}+\\underbrace{\\rho\\left(\\vec{v}\\cdot\\vec{g}\\right)}_{\\substack{\\text{work done}\\\\\n",
    "\\text{by gravity}\n",
    "}\n",
    "}+\\underbrace{\\dot{q}}_{\\substack{\\text{heat}\\\\\n",
    "\\text{generation}\n",
    "}\n",
    "}$$ and we want to put this in a more usable form.  We split these into kinetic energy and internal energy forms, by FOIL-ing the flux terms: $$-\\nabla\\cdot\\left(p\\vec{v}\\right)=-\\underbrace{p\\nabla\\cdot\\vec{v}}_{\\substack{\\text{reversible}\\\\\n",
    "\\text{\\ensuremath{pdV} work}\n",
    "}\n",
    "}-\\underbrace{\\vec{v}\\cdot\\nabla p}_{\\substack{\\text{kinetic}\\\\\n",
    "\\text{energy}\n",
    "}\n",
    "}$$ $$-\\nabla\\cdot\\left(\\boldsymbol{\\tau}\\cdot\\vec{v}\\right)=-\\underbrace{\\boldsymbol{\\tau}:\\nabla\\vec{v}}_{\\substack{\\text{irreversible}\\\\\n",
    "\\text{viscous work}\n",
    "}\n",
    "}-\\underbrace{\\vec{v}\\cdot\\nabla\\cdot\\boldsymbol{\\tau}}_{\\substack{\\text{kinetic}\\\\\n",
    "\\text{energy}\n",
    "}\n",
    "}$$.  Then our forms are:\n",
    "\n",
    "- Internal Energy: $$\\frac{Du}{Dt}=-\\nabla\\cdot\\vec{q}-p\\nabla\\cdot\\vec{v}-\\boldsymbol{\\tau}:\\nabla\\vec{v}+\\dot{q}$$\n",
    "- Kinetic Energy: $$\\frac{D\\frac{\\vec{v}^{2}}{2}}{Dt}=-\\vec{v}\\cdot\\nabla p-\\vec{v}\\cdot\\nabla\\cdot\\boldsymbol{\\tau}+\\rho\\vec{v}\\cdot\\vec{g}$$\n",
    "\n",
    "These are not **basic balance equations**, though, because they don't follow the form $\\nabla \\left(\\;\\right)$. "
   ]
  },
  {
   "cell_type": "markdown",
   "metadata": {},
   "source": [
    "Some other equations to remember, which are created though assumptions and simplification of the energy equations are:\n",
    "\n",
    "- Poisson's Heat Equation: $$\\rho c_{p}\\frac{\\partial T}{\\partial t}=\\nabla\\cdot\\left(k\\nabla T\\right)+\\dot{q}$$\n",
    "- Temperature Equation: $$\\rho c_{v}\\frac{DT}{Dt}=\\rho c_{v}\\frac{\\partial T}{\\partial t}+\\rho c_{v}\\vec{v}\\nabla\\cdot T=k\\nabla^{2}T-\\boldsymbol{\\tau}:\\nabla\\vec{v}+T\\left.\\frac{\\partial p}{\\partial T}\\right)_{\\rho}\\nabla\\cdot\\vec{v}+\\dot{q}$$"
   ]
  },
  {
   "cell_type": "code",
   "execution_count": 2,
   "metadata": {
    "collapsed": false
   },
   "outputs": [
    {
     "data": {
      "text/html": [
       "<h2>Bibliography</h2>\n",
       "<ol>\n",
       "<li name=\"Bird2007\">\n",
       "<!-- This document was automatically generated with bibtex2html 1.98\n",
       "     (see http://www.lri.fr/~filliatr/bibtex2html/),\n",
       "     with the following command:\n",
       "     /usr/bin/bibtex2html -nokeys -o - -s plain -nodoc -q /tmp/tmplfE2Cn.bib  -->\n",
       "\n",
       "\n",
       "\n",
       "\n",
       "<p><a name=\"Bird2007\"></a>\n",
       "\n",
       "R.&nbsp;B. Bird, W.&nbsp;E. Stewart, and E.&nbsp;N. Lightfoot.\n",
       " <em>Transport Phenomena</em>.\n",
       " John Wiley &amp; Sons, Inc., New York, NY, 2nd edition, 2007.\n",
       "\n",
       "</p>\n",
       "</li>\n",
       "</ol>\n"
      ],
      "text/plain": [
       "<IPython.core.display.HTML object>"
      ]
     },
     "metadata": {},
     "output_type": "display_data"
    }
   ],
   "source": [
    "bib.bibliography()"
   ]
  }
 ],
 "metadata": {
  "hide_input": false,
  "kernelspec": {
   "display_name": "Python 2",
   "language": "python",
   "name": "python2"
  },
  "language_info": {
   "codemirror_mode": {
    "name": "ipython",
    "version": 2
   },
   "file_extension": ".py",
   "mimetype": "text/x-python",
   "name": "python",
   "nbconvert_exporter": "python",
   "pygments_lexer": "ipython2",
   "version": "2.7.12"
  },
  "latex_envs": {
   "LaTeX_envs_menu_present": true,
   "autocomplete": true,
   "bibliofile": "bibs/dissertation.bib",
   "cite_by": "apalike",
   "current_citInitial": 1,
   "eqLabelWithNumbers": true,
   "eqNumInitial": 1,
   "hotkeys": {
    "equation": "Ctrl-E",
    "itemize": "Ctrl-I"
   },
   "labels_anchors": false,
   "latex_user_defs": false,
   "report_style_numbering": false,
   "user_envs_cfg": false
  }
 },
 "nbformat": 4,
 "nbformat_minor": 2
}
