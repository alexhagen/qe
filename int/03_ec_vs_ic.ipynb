{
 "cells": [
  {
   "cell_type": "code",
   "execution_count": 1,
   "metadata": {
    "collapsed": false,
    "deletable": true,
    "editable": true
   },
   "outputs": [],
   "source": [
    "import lyxithea.lyxithea as lyx\n",
    "\n",
    "bib = lyx.bib('bibs/qe.bib')"
   ]
  },
  {
   "cell_type": "markdown",
   "metadata": {
    "deletable": true,
    "editable": true,
    "variables": {
     " bib.pcite('Krane1988') ": "(<a href=\"#Krane1988\">Krane,  1988</a>)",
     " bib.pcite('Lamarsh2001a') ": "(<a href=\"#Lamarsh2001a\">Lamarsh,  et. al. 2001</a>)"
    }
   },
   "source": [
    "# Internal Conversion versus Electron Capture\n",
    "\n",
    "This material is very common, so a basic textbook such as {{ bib.pcite('Lamarsh2001a') }} would have it. For a more physics based approach, a textbook such as {{ bib.pcite('Krane1988') }} would be good.\n",
    "\n",
    "## Electron Capture\n",
    "\n",
    "Electron capture is a process where an orbital electron accelerates into the nucleus, where it is \"captured\".  The acceleration results in an X-ray, whos power depends on the $Q$ value of electron capture.  Then, the reaction proceeds as $$\\mathrm{\\sideset{^{A}_{Z}}{^{*}}X} \\rightarrow \\mathrm{\\sideset{^{A}_{Z-1}}{}Y} + \\nu$$"
   ]
  },
  {
   "cell_type": "markdown",
   "metadata": {},
   "source": [
    "## Internal Conversion\n",
    "\n",
    "Internal conversion is a process where an excited nucleus transfers its energy to an orbital electron.  The energy transfer is monoenergetic because the excitation levels of a nucleus are quantized.  The energy transfer effected is $$E_{e^{-}}=E_{ex}-E_{b}$$ where $E_{b}$ is the shell binding energy.  The energy transfer causes the orbital electron to accelerate, which also causes an X-ray."
   ]
  },
  {
   "cell_type": "code",
   "execution_count": 2,
   "metadata": {
    "collapsed": false,
    "deletable": true,
    "editable": true
   },
   "outputs": [
    {
     "data": {
      "text/html": [
       "<h2>Bibliography</h2>\n",
       "<ol>\n",
       "<li name=\"Lamarsh2001a\">\n",
       "<!-- This document was automatically generated with bibtex2html 1.98\n",
       "     (see http://www.lri.fr/~filliatr/bibtex2html/),\n",
       "     with the following command:\n",
       "     bibtex2html -nokeys -o - -s plain -nodoc -q /var/folders/cy/f4wwjss96p34f35b2w98ynk80000gp/T/tmpxyWw0j.bib  -->\n",
       "\n",
       "\n",
       "\n",
       "\n",
       "<p><a name=\"Lamarsh2001a\"></a>\n",
       "\n",
       "John&nbsp;R Lamarsh and Anthony&nbsp;J Baratta.\n",
       " <em>Introduction to Nuclear Engineering</em>.\n",
       " Upper Saddle River, New Jersey, third edition, 2001.\n",
       "\n",
       "</p>\n",
       "</li>\n",
       "<li name=\"Krane1988\">\n",
       "<!-- This document was automatically generated with bibtex2html 1.98\n",
       "     (see http://www.lri.fr/~filliatr/bibtex2html/),\n",
       "     with the following command:\n",
       "     bibtex2html -nokeys -o - -s plain -nodoc -q /var/folders/cy/f4wwjss96p34f35b2w98ynk80000gp/T/tmpMU8aZi.bib  -->\n",
       "\n",
       "\n",
       "\n",
       "\n",
       "<p><a name=\"Krane1988\"></a>\n",
       "\n",
       "Kenneth&nbsp;S. Krane.\n",
       " <em>Introductory Nuclear Physics</em>.\n",
       " John Wiley &amp; Sons, Inc., Hoboken, NJ, 2nd edition, 1988.\n",
       "\n",
       "</p>\n",
       "</li>\n",
       "</ol>\n"
      ],
      "text/plain": [
       "<IPython.core.display.HTML object>"
      ]
     },
     "metadata": {},
     "output_type": "display_data"
    }
   ],
   "source": [
    "bib.bibliography()"
   ]
  }
 ],
 "metadata": {
  "breadcrumb": [
   {
    "title": "Interactions"
   }
  ],
  "hide_input": false,
  "kernelspec": {
   "display_name": "Python 2",
   "language": "python",
   "name": "python2"
  },
  "language_info": {
   "codemirror_mode": {
    "name": "ipython",
    "version": 2
   },
   "file_extension": ".py",
   "mimetype": "text/x-python",
   "name": "python",
   "nbconvert_exporter": "python",
   "pygments_lexer": "ipython2",
   "version": "2.7.13"
  },
  "latex_envs": {
   "LaTeX_envs_menu_present": true,
   "autocomplete": true,
   "bibliofile": "biblio.bib",
   "cite_by": "apalike",
   "current_citInitial": 1,
   "eqLabelWithNumbers": true,
   "eqNumInitial": 1,
   "hotkeys": {
    "equation": "Ctrl-E",
    "itemize": "Ctrl-I"
   },
   "labels_anchors": false,
   "latex_user_defs": false,
   "report_style_numbering": false,
   "user_envs_cfg": false
  },
  "title": "Binding Energy and Mass Defect"
 },
 "nbformat": 4,
 "nbformat_minor": 2
}
