{
 "cells": [
  {
   "cell_type": "code",
   "execution_count": 1,
   "metadata": {
    "collapsed": true
   },
   "outputs": [],
   "source": [
    "import lyxithea.lyxithea as lyx\n",
    "from pyg import twod as pyg2d\n",
    "from pym import func as pym\n",
    "import numpy as np\n",
    "\n",
    "bib = lyx.bib('bibs/qe.bib')"
   ]
  },
  {
   "cell_type": "markdown",
   "metadata": {
    "variables": {
     " bib.pcite('Lamarsh') ": "<p><strong>NameError</strong>: name &#39;bib&#39; is not defined</p>\n"
    }
   },
   "source": [
    "# Nuclear Structure\n",
    "\n",
    "Understanding of nuclear structure is fundamental to all detection work, but there are a couple heuristics that can be used.  This material is common, so I'll use {{ bib.pcite('Lamarsh') }} as expected.\n",
    "\n",
    "## Constant Density Nucleus\n",
    "\n",
    "A common estimate for the radius of a nucleus is \n",
    "$$R\\approx1.25\\left[\\unit{fm}\\right]\\cdot A^{\\nicefrac{1}{3}}$$\n",
    "which indicates constant density of nucleii. Also, it should be noted that the $\\left(\\,\\right)^{\\nicefrac{1}{3}}$ indicates a not very strong dependence on the number of nucleons, and thus all atoms with several shells are close to $2\\times10^{-10}\\unit{m}$\n",
    "\n",
    "## Nuclear Models\n",
    "\n",
    "The Shell Model uses the Pauli exclusion principle that states that there are $2j+1$ possible states for substates with total momentum $j$, That there are orbits, and that magic numbers correspond to closed shells in both $N$ and $Z$.\n",
    "\n",
    "The liquid drop model states that nucleons are arranged like the molecules of a spherical liquid drop. This gives way to the expression for the mass being\n",
    "$$\\begin{multline*}\n",
    "M=NM_{n}+ZM_{p}-\\alpha A+\\beta A^{\\nicefrac{2}{3}}+\\gamma\\frac{Z^{2}}{A^{\\nicefrac{1}{3}}}\\\\\n",
    "+\\xi\\frac{\\left(A-2Z\\right)}{A}+\\delta\n",
    "\\end{multline*}$$\n",
    "where $\\alpha$ is the total volumetric correction or the total energy of one bond, $\\beta$ is the surface tension correction, $\\gamma$ is the columbic term from potential energy, $\\xi$ is the symmetry term, and stronger for $Z=N$, and $\\delta$ is a pairing term - indicating that the bond between $n+n$ or $p+p$ is stronger than $n+p$."
   ]
  },
  {
   "cell_type": "code",
   "execution_count": 1,
   "metadata": {},
   "outputs": [
    {
     "ename": "NameError",
     "evalue": "name 'bib' is not defined",
     "output_type": "error",
     "traceback": [
      "\u001b[0;31m---------------------------------------------------------------------------\u001b[0m",
      "\u001b[0;31mNameError\u001b[0m                                 Traceback (most recent call last)",
      "\u001b[0;32m<ipython-input-1-20f6ac27ece0>\u001b[0m in \u001b[0;36m<module>\u001b[0;34m()\u001b[0m\n\u001b[0;32m----> 1\u001b[0;31m \u001b[0mbib\u001b[0m\u001b[0;34m.\u001b[0m\u001b[0mbibliography\u001b[0m\u001b[0;34m(\u001b[0m\u001b[0;34m)\u001b[0m\u001b[0;34m\u001b[0m\u001b[0m\n\u001b[0m",
      "\u001b[0;31mNameError\u001b[0m: name 'bib' is not defined"
     ]
    }
   ],
   "source": [
    "bib.bibliography()"
   ]
  },
  {
   "cell_type": "code",
   "execution_count": null,
   "metadata": {
    "collapsed": true
   },
   "outputs": [],
   "source": []
  }
 ],
 "metadata": {
  "breadcrumb": [
   {
    "title": "Interactions"
   }
  ],
  "hide_input": false,
  "kernelspec": {
   "display_name": "Python 2",
   "language": "python",
   "name": "python2"
  },
  "language_info": {
   "codemirror_mode": {
    "name": "ipython",
    "version": 2
   },
   "file_extension": ".py",
   "mimetype": "text/x-python",
   "name": "python",
   "nbconvert_exporter": "python",
   "pygments_lexer": "ipython2",
   "version": "2.7.12"
  },
  "latex_envs": {
   "LaTeX_envs_menu_present": true,
   "autocomplete": true,
   "bibliofile": "biblio.bib",
   "cite_by": "apalike",
   "current_citInitial": 1,
   "eqLabelWithNumbers": true,
   "eqNumInitial": 1,
   "hotkeys": {
    "equation": "Ctrl-E",
    "itemize": "Ctrl-I"
   },
   "labels_anchors": false,
   "latex_user_defs": false,
   "report_style_numbering": false,
   "user_envs_cfg": false
  },
  "title": "Binding Energy and Mass Defect"
 },
 "nbformat": 4,
 "nbformat_minor": 2
}
