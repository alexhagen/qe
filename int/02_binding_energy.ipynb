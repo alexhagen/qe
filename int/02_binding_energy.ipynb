{
 "cells": [
  {
   "cell_type": "code",
   "execution_count": 1,
   "metadata": {
    "collapsed": false
   },
   "outputs": [
    {
     "data": {
      "application/javascript": [
       "\n",
       "MathJax.Hub.Register.StartupHook(\"TeX Jax Ready\",function () {\n",
       "  var MML = MathJax.ElementJax.mml,\n",
       "      TeX = MathJax.InputJax.TeX;\n",
       "\n",
       "  TeX.Definitions.macros.nicefrac = \"myBevelFraction\";\n",
       "  TeX.Definitions.macros.unit = \"myUnit\";\n",
       "  TeX.Definitions.macros.ce = \"myCe\";\n",
       "\n",
       "  TeX.Parse.Augment({\n",
       "    myBevelFraction: function (name) {\n",
       "      var num = this.ParseArg(name),\n",
       "          den = this.ParseArg(name);\n",
       "      this.Push(MML.mfrac(num,den).With({bevelled: true}));\n",
       "    },\n",
       "    myUnit: function(name) {\n",
       "      var num = this.ParseArg(name);\n",
       "      var den = 2;\n",
       "      this.Push(MML.mtext(num).With({variant: 'normal'}));\n",
       "    },\n",
       "    myCe: function(name) {\n",
       "      var num = this.ParseArg(name);\n",
       "      var den = 2;\n",
       "      this.Push(MML.mtext(num).With({variant: 'normal'}));\n",
       "    }\n",
       "  });\n",
       "  MathJax.Hub.Insert(MathJax.InputJax.TeX.Definitions.macros,{\n",
       "      cancel: [\"Extension\",\"cancel\"],\n",
       "      bcancel: [\"Extension\",\"cancel\"],\n",
       "      xcancel: [\"Extension\",\"cancel\"],\n",
       "      cancelto: [\"Extension\",\"cancel\"]\n",
       "    });\n",
       "});\n"
      ],
      "text/plain": [
       "<IPython.core.display.Javascript object>"
      ]
     },
     "metadata": {},
     "output_type": "display_data"
    }
   ],
   "source": [
    "import lyxithea.lyxithea as lyx\n",
    "\n",
    "bib = lyx.bib('bibs/qe.bib')"
   ]
  },
  {
   "cell_type": "markdown",
   "metadata": {
    "variables": {
     " bib.pcite('Lamarsh2001a') ": "(<a href=\"#Lamarsh2001a\">Lamarsh,  et. al. 2001</a>)"
    }
   },
   "source": [
    "# Binding Energy and Mass Defect\n",
    "\n",
    "This material is referenced from {{ bib.pcite('Lamarsh2001a') }}.\n",
    "\n",
    "Einstein postulated that the *rest mass energy* of an atom was defined by $$E_{rest}=m_{o}c^{2}$$ where $c$ is the speed of light, and $m_{o}$ is the atomic mass of the atom.  This establishes the equivalence of mass and energy.\n",
    "\n",
    "Consequently, the kinetic energy (**KE**) is the difference between total and rest mass energy $$E=mc^{2}-m_{o}c^{2}=m_{o}c^{2}\\left[ \\frac{1}{\\sqrt{1-\\beta^{2}}} - 1 \\right]$$ and this, when non-relativistics ($v\\ll c$), leads to $$E=\\frac{1}{2}mv^{2}$$\n",
    "\n",
    "## Binding energy\n",
    "\n",
    "We can remember that the mass defect is defined by $$Q=\\left[\\left(M_{a}+M_{b}\\right) - \\left(M_{c}+M_{d}\\right)\\right]\\underbrace{\\left(931.5\\unit{\\nicefrac{MeV}{amu}}\\right)}_{c^{2}}$$ so the mass defect is the difference between the constituents and the actual atom $$\\Delta=ZM_{p}+NM_{n}-M_{A}$$ which leads to $$BE\\left( a \\right) = Z_{a}M\\left(\\ce{^{1}H}\\right) - N_{a}\\left(M_{n}\\right) - M_{a}$$\n",
    "\n",
    "To determine the binding energy of the **last** neutron, we determine the least bound neutron - i.e. the difference in binding energy between the isotope of interest and the isotope of interest with one less neutron plus the rest mass of an unbound neutron: $$E_{s}=\\left[M_{n}+M\\left(\\ce{^{A-1}Z}\\right) - M\\left(\\ce{^{A}Z}\\right)\\right]931.5\\unit{\\nicefrac{MeV}{amu}}$$"
   ]
  },
  {
   "cell_type": "code",
   "execution_count": 2,
   "metadata": {
    "collapsed": false
   },
   "outputs": [
    {
     "data": {
      "text/html": [
       "<h2>Bibliography</h2>\n",
       "<ol>\n",
       "<li name=\"Lamarsh2001a\">\n",
       "<!-- This document was automatically generated with bibtex2html 1.98\n",
       "     (see http://www.lri.fr/~filliatr/bibtex2html/),\n",
       "     with the following command:\n",
       "     bibtex2html -nokeys -o - -s plain -nodoc -q /var/folders/cy/f4wwjss96p34f35b2w98ynk80000gp/T/tmpBEybDE.bib  -->\n",
       "\n",
       "\n",
       "\n",
       "\n",
       "<p><a name=\"Lamarsh2001a\"></a>\n",
       "\n",
       "John&nbsp;R Lamarsh and Anthony&nbsp;J Baratta.\n",
       " <em>Introduction to Nuclear Engineering</em>.\n",
       " Upper Saddle River, New Jersey, third edition, 2001.\n",
       "\n",
       "</p>\n",
       "</li>\n",
       "</ol>\n"
      ],
      "text/plain": [
       "<IPython.core.display.HTML object>"
      ]
     },
     "metadata": {},
     "output_type": "display_data"
    }
   ],
   "source": [
    "bib.bibliography()"
   ]
  }
 ],
 "metadata": {
  "breadcrumb": [
   {
    "title": "Interactions"
   }
  ],
  "hide_input": false,
  "kernelspec": {
   "display_name": "Python 2",
   "language": "python",
   "name": "python2"
  },
  "language_info": {
   "codemirror_mode": {
    "name": "ipython",
    "version": 2
   },
   "file_extension": ".py",
   "mimetype": "text/x-python",
   "name": "python",
   "nbconvert_exporter": "python",
   "pygments_lexer": "ipython2",
   "version": "2.7.13"
  },
  "latex_envs": {
   "LaTeX_envs_menu_present": true,
   "autocomplete": true,
   "bibliofile": "biblio.bib",
   "cite_by": "apalike",
   "current_citInitial": 1,
   "eqLabelWithNumbers": true,
   "eqNumInitial": 1,
   "hotkeys": {
    "equation": "Ctrl-E",
    "itemize": "Ctrl-I"
   },
   "labels_anchors": false,
   "latex_user_defs": false,
   "report_style_numbering": false,
   "user_envs_cfg": false
  },
  "title": "Binding Energy and Mass Defect"
 },
 "nbformat": 4,
 "nbformat_minor": 2
}
