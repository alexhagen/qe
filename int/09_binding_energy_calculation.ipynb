{
 "cells": [
  {
   "cell_type": "code",
   "execution_count": 1,
   "metadata": {
    "collapsed": true
   },
   "outputs": [],
   "source": [
    "import lyxithea.lyxithea as lyx\n",
    "from pyg import twod as pyg2d\n",
    "from pym import func as pym\n",
    "import numpy as np\n",
    "\n",
    "bib = lyx.bib('bibs/qe.bib')"
   ]
  },
  {
   "cell_type": "markdown",
   "metadata": {
    "variables": {
     " bib.pcite('Lamarsh') ": "(<a href=\"#Lamarsh\">Lamarsh,  2002</a>)"
    }
   },
   "source": [
    "# Binding Energy Calculation\n",
    "\n",
    "As a followup to problem 8, calculation of binding energy is crucial for understanding levels and thresholds.  This material is common, so I'll use {{ bib.pcite('Lamarsh') }} as expected.\n",
    "\n",
    "To calculate the binding energy of the last neutron in $\\ce{^{13}C}$, first we pose the nucleus as a product of the nucleus with one fewer neutrons and a neutron\n",
    "$$\\ce{^{12}C}+n\\rightarrow\\ce{^{13}C}$$\n",
    "\n",
    "Then, we use the $Q$ value equation\n",
    "$$\\begin{align*}\n",
    "Q & =\\left\\{ \\left[M\\left(\\ce{^{12}C}\\right)+M\\left(n\\right)\\right]-\\left[M\\left(\\ce{^{13}C}\\right)\\right]\\right\\} 931.5\\unit{\\nicefrac{MeV}{amu}}\\\\\n",
    "Q & =\\left\\{ 12\\unit{amu}+1.00866\\unit{amu}-13.00335\\unit{amu}\\right\\} 931.5\\unit{\\nicefrac{MeV}{amu}}\\\\\n",
    "Q & =4.95\\unit{MeV}\n",
    "\\end{align*}$$\n",
    "\n",
    "So any collision with less than $4.95\\unit{MeV}$ cannot knock out the last neutron in $\\ce{^{13}C}$, and then we can calculate the binding energy per nucleon. The binding energy per nucleon is equal to the constituents masses summed less the total nucleus mass, and then dividied by the number of nucleons in the nucleus\n",
    "$$\\begin{align*}\n",
    "\\overline{BE} & =\\frac{\\left[7M_{n}+6M_{p}-M_{C13}\\right]931.5\\unit{\\nicefrac{MeV}{amu}}}{13}\\\\\n",
    "\\overline{BE} & =\\frac{\\left[7\\left(1.00866\\unit{amu}\\right)+6\\left(1.00728\\unit{amu}\\right)-\\left(13.00335\\unit{amu}\\right)\\right]931.5\\unit{\\nicefrac{MeV}{amu}}}{13}\\\\\n",
    "\\overline{BE} & =7.23\\unit{MeV}\n",
    "\\end{align*}$$"
   ]
  },
  {
   "cell_type": "code",
   "execution_count": 2,
   "metadata": {},
   "outputs": [
    {
     "data": {
      "text/html": [
       "<h2>Bibliography</h2>\n",
       "<ol>\n",
       "</ol>\n"
      ],
      "text/plain": [
       "<IPython.core.display.HTML object>"
      ]
     },
     "metadata": {},
     "output_type": "display_data"
    }
   ],
   "source": [
    "bib.bibliography()"
   ]
  }
 ],
 "metadata": {
  "breadcrumb": [
   {
    "title": "Interactions"
   }
  ],
  "hide_input": false,
  "kernelspec": {
   "display_name": "Python 2",
   "language": "python",
   "name": "python2"
  },
  "language_info": {
   "codemirror_mode": {
    "name": "ipython",
    "version": 2
   },
   "file_extension": ".py",
   "mimetype": "text/x-python",
   "name": "python",
   "nbconvert_exporter": "python",
   "pygments_lexer": "ipython2",
   "version": "2.7.12"
  },
  "latex_envs": {
   "LaTeX_envs_menu_present": true,
   "autocomplete": true,
   "bibliofile": "biblio.bib",
   "cite_by": "apalike",
   "current_citInitial": 1,
   "eqLabelWithNumbers": true,
   "eqNumInitial": 1,
   "hotkeys": {
    "equation": "Ctrl-E",
    "itemize": "Ctrl-I"
   },
   "labels_anchors": false,
   "latex_user_defs": false,
   "report_style_numbering": false,
   "user_envs_cfg": false
  },
  "title": "Binding Energy and Mass Defect"
 },
 "nbformat": 4,
 "nbformat_minor": 2
}
