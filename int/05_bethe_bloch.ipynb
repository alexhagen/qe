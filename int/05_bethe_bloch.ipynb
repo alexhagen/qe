{
 "cells": [
  {
   "cell_type": "code",
   "execution_count": 2,
   "metadata": {
    "collapsed": true
   },
   "outputs": [],
   "source": [
    "import lyxithea.lyxithea as lyx\n",
    "from pyg import twod as pyg2d\n",
    "from pym import func as pym\n",
    "import numpy as np\n",
    "\n",
    "bib = lyx.bib('bibs/qe.bib')"
   ]
  },
  {
   "cell_type": "markdown",
   "metadata": {
    "variables": {
     " bib.pcite('Knoll2000') ": "\\[Knoll2000\\]",
     " bib.pcite('Nastasi1996') ": "(<a href=\"#Nastasi1996\">{Nastasi,  et. al. 1996</a>)"
    }
   },
   "source": [
    "# Bethe-Block stopping power\n",
    "\n",
    "Understanding stopping power is crucial to understanding of ion transport through matter. This material is reasonably common and spread out, but I'm referencing {{ bib.pcite('Knoll2000') }} and {{ bib.pcite('Nastasi1996') }}\n",
    "\n",
    "The general understanding of total stopping power, which includes nuclear and atomic stopping is often given through the following equation: $$\\frac{DE}{Dx}=c\\left(\\frac{Z}{v}\\right)^{2}$$ This is particularly useful for deuterons, protons, and alphas.  Notice that the stopping power is proportional to $Z^{2}$ and $v^{2}\\therefore E$. This comes from the total *Bethe Equation* $$-\\frac{dE}{dx}=\\frac{4\\pi Z^{2}e^{4}}{m_{0}v^{2}}NZ\\left[\\ln\\frac{2m_{0}v^{2}}{I}-\\ln\\left(1-\\frac{v^{2}}{c^{2}}\\right)-\\frac{v^{2}}{c^{2}}\\right]$$"
   ]
  },
  {
   "cell_type": "markdown",
   "metadata": {},
   "source": [
    "A more involved Bethe-Bloch formulation uses the nuclear and the atomic stopping power, given respectively as $$-\\left.\\frac{dE}{dx}\\right|_{e}=\\frac{4\\pi Z_{1}^{2}e^{4}n_{e}}{m_{e}v^{2}}\\ln\\left[\\frac{b_{max}}{b_{min}}\\right]$$ $$-\\left.\\frac{dE}{dx}\\right|_{n}=\\frac{4\\pi Z^{2}e^{4}}{m_{0}v^{2}}\\frac{NZ_{1}Z_{2}}{\\left(\\sqrt{Z_{1}}+\\sqrt{Z_{2}}\\right)^{\\nicefrac{2}{3}}}\\frac{M_{1}}{M_{1}+M_{2}}$$ where $b$ is the collision parameter, and all other nomenclature is as usual."
   ]
  },
  {
   "cell_type": "code",
   "execution_count": 26,
   "metadata": {},
   "outputs": [
    {
     "data": {
      "text/html": [
       "\n",
       "\t\t\t\t<div class='pygfigure' name='stoppingpower' style='text-align: center; max-width: 800px; margin-left: auto; margin-right: auto;'>\n",
       "\t\t\t\t\t<img style='margin: auto; max-width:100%; width:1250.000000px; height: auto;' src='stoppingpower.svg?1397781532' />\n",
       "\t\t\t\t\t<div style='margin: auto; text-align: center;' class='figurecaption'><b>Figure 23:</b> Electronic and nuclear stopping power as a function of $\\varepsilon$</div>\n",
       "\t\t\t\t</div>\n",
       "\t\t\t"
      ],
      "text/plain": [
       "<IPython.core.display.HTML object>"
      ]
     },
     "metadata": {},
     "output_type": "display_data"
    }
   ],
   "source": [
    "sqrteps = np.linspace(0.01, 30, 1000)\n",
    "eps = np.power(sqrteps, 2.)\n",
    "sn = 0.5 * np.log(1+1.1383*eps) / (eps + 0.01321* np.power(eps, 0.21226) + 0.19593 * np.power(eps, 0.5))\n",
    "sncurve = pym.curve(sqrteps, sn, r'$S_{n}$')\n",
    "securve1 = pym.curve(sqrteps, 0.1*sqrteps, r'$S_{e} @ v<v_{0}Z_{1}^{\\frac{2}{3}}$')\n",
    "securve2 = pym.curve(sqrteps[350:], 40.0*np.log(eps[350:] / 60.0)/eps[350:],\n",
    "                     r'$S_{e} @ v>v_{0}Z_{1}^{\\frac{2}{3}}$')\n",
    "plot = sncurve.plot()\n",
    "plot = securve1.plot(linestyle='--', addto=plot)\n",
    "plot = securve2.plot(linestyle='-.', addto=plot)\n",
    "plot.markers_off()\n",
    "plot.xlim(0.0, 30.)\n",
    "plot.ylim(0.0, 0.40)\n",
    "plot.yticks([0.0], ['0'])\n",
    "plot.xlabel(r'($\\sqrt{\\varepsilon}\\propto v$) [ ]')\n",
    "plot.ylabel(r'Stopping Power ($S$) [ ]')\n",
    "plot.legend()\n",
    "plot.export('stoppingpower', force=True)\n",
    "plot.show(r'Electronic and nuclear stopping power as a function of $\\varepsilon$', label='stoppingpower')"
   ]
  },
  {
   "cell_type": "code",
   "execution_count": 3,
   "metadata": {},
   "outputs": [
    {
     "data": {
      "text/html": [
       "<h2>Bibliography</h2>\n",
       "<ol>\n",
       "</ol>\n"
      ],
      "text/plain": [
       "<IPython.core.display.HTML object>"
      ]
     },
     "metadata": {},
     "output_type": "display_data"
    }
   ],
   "source": [
    "bib.bibliography()"
   ]
  },
  {
   "cell_type": "code",
   "execution_count": null,
   "metadata": {
    "collapsed": true
   },
   "outputs": [],
   "source": []
  }
 ],
 "metadata": {
  "breadcrumb": [
   {
    "title": "Interactions"
   }
  ],
  "hide_input": false,
  "kernelspec": {
   "display_name": "Python 2",
   "language": "python",
   "name": "python2"
  },
  "language_info": {
   "codemirror_mode": {
    "name": "ipython",
    "version": 2
   },
   "file_extension": ".py",
   "mimetype": "text/x-python",
   "name": "python",
   "nbconvert_exporter": "python",
   "pygments_lexer": "ipython2",
   "version": "2.7.12"
  },
  "latex_envs": {
   "LaTeX_envs_menu_present": true,
   "autocomplete": true,
   "bibliofile": "biblio.bib",
   "cite_by": "apalike",
   "current_citInitial": 1,
   "eqLabelWithNumbers": true,
   "eqNumInitial": 1,
   "hotkeys": {
    "equation": "Ctrl-E",
    "itemize": "Ctrl-I"
   },
   "labels_anchors": false,
   "latex_user_defs": false,
   "report_style_numbering": false,
   "user_envs_cfg": false
  },
  "title": "Binding Energy and Mass Defect"
 },
 "nbformat": 4,
 "nbformat_minor": 2
}
