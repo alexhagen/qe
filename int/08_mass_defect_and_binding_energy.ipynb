{
 "cells": [
  {
   "cell_type": "code",
   "execution_count": 1,
   "metadata": {
    "collapsed": true,
    "deletable": true,
    "editable": true
   },
   "outputs": [],
   "source": [
    "import lyxithea.lyxithea as lyx\n",
    "from pyg import twod as pyg2d\n",
    "from pym import func as pym\n",
    "import numpy as np\n",
    "\n",
    "bib = lyx.bib('bibs/qe.bib')"
   ]
  },
  {
   "cell_type": "markdown",
   "metadata": {
    "deletable": true,
    "editable": true,
    "variables": {
     " bib.pcite('Lamarsh') ": "(<a href=\"#Lamarsh\">Lamarsh,  2002</a>)"
    }
   },
   "source": [
    "# Binding Energy for Atoms and Nucleii\n",
    "\n",
    "Understanding the nuclear structure and atomic structure {{ bib.pcite('Lamarsh') }} is (obviously) crucial to nuclear engineering and detection.  One of the main concepts is the idea of mass defect. The *mass defect* is the difference between the measured atomic mass and mass the atom would have if it were simply the sum of the constituent proton and neutron masses. $$Q=\\left[ \\left( M_{a}+M_{b} \\right) - \\left(M_{c} + M_{d} \\right)\\right] \\underbrace{931 \\frac{\\mathrm{MeV}}{\\mathrm{amu}}}_{c^{2}}$$ and so the mass defect is $$\\Delta = ZM_{p} + NM_{n} - M_{A}$$ so the binding energy is the conversion from this to energy $$BE\\left(a\\right)=Z_{a}M\\left(^{1}H\\right) + N_{a}\\left(M_{n}\\right) - M_{a}$$ and the Last neutron is the least bound neutron $$E_{s}=\\left[M_{n}+M\\left(^{A-1}Z\\right)- M\\left(^{A}Z\\right)\\right]931 \\frac{\\mathrm{MeV}}{\\mathrm{amu}}$$"
   ]
  },
  {
   "cell_type": "code",
   "execution_count": 2,
   "metadata": {
    "collapsed": false,
    "deletable": true,
    "editable": true
   },
   "outputs": [
    {
     "data": {
      "text/html": [
       "<h2>Bibliography</h2>\n",
       "<ol>\n",
       "<li name=\"Nastasi1996\">\n",
       "<!-- This document was automatically generated with bibtex2html 1.98\n",
       "     (see http://www.lri.fr/~filliatr/bibtex2html/),\n",
       "     with the following command:\n",
       "     bibtex2html -nokeys -o - -s plain -nodoc -q /var/folders/cy/f4wwjss96p34f35b2w98ynk80000gp/T/tmpr2WuHW.bib  -->\n",
       "\n",
       "\n",
       "\n",
       "\n",
       "<p><a name=\"Nastasi1996\"></a>\n",
       "\n",
       "J.&nbsp;K. Nastasi, M., Mayer, J. W., Hirvonen.\n",
       " <em>Ion-Solid Interactions: Fundamentals and Applications</em>.\n",
       " Cambridge University Press, 1996.\n",
       "\n",
       "</p>\n",
       "</li>\n",
       "<li name=\"Lamarsh\">\n",
       "<!-- This document was automatically generated with bibtex2html 1.98\n",
       "     (see http://www.lri.fr/~filliatr/bibtex2html/),\n",
       "     with the following command:\n",
       "     bibtex2html -nokeys -o - -s plain -nodoc -q /var/folders/cy/f4wwjss96p34f35b2w98ynk80000gp/T/tmprZpUcA.bib  -->\n",
       "\n",
       "\n",
       "\n",
       "\n",
       "<p><a name=\"Lamarsh\"></a>\n",
       "\n",
       "John&nbsp;R Lamarsh.\n",
       " <em>Introduction to Nuclear Reactor Theory</em>.\n",
       " American Nuclear Society, La Grange Park, IL, 2002.\n",
       "\n",
       "</p>\n",
       "</li>\n",
       "</ol>\n"
      ],
      "text/plain": [
       "<IPython.core.display.HTML object>"
      ]
     },
     "metadata": {},
     "output_type": "display_data"
    }
   ],
   "source": [
    "bib.bibliography()"
   ]
  },
  {
   "cell_type": "code",
   "execution_count": null,
   "metadata": {
    "collapsed": true,
    "deletable": true,
    "editable": true
   },
   "outputs": [],
   "source": []
  }
 ],
 "metadata": {
  "breadcrumb": [
   {
    "title": "Interactions"
   }
  ],
  "hide_input": false,
  "kernelspec": {
   "display_name": "Python 2",
   "language": "python",
   "name": "python2"
  },
  "language_info": {
   "codemirror_mode": {
    "name": "ipython",
    "version": 2
   },
   "file_extension": ".py",
   "mimetype": "text/x-python",
   "name": "python",
   "nbconvert_exporter": "python",
   "pygments_lexer": "ipython2",
   "version": "2.7.13"
  },
  "latex_envs": {
   "LaTeX_envs_menu_present": true,
   "autocomplete": true,
   "bibliofile": "biblio.bib",
   "cite_by": "apalike",
   "current_citInitial": 1,
   "eqLabelWithNumbers": true,
   "eqNumInitial": 1,
   "hotkeys": {
    "equation": "Ctrl-E",
    "itemize": "Ctrl-I"
   },
   "labels_anchors": false,
   "latex_user_defs": false,
   "report_style_numbering": false,
   "user_envs_cfg": false
  },
  "title": "Binding Energy and Mass Defect"
 },
 "nbformat": 4,
 "nbformat_minor": 2
}
