{
 "cells": [
  {
   "cell_type": "code",
   "execution_count": 1,
   "metadata": {
    "collapsed": true,
    "deletable": true,
    "editable": true
   },
   "outputs": [],
   "source": [
    "import lyxithea.lyxithea as lyx\n",
    "from pyg import twod as pyg2d\n",
    "from pym import func as pym\n",
    "import numpy as np\n",
    "\n",
    "bib = lyx.bib('bibs/qe.bib')"
   ]
  },
  {
   "cell_type": "markdown",
   "metadata": {
    "deletable": true,
    "editable": true,
    "variables": {
     " bib.pcite('Knoll2000') ": "\\[Knoll2000\\]",
     " bib.pcite('Nastasi1996') ": "(<a href=\"#Nastasi1996\">{Nastasi,  et. al. 1996</a>)"
    }
   },
   "source": [
    "# Energy and momenta balances\n",
    "\n",
    "Understanding decay is instrumental to detection. This material is reasonably common and spread out, but I'm referencing {{ bib.pcite('Knoll2000') }} and {{ bib.pcite('Nastasi1996') }}\n",
    "$$\\Delta t=24\\unit{hr}$$\n",
    "\n",
    "$$N_{0}=\\frac{1683\\unit{counts}}{10\\unit{min}}$$\n",
    "\n",
    "$$N_{1}=\\frac{1683\\unit{counts}}{20\\unit{min}}$$\n",
    "\n",
    "$$\\frac{N_{0}}{N_{1}}=\\exp\\left(-\\lambda\\Delta t\\right)$$\n",
    "\n",
    "$$\\lambda=\\frac{1}{\\Delta t}\\ln\\left(\\frac{N_{1}}{N_{0}}\\right)$$\n",
    "\n",
    "$$t_{\\nicefrac{1}{2}}=\\ln\\left(2\\right)\\Delta t\\frac{1}{\\ln\\left(N_{1}\\right)-\\ln\\left(N_{1}\\right)}$$\n",
    "\n",
    "$$\\sigma_{t_{\\nicefrac{1}{2}}}=\\sqrt{\\cancelto{0}{\\left(\\frac{\\partial t_{\\nicefrac{1}{2}}}{\\partial\\Delta t}\\right)^{2}\\sigma_{\\Delta t}}+\\left(\\frac{\\partial t_{\\nicefrac{1}{2}}}{\\partial N_{1}}\\right)^{2}\\sigma_{N_{1}}+\\left(\\frac{\\partial t_{\\nicefrac{1}{2}}}{\\partial N_{0}}\\right)^{2}\\sigma_{N_{0}}}$$"
   ]
  },
  {
   "cell_type": "code",
   "execution_count": 2,
   "metadata": {
    "collapsed": false,
    "deletable": true,
    "editable": true
   },
   "outputs": [
    {
     "data": {
      "text/html": [
       "<h2>Bibliography</h2>\n",
       "<ol>\n",
       "</ol>\n"
      ],
      "text/plain": [
       "<IPython.core.display.HTML object>"
      ]
     },
     "metadata": {},
     "output_type": "display_data"
    }
   ],
   "source": [
    "bib.bibliography()"
   ]
  },
  {
   "cell_type": "code",
   "execution_count": null,
   "metadata": {
    "collapsed": true,
    "deletable": true,
    "editable": true
   },
   "outputs": [],
   "source": []
  }
 ],
 "metadata": {
  "breadcrumb": [
   {
    "title": "Interactions"
   }
  ],
  "hide_input": false,
  "kernelspec": {
   "display_name": "Python 2",
   "language": "python",
   "name": "python2"
  },
  "language_info": {
   "codemirror_mode": {
    "name": "ipython",
    "version": 2
   },
   "file_extension": ".py",
   "mimetype": "text/x-python",
   "name": "python",
   "nbconvert_exporter": "python",
   "pygments_lexer": "ipython2",
   "version": "2.7.13"
  },
  "latex_envs": {
   "LaTeX_envs_menu_present": true,
   "autocomplete": true,
   "bibliofile": "biblio.bib",
   "cite_by": "apalike",
   "current_citInitial": 1,
   "eqLabelWithNumbers": true,
   "eqNumInitial": 1,
   "hotkeys": {
    "equation": "Ctrl-E",
    "itemize": "Ctrl-I"
   },
   "labels_anchors": false,
   "latex_user_defs": false,
   "report_style_numbering": false,
   "user_envs_cfg": false
  },
  "title": "Binding Energy and Mass Defect"
 },
 "nbformat": 4,
 "nbformat_minor": 2
}
