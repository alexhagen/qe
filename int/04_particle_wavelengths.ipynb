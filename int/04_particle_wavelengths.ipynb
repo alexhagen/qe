{
 "cells": [
  {
   "cell_type": "code",
   "execution_count": 1,
   "metadata": {},
   "outputs": [],
   "source": [
    "import lyxithea.lyxithea as lyx\n",
    "\n",
    "bib = lyx.bib('bibs/qe.bib')"
   ]
  },
  {
   "cell_type": "markdown",
   "metadata": {
    "variables": {
     " bib.pcite('Krane1988') ": "(<a href=\"#Krane1988\">Krane,  1988</a>)",
     " bib.pcite('Lamarsh2001a') ": "(<a href=\"#Lamarsh2001a\">Lamarsh,  et. al. 2001</a>)"
    }
   },
   "source": [
    "# Particle Wavelengths\n",
    "\n",
    "The idea of particles having wavelengths is pretty central to a lot of modern physics, and {{ bib.pcite('Krane1988') }} is a good reference for the idea, but I would assume that most physics textbooks have this to come degree.\n",
    "\n",
    "De Broglie hypothesized that every particle is also a wave (and the converse), and that we could assign them a wavelength depending on their rest mass and kinetic energy.\n",
    "\n",
    "## Mass Bearing\n",
    "\n",
    "For mass bearing particles, the pythagorean distance of between the particle's kinetic energy and rest mass energy is the total energy.  Thus, we can solve the equation\n",
    "$$E = \\frac{hc}{\\lambda}$$ with $h = 4.135\\times 10^{-5}\\unit{eV\\cdot s}$ as $$\\lambda = \\frac{hc}{\\sqrt{E_{total}^{2} - E_{rest}^{2}}}$$\n",
    "\n",
    "## Non Mass Bearing\n",
    "\n",
    "For non mass bearing particles (photons), the rest mass energy is non sensical, so we get the simple result that $$\\lambda=\\frac{hc}{E}$$"
   ]
  },
  {
   "cell_type": "code",
   "execution_count": 2,
   "metadata": {},
   "outputs": [
    {
     "data": {
      "text/html": [
       "<h2>Bibliography</h2>\n",
       "<ol>\n",
       "<li name=\"Lamarsh2001a\">\n",
       "<!-- This document was automatically generated with bibtex2html 1.98\n",
       "     (see http://www.lri.fr/~filliatr/bibtex2html/),\n",
       "     with the following command:\n",
       "     bibtex2html -nokeys -o - -s plain -nodoc -q /var/folders/cy/f4wwjss96p34f35b2w98ynk80000gp/T/tmpxyWw0j.bib  -->\n",
       "\n",
       "\n",
       "\n",
       "\n",
       "<p><a name=\"Lamarsh2001a\"></a>\n",
       "\n",
       "John&nbsp;R Lamarsh and Anthony&nbsp;J Baratta.\n",
       " <em>Introduction to Nuclear Engineering</em>.\n",
       " Upper Saddle River, New Jersey, third edition, 2001.\n",
       "\n",
       "</p>\n",
       "</li>\n",
       "<li name=\"Krane1988\">\n",
       "<!-- This document was automatically generated with bibtex2html 1.98\n",
       "     (see http://www.lri.fr/~filliatr/bibtex2html/),\n",
       "     with the following command:\n",
       "     bibtex2html -nokeys -o - -s plain -nodoc -q /var/folders/cy/f4wwjss96p34f35b2w98ynk80000gp/T/tmpMU8aZi.bib  -->\n",
       "\n",
       "\n",
       "\n",
       "\n",
       "<p><a name=\"Krane1988\"></a>\n",
       "\n",
       "Kenneth&nbsp;S. Krane.\n",
       " <em>Introductory Nuclear Physics</em>.\n",
       " John Wiley &amp; Sons, Inc., Hoboken, NJ, 2nd edition, 1988.\n",
       "\n",
       "</p>\n",
       "</li>\n",
       "</ol>\n"
      ],
      "text/plain": [
       "<IPython.core.display.HTML object>"
      ]
     },
     "metadata": {},
     "output_type": "display_data"
    }
   ],
   "source": [
    "bib.bibliography()"
   ]
  }
 ],
 "metadata": {
  "breadcrumb": [
   {
    "title": "Interactions"
   }
  ],
  "hide_input": false,
  "kernelspec": {
   "display_name": "Python 2",
   "language": "python",
   "name": "python2"
  },
  "language_info": {
   "codemirror_mode": {
    "name": "ipython",
    "version": 2
   },
   "file_extension": ".py",
   "mimetype": "text/x-python",
   "name": "python",
   "nbconvert_exporter": "python",
   "pygments_lexer": "ipython2",
   "version": "2.7.12"
  },
  "latex_envs": {
   "LaTeX_envs_menu_present": true,
   "autocomplete": true,
   "bibliofile": "biblio.bib",
   "cite_by": "apalike",
   "current_citInitial": 1,
   "eqLabelWithNumbers": true,
   "eqNumInitial": 1,
   "hotkeys": {
    "equation": "Ctrl-E",
    "itemize": "Ctrl-I"
   },
   "labels_anchors": false,
   "latex_user_defs": false,
   "report_style_numbering": false,
   "user_envs_cfg": false
  },
  "title": "Binding Energy and Mass Defect"
 },
 "nbformat": 4,
 "nbformat_minor": 2
}
