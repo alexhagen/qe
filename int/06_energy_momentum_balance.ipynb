{
 "cells": [
  {
   "cell_type": "code",
   "execution_count": 1,
   "metadata": {
    "collapsed": true,
    "deletable": true,
    "editable": true
   },
   "outputs": [],
   "source": [
    "import lyxithea.lyxithea as lyx\n",
    "from pyg import twod as pyg2d\n",
    "from pym import func as pym\n",
    "import numpy as np\n",
    "\n",
    "bib = lyx.bib('bibs/qe.bib')"
   ]
  },
  {
   "cell_type": "markdown",
   "metadata": {
    "deletable": true,
    "editable": true,
    "variables": {
     " bib.pcite('Knoll2000') ": "\\[Knoll2000\\]",
     " bib.pcite('Nastasi1996') ": "(<a href=\"#Nastasi1996\">{Nastasi,  et. al. 1996</a>)"
    }
   },
   "source": [
    "# Energy and momenta balances\n",
    "\n",
    "Understanding energy and momentum balances is crucial to understanding of ion transport through matter. This material is reasonably common and spread out, but I'm referencing {{ bib.pcite('Knoll2000') }} and {{ bib.pcite('Nastasi1996') }}\n",
    "\n",
    "Consider the reaction $\\ce{_{4}^{9}Be\\left(p,\\alpha\\right)}$ with $T_{p}$ and $T_{\\alpha}$ given, and $\\alpha$ emerges at an angle of $90^{\\circ}$. Find $T_{R}$ for the recoil.\n",
    "\n",
    "First, we want to figure out the recoil. The recoil will have a $Z=4+1-2=3$ and an $A=9+1-4=6$ and is therefore $\\ce{^{6}Li}$. Then we move on to our energy conservation with \n",
    "\n",
    "$$\\cancelto{0}{T_{Be}}+m_{Be}c^{2}+T_{p}+m_{p}c^{2}=T_{R}+m_{R}c^{2}+T_{\\alpha}+m_{\\alpha}c^{2}T_{R}=T_{\\alpha}-T_{p}+\\left(m_{R}+m_{\\alpha}-m_{p}-m_{Be}\\right)c^{2}$$\n",
    "\n",
    "And we follow this up with a momentum conservation\n",
    "\n",
    "$$\\cancelto{0}{p_{Be}}+p_{p}=p_{R}+p_{\\alpha}\\frac{1}{c}\\sqrt{T_{p}\\left(T_{p}+2m_{p}c^{2}\\right)}=\\frac{1}{c}\\sqrt{T_{R}\\left(T_{R}+2m_{R}c^{2}\\right)}+\\frac{1}{c}\\sqrt{T_{\\alpha}\\left(T_{\\alpha}+2m_{\\alpha}c^{2}\\right)}$$\n",
    "and solve this, for $T_{R}$."
   ]
  },
  {
   "cell_type": "code",
   "execution_count": 2,
   "metadata": {
    "collapsed": false,
    "deletable": true,
    "editable": true
   },
   "outputs": [
    {
     "data": {
      "text/html": [
       "<h2>Bibliography</h2>\n",
       "<ol>\n",
       "</ol>\n"
      ],
      "text/plain": [
       "<IPython.core.display.HTML object>"
      ]
     },
     "metadata": {},
     "output_type": "display_data"
    }
   ],
   "source": [
    "bib.bibliography()"
   ]
  },
  {
   "cell_type": "code",
   "execution_count": null,
   "metadata": {
    "collapsed": true,
    "deletable": true,
    "editable": true
   },
   "outputs": [],
   "source": []
  }
 ],
 "metadata": {
  "breadcrumb": [
   {
    "title": "Interactions"
   }
  ],
  "hide_input": false,
  "kernelspec": {
   "display_name": "Python 2",
   "language": "python",
   "name": "python2"
  },
  "language_info": {
   "codemirror_mode": {
    "name": "ipython",
    "version": 2
   },
   "file_extension": ".py",
   "mimetype": "text/x-python",
   "name": "python",
   "nbconvert_exporter": "python",
   "pygments_lexer": "ipython2",
   "version": "2.7.13"
  },
  "latex_envs": {
   "LaTeX_envs_menu_present": true,
   "autocomplete": true,
   "bibliofile": "biblio.bib",
   "cite_by": "apalike",
   "current_citInitial": 1,
   "eqLabelWithNumbers": true,
   "eqNumInitial": 1,
   "hotkeys": {
    "equation": "Ctrl-E",
    "itemize": "Ctrl-I"
   },
   "labels_anchors": false,
   "latex_user_defs": false,
   "report_style_numbering": false,
   "user_envs_cfg": false
  },
  "title": "Binding Energy and Mass Defect"
 },
 "nbformat": 4,
 "nbformat_minor": 2
}
