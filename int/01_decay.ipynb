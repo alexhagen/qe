{
 "cells": [
  {
   "cell_type": "code",
   "execution_count": 2,
   "metadata": {
    "collapsed": false,
    "deletable": true,
    "editable": true
   },
   "outputs": [],
   "source": [
    "import lyxithea.lyxithea as lyx\n",
    "\n",
    "bib = lyx.bib('bibs/qe.bib')"
   ]
  },
  {
   "cell_type": "markdown",
   "metadata": {
    "deletable": true,
    "editable": true
   },
   "source": [
    "# Radioactive Decay"
   ]
  },
  {
   "cell_type": "markdown",
   "metadata": {
    "deletable": true,
    "editable": true,
    "variables": {
     " bib.pcite('Cember2012a') ": "(<a href=\"#Cember2012a\">Cember,  2012</a>)",
     " bib.pcite('Lamarsh2001a') ": "(<a href=\"#Lamarsh2001a\">Lamarsh,  et. al. 2001</a>)"
    }
   },
   "source": [
    "This material comes from everywhere, but I guess I'll just say that it comes from {{ bib.pcite('Lamarsh2001a') }} or {{ bib.pcite('Cember2012a') }}; both of these are great introductory texts for Nuclear Engineering."
   ]
  },
  {
   "cell_type": "markdown",
   "metadata": {
    "deletable": true,
    "editable": true
   },
   "source": [
    "It seems silly to say, but a lot of graduate nuclear engineers have to *think* about what decay means what as far as transmutation goes.  And we all know the problems with people thinking... It's important to **know** the transmutation situations for at least the most common modes of decay."
   ]
  },
  {
   "cell_type": "markdown",
   "metadata": {
    "deletable": true,
    "editable": true
   },
   "source": [
    "Given an atom of isotope $\\mathrm{\\sideset{^{A}_{Z}}{_{N}}X}$ where $A$ is the atomic number, $Z$ is the number of protons, and $N$ is the number of neutrons, and $X$ is the atom's symbol, we have the neutron atomic mass $M\\left(Z,A\\right)$. We can use the definition $1\\mathrm{amu} \\equiv 931.5\\mathrm{MeV}$ to convert this to our modified $cgs$ units system.\n",
    "\n",
    "**Positron Decay**\n",
    "\n",
    "A proton in the nucleus turns into a neutron, emitting a positron (positively charged particle with mass of an electron) and a neutrino.\n",
    "\n",
    "$$\\mathrm{\\sideset{^{A}_{Z}}{_{N}}X \\rightarrow \\sideset{^{A}_{Z-1}}{_{N+1}}Y + \\beta^{+} + \\nu}$$\n",
    "\n",
    "**Beta Decay**\n",
    "\n",
    "A neutron in the nucleus turns into a proton, emitting a $\\beta$ (negative charged particle with mass of an electron - basically an electron) and an anti-neutrino.\n",
    "\n",
    "$$\\mathrm{\\sideset{^{A}_{Z}}{_{N}}X \\rightarrow \\sideset{^{A}_{Z+1}}{_{N-1}}Y + \\beta^{-} + \\overline{\\nu}}$$\n",
    "\n",
    "**Alpha Decay**\n",
    "\n",
    "A helium nucleus within the full nucleus is ejected.\n",
    "\n",
    "$$\\mathrm{\\sideset{^{A}_{Z}}{_{N}}X \\rightarrow \\sideset{^{A-4}_{Z-2}}{_{N-2}}Y + \\sideset{^{4}_{2}}{_{2}}\\alpha}$$"
   ]
  },
  {
   "cell_type": "code",
   "execution_count": 4,
   "metadata": {
    "collapsed": false,
    "deletable": true,
    "editable": true
   },
   "outputs": [
    {
     "data": {
      "text/html": [
       "<h2>Bibliography</h2>\n",
       "<ol>\n",
       "<li name=\"Lamarsh2001a\">\n",
       "<!-- This document was automatically generated with bibtex2html 1.98\n",
       "     (see http://www.lri.fr/~filliatr/bibtex2html/),\n",
       "     with the following command:\n",
       "     /usr/bin/bibtex2html -nokeys -o - -s plain -nodoc -q /tmp/tmpHO4Gr4.bib  -->\n",
       "\n",
       "\n",
       "\n",
       "\n",
       "<p><a name=\"Lamarsh2001a\"></a>\n",
       "\n",
       "John&nbsp;R Lamarsh and Anthony&nbsp;J Baratta.\n",
       " <em>Introduction to Nuclear Engineering</em>.\n",
       " Upper Saddle River, New Jersey, third edition, 2001.\n",
       "\n",
       "</p>\n",
       "</li>\n",
       "<li name=\"Cember2012a\">\n",
       "<!-- This document was automatically generated with bibtex2html 1.98\n",
       "     (see http://www.lri.fr/~filliatr/bibtex2html/),\n",
       "     with the following command:\n",
       "     /usr/bin/bibtex2html -nokeys -o - -s plain -nodoc -q /tmp/tmpMqXtHC.bib  -->\n",
       "\n",
       "\n",
       "\n",
       "\n",
       "<p><a name=\"Cember2012a\"></a>\n",
       "\n",
       "H.&nbsp;Cember.\n",
       " <em>Introduction to Health Physics</em>.\n",
       " McGraw Medical, New York, 4th edition, 2012.\n",
       "\n",
       "</p>\n",
       "</li>\n",
       "</ol>\n"
      ],
      "text/plain": [
       "<IPython.core.display.HTML object>"
      ]
     },
     "metadata": {},
     "output_type": "display_data"
    }
   ],
   "source": [
    "bib.bibliography()"
   ]
  }
 ],
 "metadata": {
  "breadcrumb": [
   {
    "title": "Interactions"
   }
  ],
  "hide_input": false,
  "kernelspec": {
   "display_name": "Python 2",
   "language": "python",
   "name": "python2"
  },
  "language_info": {
   "codemirror_mode": {
    "name": "ipython",
    "version": 2
   },
   "file_extension": ".py",
   "mimetype": "text/x-python",
   "name": "python",
   "nbconvert_exporter": "python",
   "pygments_lexer": "ipython2",
   "version": "2.7.12"
  },
  "latex_envs": {
   "LaTeX_envs_menu_present": true,
   "autocomplete": true,
   "bibliofile": "bibs/dissertation.bib",
   "cite_by": "apalike",
   "current_citInitial": 1,
   "eqLabelWithNumbers": true,
   "eqNumInitial": 1,
   "hotkeys": {
    "equation": "Ctrl-E",
    "itemize": "Ctrl-I"
   },
   "labels_anchors": false,
   "latex_user_defs": false,
   "report_style_numbering": false,
   "user_envs_cfg": false
  },
  "title": "Radioactive Decay"
 },
 "nbformat": 4,
 "nbformat_minor": 2
}
