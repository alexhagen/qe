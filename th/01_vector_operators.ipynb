{
 "cells": [
  {
   "cell_type": "code",
   "execution_count": 1,
   "metadata": {
    "collapsed": true
   },
   "outputs": [],
   "source": [
    "import lyxithea.lyxithea as lyx\n",
    "\n",
    "bib = lyx.bib('bibs/qe.bib')"
   ]
  },
  {
   "cell_type": "markdown",
   "metadata": {},
   "source": [
    "# Vector Operators"
   ]
  },
  {
   "cell_type": "markdown",
   "metadata": {
    "variables": {
     " bib.pcite('Bird2007') ": "(<a href=\"#Bird2007\">Bird,  et. al. 2007</a>)"
    }
   },
   "source": [
    "Based on material from {{ bib.pcite('Bird2007') }}.\n",
    "\n",
    "The vector operators are tensor math operators that are used throughout continuum mechanics.  These identities are prerequisite to many of the continuum mechanics problems (e.g. the falling film problem). They should be remembered and used.  I personally used flashcards to remember the expressions, although many of them can be determined through use of the gradient ($\\nabla$) operator and the inner product operator ($\\cdot$)."
   ]
  },
  {
   "cell_type": "markdown",
   "metadata": {},
   "source": [
    "## Gradient ($\\nabla$)"
   ]
  },
  {
   "cell_type": "code",
   "execution_count": 2,
   "metadata": {},
   "outputs": [
    {
     "data": {
      "text/html": [
       "\n",
       "            <div class='table' style='align: center; margin-left: auto; margin-right: auto;'>\n",
       "                <div style='margin: auto; text-align: center;' class='tablecaption' name='grad'><b>Table 1:</b> Vector operators for gradient</div>\n",
       "                <table>\n",
       "<thead>\n",
       "<tr><th style=\"text-align: center;\"> Property  </th><th style=\"text-align: center;\">                                                                                     Expression                                                                                     </th></tr>\n",
       "</thead>\n",
       "<tbody>\n",
       "<tr><td style=\"text-align: center;\">Commutative</td><td style=\"text-align: center;\">                                                                    $\\nabla\\left(fg\\right)=f\\nabla g+g\\nabla f$                                                                     </td></tr>\n",
       "<tr><td style=\"text-align: center;\"> Cartesian </td><td style=\"text-align: center;\">                             $\\nabla f=\\frac{\\partial f}{\\partial x}\\hat{x}+\\frac{\\partial f}{\\partial y}\\hat{y}+\\frac{\\partial f}{\\partial z}\\hat{z}$                              </td></tr>\n",
       "<tr><td style=\"text-align: center;\">Cylindrical</td><td style=\"text-align: center;\">                   $\\nabla f=\\frac{\\partial f}{\\partial r}\\hat{r}+\\frac{1}{r}\\frac{\\partial f}{\\partial\\theta}\\hat{\\theta}+\\frac{\\partial f}{\\partial z}\\hat{z}$                    </td></tr>\n",
       "<tr><td style=\"text-align: center;\"> Spherical </td><td style=\"text-align: center;\">$\\nabla f=\\frac{\\partial f}{\\partial r}\\hat{r}+\\frac{1}{r}\\frac{\\partial f}{\\partial\\theta}\\hat{\\theta}+\\frac{1}{r\\sin\\left(\\theta\\right)}\\frac{\\partial f}{\\partial\\phi}\\hat{\\phi}$</td></tr>\n",
       "</tbody>\n",
       "</table>\n",
       "            </div>\n",
       "        "
      ],
      "text/plain": [
       "<IPython.core.display.HTML object>"
      ]
     },
     "metadata": {},
     "output_type": "display_data"
    }
   ],
   "source": [
    "header = ['Property', 'Expression']\n",
    "com = ['Commutative', r'$\\nabla\\left(fg\\right)=f\\nabla g+g\\nabla f$']\n",
    "cart = ['Cartesian', r'$\\nabla f=\\frac{\\partial f}{\\partial x}\\hat{x}+\\frac{\\partial f}{\\partial y}\\hat{y}+\\frac{\\partial f}{\\partial z}\\hat{z}$']\n",
    "cyl = ['Cylindrical', r'$\\nabla f=\\frac{\\partial f}{\\partial r}\\hat{r}+\\frac{1}{r}\\frac{\\partial f}{\\partial\\theta}\\hat{\\theta}+\\frac{\\partial f}{\\partial z}\\hat{z}$']\n",
    "sph = ['Spherical', r'$\\nabla f=\\frac{\\partial f}{\\partial r}\\hat{r}+\\frac{1}{r}\\frac{\\partial f}{\\partial\\theta}\\hat{\\theta}+\\frac{1}{r\\sin\\left(\\theta\\right)}\\frac{\\partial f}{\\partial\\phi}\\hat{\\phi}$']\n",
    "\n",
    "arr = [com, cart, cyl, sph]\n",
    "lyx.table(arr, 'Vector operators for gradient', label='grad', headers=header)"
   ]
  },
  {
   "cell_type": "markdown",
   "metadata": {},
   "source": [
    "## Divergence ($\\nabla \\cdot$)"
   ]
  },
  {
   "cell_type": "code",
   "execution_count": 5,
   "metadata": {},
   "outputs": [
    {
     "data": {
      "text/html": [
       "\n",
       "            <div class='table' style='align: center; margin-left: auto; margin-right: auto;'>\n",
       "                <div style='margin: auto; text-align: center;' class='tablecaption' name='div'><b>Table 3:</b> Vector operators for divergence</div>\n",
       "                <table>\n",
       "<thead>\n",
       "<tr><th style=\"text-align: center;\"> Property  </th><th style=\"text-align: center;\">                                                                                                                                Expression                                                                                                                                </th></tr>\n",
       "</thead>\n",
       "<tbody>\n",
       "<tr><td style=\"text-align: center;\">Commutative</td><td style=\"text-align: center;\">                                                                                $\\nabla\\cdot\\left(f\\vec{v}\\right)=f\\left(\\nabla\\cdot\\vec{v}\\right)+\\vec{v}\\cdot\\left(\\nabla\\cdot f\\right)$                                                                                </td></tr>\n",
       "<tr><td style=\"text-align: center;\"> Cartesian </td><td style=\"text-align: center;\">                                                                          $\\nabla\\cdot f=\\frac{\\partial v_{x}}{\\partial x}+\\frac{\\partial v_{y}}{\\partial y}+\\frac{\\partial v_{z}}{\\partial z}$                                                                           </td></tr>\n",
       "<tr><td style=\"text-align: center;\">Cylindrical</td><td style=\"text-align: center;\">                                                    $\\nabla\\cdot f=\\frac{1}{r}\\frac{\\partial\\left(rv_{r}\\right)}{\\partial r}+\\frac{1}{r}\\frac{\\partial v_{\\theta}}{\\partial\\theta}+\\frac{\\partial v_{z}}{\\partial z}$                                                     </td></tr>\n",
       "<tr><td style=\"text-align: center;\"> Spherical </td><td style=\"text-align: center;\">$\\nabla\\cdot f=\\frac{1}{r^{2}}\\frac{\\partial\\left(r^{2}v_{r}\\right)}{\\partial r}+\\frac{1}{r\\sin\\left(\\theta\\right)}\\frac{\\partial\\left(\\sin\\left(\\theta\\right)v_{\\theta}\\right)}{\\partial\\theta}+\\frac{1}{r\\sin\\left(\\theta\\right)}\\frac{\\partial v_{\\phi}}{\\partial\\phi}$</td></tr>\n",
       "</tbody>\n",
       "</table>\n",
       "            </div>\n",
       "        "
      ],
      "text/plain": [
       "<IPython.core.display.HTML object>"
      ]
     },
     "metadata": {},
     "output_type": "display_data"
    }
   ],
   "source": [
    "com[1] = r'$\\nabla\\cdot\\left(f\\vec{v}\\right)=f\\left(\\nabla\\cdot\\vec{v}\\right)+\\vec{v}\\cdot\\left(\\nabla\\cdot f\\right)$'\n",
    "cart[1] = r'$\\nabla\\cdot f=\\frac{\\partial v_{x}}{\\partial x}+\\frac{\\partial v_{y}}{\\partial y}+\\frac{\\partial v_{z}}{\\partial z}$'\n",
    "cyl[1] = r'$\\nabla\\cdot f=\\frac{1}{r}\\frac{\\partial\\left(rv_{r}\\right)}{\\partial r}+\\frac{1}{r}\\frac{\\partial v_{\\theta}}{\\partial\\theta}+\\frac{\\partial v_{z}}{\\partial z}$'\n",
    "sph[1] = r'$\\nabla\\cdot f=\\frac{1}{r^{2}}\\frac{\\partial\\left(r^{2}v_{r}\\right)}{\\partial r}+\\frac{1}{r\\sin\\left(\\theta\\right)}\\frac{\\partial\\left(\\sin\\left(\\theta\\right)v_{\\theta}\\right)}{\\partial\\theta}+\\frac{1}{r\\sin\\left(\\theta\\right)}\\frac{\\partial v_{\\phi}}{\\partial\\phi}$'\n",
    "\n",
    "arr = [com, cart, cyl, sph]\n",
    "lyx.table(arr, 'Vector operators for divergence', label='div', headers=header)"
   ]
  },
  {
   "cell_type": "markdown",
   "metadata": {},
   "source": [
    "## Laplacian ($\\nabla^{2}$)"
   ]
  },
  {
   "cell_type": "code",
   "execution_count": 6,
   "metadata": {},
   "outputs": [
    {
     "data": {
      "text/html": [
       "\n",
       "            <div class='table' style='align: center; margin-left: auto; margin-right: auto;'>\n",
       "                <div style='margin: auto; text-align: center;' class='tablecaption' name='lap'><b>Table 4:</b> Vector operators for the Laplacian</div>\n",
       "                <table>\n",
       "<thead>\n",
       "<tr><th style=\"text-align: center;\"> Property  </th><th style=\"text-align: center;\">                                                                                                                                                         Expression                                                                                                                                                         </th></tr>\n",
       "</thead>\n",
       "<tbody>\n",
       "<tr><td style=\"text-align: center;\"> Cartesian </td><td style=\"text-align: center;\">                                                                                                $\\nabla^{2}f=\\frac{\\partial^{2}f}{\\partial x^{2}}+\\frac{\\partial^{2}f}{\\partial y^{2}}+\\frac{\\partial^{2}f}{\\partial z^{2}}$                                                                                                </td></tr>\n",
       "<tr><td style=\"text-align: center;\">Cylindrical</td><td style=\"text-align: center;\">                                                                $\\nabla^{2}f=\\frac{1}{r}\\frac{\\partial}{\\partial r}\\left(r\\frac{\\partial f}{\\partial r}\\right)+\\frac{1}{r^{2}}\\frac{\\partial^{2}f}{\\partial\\theta^{2}}+\\frac{\\partial^{2}f}{\\partial z^{2}}$                                                                </td></tr>\n",
       "<tr><td style=\"text-align: center;\"> Spherical </td><td style=\"text-align: center;\">$\\nabla^{2}f=\\frac{1}{r^{2}}\\frac{\\partial}{\\partial r}\\left(r^{2}\\frac{\\partial f}{\\partial r}\\right)+\\frac{1}{r^{2}\\sin\\left(\\theta\\right)}\\frac{\\partial}{\\partial\\theta}\\left(\\sin\\left(\\theta\\right)\\frac{\\partial f}{\\partial\\theta}\\right)+\\frac{1}{r^{2}\\sin^{2}\\left(\\theta\\right)}\\frac{\\partial f}{\\partial\\phi}$</td></tr>\n",
       "</tbody>\n",
       "</table>\n",
       "            </div>\n",
       "        "
      ],
      "text/plain": [
       "<IPython.core.display.HTML object>"
      ]
     },
     "metadata": {},
     "output_type": "display_data"
    }
   ],
   "source": [
    "cart[1] = r'$\\nabla^{2}f=\\frac{\\partial^{2}f}{\\partial x^{2}}+\\frac{\\partial^{2}f}{\\partial y^{2}}+\\frac{\\partial^{2}f}{\\partial z^{2}}$'\n",
    "cyl[1] = r'$\\nabla^{2}f=\\frac{1}{r}\\frac{\\partial}{\\partial r}\\left(r\\frac{\\partial f}{\\partial r}\\right)+\\frac{1}{r^{2}}\\frac{\\partial^{2}f}{\\partial\\theta^{2}}+\\frac{\\partial^{2}f}{\\partial z^{2}}$'\n",
    "sph[1] = r'$\\nabla^{2}f=\\frac{1}{r^{2}}\\frac{\\partial}{\\partial r}\\left(r^{2}\\frac{\\partial f}{\\partial r}\\right)+\\frac{1}{r^{2}\\sin\\left(\\theta\\right)}\\frac{\\partial}{\\partial\\theta}\\left(\\sin\\left(\\theta\\right)\\frac{\\partial f}{\\partial\\theta}\\right)+\\frac{1}{r^{2}\\sin^{2}\\left(\\theta\\right)}\\frac{\\partial f}{\\partial\\phi}$'\n",
    "\n",
    "arr = [cart, cyl, sph]\n",
    "lyx.table(arr, 'Vector operators for the Laplacian', label='lap', headers=header)"
   ]
  },
  {
   "cell_type": "code",
   "execution_count": 7,
   "metadata": {},
   "outputs": [
    {
     "data": {
      "text/html": [
       "<h2>Bibliography</h2>\n",
       "<ol>\n",
       "<li name=\"Bird2007\">\n",
       "<!-- This document was automatically generated with bibtex2html 1.98\n",
       "     (see http://www.lri.fr/~filliatr/bibtex2html/),\n",
       "     with the following command:\n",
       "     /usr/bin/bibtex2html -nokeys -o - -s plain -nodoc -q /tmp/tmpQFuP5v.bib  -->\n",
       "\n",
       "\n",
       "\n",
       "\n",
       "<p><a name=\"Bird2007\"></a>\n",
       "\n",
       "R.&nbsp;B. Bird, W.&nbsp;E. Stewart, and E.&nbsp;N. Lightfoot.\n",
       " <em>Transport Phenomena</em>.\n",
       " John Wiley &amp; Sons, Inc., New York, NY, 2nd edition, 2007.\n",
       "\n",
       "</p>\n",
       "</li>\n",
       "</ol>\n"
      ],
      "text/plain": [
       "<IPython.core.display.HTML object>"
      ]
     },
     "metadata": {},
     "output_type": "display_data"
    }
   ],
   "source": [
    "bib.bibliography()"
   ]
  }
 ],
 "metadata": {
  "breadcrumb": [
   {
    "title": "Thermal Hydraulics"
   },
   {
    "title": "General Balance Equations and Basic Heat Transfer"
   }
  ],
  "hide_input": false,
  "kernelspec": {
   "display_name": "Python 2",
   "language": "python",
   "name": "python2"
  },
  "language_info": {
   "codemirror_mode": {
    "name": "ipython",
    "version": 2
   },
   "file_extension": ".py",
   "mimetype": "text/x-python",
   "name": "python",
   "nbconvert_exporter": "python",
   "pygments_lexer": "ipython2",
   "version": "2.7.12"
  },
  "latex_envs": {
   "LaTeX_envs_menu_present": true,
   "autocomplete": true,
   "bibliofile": "bibs/dissertation.bib",
   "cite_by": "apalike",
   "current_citInitial": 1,
   "eqLabelWithNumbers": true,
   "eqNumInitial": 1,
   "hotkeys": {
    "equation": "Ctrl-E",
    "itemize": "Ctrl-I"
   },
   "labels_anchors": false,
   "latex_user_defs": false,
   "report_style_numbering": false,
   "user_envs_cfg": false
  },
  "title": "Vector Operations"
 },
 "nbformat": 4,
 "nbformat_minor": 2
}
