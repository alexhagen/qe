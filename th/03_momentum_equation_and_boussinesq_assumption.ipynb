{
 "cells": [
  {
   "cell_type": "code",
   "execution_count": 1,
   "metadata": {
    "collapsed": false,
    "deletable": true,
    "editable": true
   },
   "outputs": [
    {
     "data": {
      "application/javascript": [
       "\n",
       "MathJax.Hub.Insert(MathJax.InputJax.TeX.Definitions.macros,{\n",
       "    cancel: [\"Extension\",\"cancel\"],\n",
       "    bcancel: [\"Extension\",\"cancel\"],\n",
       "    xcancel: [\"Extension\",\"cancel\"],\n",
       "    cancelto: [\"Extension\",\"cancel\"]\n",
       "  });\n"
      ],
      "text/plain": [
       "<IPython.core.display.Javascript object>"
      ]
     },
     "metadata": {},
     "output_type": "display_data"
    }
   ],
   "source": [
    "import lyxithea.lyxithea as lyx\n",
    "\n",
    "bib = lyx.bib('bibs/qe.bib')"
   ]
  },
  {
   "cell_type": "markdown",
   "metadata": {
    "deletable": true,
    "editable": true,
    "variables": {
     " bib.pcite('Bird2007') ": "(<a href=\"#Bird2007\">Bird,  et. al. 2007</a>)"
    }
   },
   "source": [
    "# Momentum Equation and Boussinesq Assumption\n",
    "\n",
    "Based on information from {{ bib.pcite('Bird2007') }}.  Continuing with the derivation of the conservation equations, again we use the GBE to derive a conservation equation that defines the conservation of momentum."
   ]
  },
  {
   "cell_type": "markdown",
   "metadata": {
    "deletable": true,
    "editable": true
   },
   "source": [
    "## Momentum Equation\n",
    "\n",
    "Applying the GBE with $\\psi = \\rho \\vec{v}$, $\\mathbb{J} = \\mathbb{T} = p\\mathbb{I} + \\tau$, and $\\dot{\\psi}_{g} = \\rho\\vec{f}_{b} = \\rho\\vec{g}$, which is to say:  the conservation quantity we will use is momentum, which when normalized per unit volume, becomes $\\rho \\vec{v}$.  Note that this is a vector quantity.  The current of momentum across a boundary is a tensor which involves a symmetric tensor for the pressure in a system (which is isotropic), and the torque applied to the system.  And finally, that the only generation of momentum is due to body forces, of which gravity is the only concern (unless we're working with magnetohydrodynamics).  With these, we get $$\\underbrace{\\frac{\\partial\\left(\\rho\\vec{v}\\right)}{\\partial t}}_{\\substack{\\text{rate of change}\\\\\n",
    "\\text{of momentum}\\\\\n",
    "\\text{per unit volume}\n",
    "}\n",
    "}+\\underbrace{\\nabla\\cdot\\left(\\rho\\vec{v}\\vec{v}\\right)}_{\\substack{\\text{momentum change}\\\\\n",
    "\\text{by convection}\\\\\n",
    "\\text{per unit volume}\n",
    "}\n",
    "}=-\\underbrace{\\nabla p}_{\\substack{\\text{pressure}\\\\\n",
    "\\text{force}\n",
    "}\n",
    "}-\\underbrace{\\nabla\\cdot\\boldsymbol{\\tau}}_{\\substack{\\text{viscous}\\\\\n",
    "\\text{force}\n",
    "}\n",
    "}+\\underbrace{\\rho\\vec{v}}_{\\substack{\\text{gravity}\\\\\n",
    "\\text{force}\n",
    "}\n",
    "}$$\n",
    "\n",
    "By again using the definition of the substantial derivative, we can create Cauchy's Equation of motion as\n",
    "\n",
    "$$\\rho\\frac{D\\vec{v}}{Dt}=-\\nabla p-\\nabla\\cdot\\boldsymbol{\\tau}+\\rho\\vec{g}$$\n",
    "\n",
    "and by inspection, we can see that this matches Newton's Second Law of Motion:\n",
    "\n",
    "$$\\rho\\vec{a}=\\sum\\vec{F}$$"
   ]
  },
  {
   "cell_type": "markdown",
   "metadata": {
    "deletable": true,
    "editable": true
   },
   "source": [
    "## Boussinesq Assumption\n",
    "\n",
    "When gravity is important, we use the Boussinesq assumption(s):\n",
    "\n",
    "- Thermal expansion ($\\beta$) causes density change.\n",
    "- This happens by the thermal expansion coefficient, $\\beta$, such that $$\\beta\\equiv\\frac{1}{\\nu}\\left.\\frac{\\partial\\nu}{\\partial T}\\right)_{p}=\\frac{1}{\\rho}\\left.\\frac{\\partial\\rho}{\\partial T}\\right)_{p}$$\n",
    "- This density change is only important in the gravity term.\n",
    "\n",
    "Applying those assumptions, we get $$dp=-\\rho\\beta dT\\;\\;\\therefore\\;\\;\\rho-\\overline{\\rho}=-\\overline{\\rho}\\beta\\left(T-\\overline{T}\\right)$$ and putting that into the momentum equations, we get $$\\overline{\\rho}\\frac{D\\vec{v}}{Dt}=-\\cancelto{\\nabla p_{dyn}}{\\nabla p}-\\nabla\\cdot\\boldsymbol{\\tau}+\\left[\\cancelto{0}{\\overline{\\rho}}-\\overline{\\rho}\\beta\\left(T-\\overline{T}\\right)\\right]\\vec{g}$$."
   ]
  },
  {
   "cell_type": "code",
   "execution_count": 2,
   "metadata": {
    "collapsed": false,
    "deletable": true,
    "editable": true
   },
   "outputs": [
    {
     "data": {
      "text/html": [
       "<h2>Bibliography</h2>\n",
       "<ol>\n",
       "<li name=\"Bird2007\">\n",
       "<!-- This document was automatically generated with bibtex2html 1.98\n",
       "     (see http://www.lri.fr/~filliatr/bibtex2html/),\n",
       "     with the following command:\n",
       "     /usr/bin/bibtex2html -nokeys -o - -s plain -nodoc -q /tmp/tmpqWULc2.bib  -->\n",
       "\n",
       "\n",
       "\n",
       "\n",
       "<p><a name=\"Bird2007\"></a>\n",
       "\n",
       "R.&nbsp;B. Bird, W.&nbsp;E. Stewart, and E.&nbsp;N. Lightfoot.\n",
       " <em>Transport Phenomena</em>.\n",
       " John Wiley &amp; Sons, Inc., New York, NY, 2nd edition, 2007.\n",
       "\n",
       "</p>\n",
       "</li>\n",
       "</ol>\n"
      ],
      "text/plain": [
       "<IPython.core.display.HTML object>"
      ]
     },
     "metadata": {},
     "output_type": "display_data"
    }
   ],
   "source": [
    "bib.bibliography()"
   ]
  }
 ],
 "metadata": {
  "hide_input": false,
  "kernelspec": {
   "display_name": "Python 2",
   "language": "python",
   "name": "python2"
  },
  "language_info": {
   "codemirror_mode": {
    "name": "ipython",
    "version": 2
   },
   "file_extension": ".py",
   "mimetype": "text/x-python",
   "name": "python",
   "nbconvert_exporter": "python",
   "pygments_lexer": "ipython2",
   "version": "2.7.12"
  },
  "latex_envs": {
   "LaTeX_envs_menu_present": true,
   "autocomplete": true,
   "bibliofile": "bibs/dissertation.bib",
   "cite_by": "apalike",
   "current_citInitial": 1,
   "eqLabelWithNumbers": true,
   "eqNumInitial": 1,
   "hotkeys": {
    "equation": "Ctrl-E",
    "itemize": "Ctrl-I"
   },
   "labels_anchors": false,
   "latex_user_defs": false,
   "report_style_numbering": false,
   "user_envs_cfg": false
  }
 },
 "nbformat": 4,
 "nbformat_minor": 2
}
