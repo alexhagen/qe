{
 "cells": [
  {
   "cell_type": "code",
   "execution_count": 1,
   "metadata": {
    "collapsed": true
   },
   "outputs": [],
   "source": [
    "import lyxithea.lyxithea as lyx\n",
    "from pym import func as pym\n",
    "from pyg import twod as pyg2d\n",
    "import numpy as np\n",
    "\n",
    "bib = lyx.bib('bibs/qe.bib')"
   ]
  },
  {
   "cell_type": "markdown",
   "metadata": {},
   "source": [
    "# Prandtl's Mixing Length\n",
    "\n",
    "Remember turbulent momentum equation $$\\frac{\\partial\\rho\\overline{v}}{\\partial t}+\\nabla\\cdot\\rho\\overline{vv}=-\\nabla\\overline{p}-\\nabla\\cdot\\tau^{T}+\\rho\\vec{g}$$ We can use two models for the turbulent viscosity: Eddy Viscosity and Prandtl's Mixing Length Model."
   ]
  },
  {
   "cell_type": "markdown",
   "metadata": {},
   "source": [
    "## Eddy Viscosity\n",
    "\n",
    "Using Newton's viscosity model $$\\tau_{xy}^{t}=-\\mu^{t}\\frac{\\partial\\overline{v_{x}}}{\\partial y}$$ but unfortunately, $\\mu=\\mu\\left(\\vec{x}\\right)$ and non-linear, so instead we use PML"
   ]
  },
  {
   "cell_type": "markdown",
   "metadata": {},
   "source": [
    "## Prandtl's Mixing Length Model\n",
    "\n",
    "Momentum transfer at discrete intervals only after the eddy mass ($\\delta m$) has moved an entire length ($l$). $$\\underbrace{\\delta m\\delta v_{x}}_{\\substack{\\text{momentum}\\\\\n",
    "\\text{gain in the x}\\\\\n",
    "\\text{direction}\n",
    "}\n",
    "}\\;\\;\\Longrightarrow\\;\\;\\underbrace{\\frac{\\delta m}{\\delta t}\\delta v_{x}}_{\\substack{\\text{force}}\n",
    "}\\;\\;\\Longrightarrow\\;\\;\\tau^{t}=\\frac{F}{A}=\\underbrace{-\\frac{1}{A}\\frac{\\delta m}{\\delta t}\\delta v_{x}}_{\\substack{\\text{shear stress}\\\\\n",
    "\\text{acting against}\\\\\n",
    "\\delta v_{x}\\text{ over area }A\n",
    "}\n",
    "}$$ By assuming that $l$ is very small: $$\\delta v_{x}\\approx\\frac{\\delta\\overline{v_{x}}}{\\delta y}l$$ and applying continuity (or matching units) $$\\frac{1}{A}\\frac{\\delta m}{\\delta t}=\\rho\\left|v_{y}^{'}\\right|$$ And therefore we have $$\\frac{\\tau^{t}}{\\rho}=-l\\left|v_{y}^{'}\\right|\\frac{d\\overline{v_{x}}}{dy}=-\\varepsilon_{M}\\frac{d\\overline{v_{x}}}{dy}$$\n",
    "Applying Prandtl's Assumptions:\n",
    "\n",
    "- perpendicular velocity is proportional to the flow velocity $$\\left|v_{y}^{'}\\right|=k_{1}\\left|v_{x}^{'}\\right|$$\n",
    "- fluctuation in x direction velocity is propotional to the rate of change of x direction velocity times the length moved $$v_{x}^{'}=k_{2}\\delta v_{x}=k_{2}l\\frac{d\\overline{v_{x}}}{dy}$$ and, minorly, $l=ky$ $$\\frac{\\tau^{t}}{\\rho}=-\\left(ky\\right)\\left|k_{1}\\left|k_{2}\\left(ky\\right)\\frac{d\\overline{v_{x}}}{dy}\\right|\\right|\\frac{d\\overline{v_{x}}}{dy}=-k^{2}y^{2}\\left(\\frac{d\\overline{v_{x}}}{dy}\\right)^{2}$$\n",
    "\n",
    "therefore $$\\frac{d\\overline{v_{x}}}{dy}=-\\frac{1}{ky}\\sqrt{\\frac{\\tau^{t}}{\\rho}}$$ and we can assume that all of the turbulent stress comes from the wall ($\\tau^{t}=\\tau^{w}$).\n",
    "\n",
    "By non dimensionalizing with $$v^{*}=\\frac{v_{x}}{\\sqrt{\\nicefrac{\\tau^{t}}{\\rho}}}\\;\\;\\&\\;\\;y^{*}=\\frac{y\\sqrt{\\nicefrac{\\tau^{t}}{\\rho}}}{v}$$ we get $$\\frac{dv^{*}}{dy^{*}}=\\frac{1}{ky^{*}}\\;\\;\\therefore\\;\\;v^{*}=\\frac{1}{R}\\ln\\left(y^{*}\\right)+C$$"
   ]
  },
  {
   "cell_type": "code",
   "execution_count": 7,
   "metadata": {},
   "outputs": [
    {
     "data": {
      "text/html": [
       "\n",
       "\t\t\t\t<div class='pygfigure' name='ultp' style='text-align: center; max-width: 800px; margin-left: auto; margin-right: auto;'>\n",
       "\t\t\t\t\t<img style='margin: auto; max-width:100%; width:1250.000000px; height: auto;' src='universallogprofile.svg?576122893' />\n",
       "\t\t\t\t\t<div style='margin: auto; text-align: center;' class='figurecaption'><b>Figure 5:</b> Universal log turbulent profile</div>\n",
       "\t\t\t\t</div>\n",
       "\t\t\t"
      ],
      "text/plain": [
       "<IPython.core.display.HTML object>"
      ]
     },
     "metadata": {},
     "output_type": "display_data"
    }
   ],
   "source": [
    "x1 = np.linspace(0.1, np.exp(1.))\n",
    "y1 = x1 - np.exp(1.0) + 1.0\n",
    "curve = pym.curve(x1, y1)\n",
    "x2 = np.linspace(np.exp(1.), 22.)\n",
    "y2 = np.log(x2)\n",
    "curve.add_data(x2, y2)\n",
    "x3 = np.linspace(22., 1000.)\n",
    "y3 = 0.5 * np.log(x3) + 0.5 * np.log(22.)\n",
    "curve.add_data(x3, y3)\n",
    "plot = curve.plot()\n",
    "\n",
    "plot.add_hmeasure(0.1, np.exp(1.), 1., 'viscous sublayer', log=True)\n",
    "plot.add_hmeasure(np.exp(1.), 22., 0.5, 'buffer region', log=True)\n",
    "plot.add_hmeasure(22., 1000., np.log(22.) - 0.5, 'turbulent core', log=True)\n",
    "\n",
    "plot.semi_log_x()\n",
    "plot.yticks([], [])\n",
    "plot.ylabel('Dimensionless Velocity ($v^{*}$) [ ]')\n",
    "plot.xlabel('Dimensionless Distance from Wall ($y^{*}$) [ ]')\n",
    "plot.markers_off()\n",
    "plot.export('universallogprofile', force=True)\n",
    "plot.show('Universal log turbulent profile', label='ultp')"
   ]
  },
  {
   "cell_type": "markdown",
   "metadata": {},
   "source": [
    "and we can evaluate how much this is using Fanning's friction factor $$\\tau^{w}=\\frac{1}{2}f_{i}\\rho u^{2}\\;\\;\\therefore\\;\\;\\sqrt{\\frac{\\tau^{w}}{\\rho}}=\\sqrt{\\frac{1}{2}f_{i}}u$$ and $$y^{*}=Re\\frac{\\sqrt{\\nicefrac{\\tau^{w}}{\\rho}}}{\\nu}\\frac{y}{D}\\approx Re\\frac{1}{40}\\frac{y}{R}$$"
   ]
  },
  {
   "cell_type": "code",
   "execution_count": 3,
   "metadata": {},
   "outputs": [
    {
     "data": {
      "text/html": [
       "<h2>Bibliography</h2>\n",
       "<ol>\n",
       "</ol>\n"
      ],
      "text/plain": [
       "<IPython.core.display.HTML object>"
      ]
     },
     "metadata": {},
     "output_type": "display_data"
    }
   ],
   "source": [
    "bib.bibliography()"
   ]
  }
 ],
 "metadata": {
  "breadcrumb": [
   {
    "title": "Thermal Hydraulics"
   },
   {
    "title": "General Balance Equations and Basic Heat Transfer"
   }
  ],
  "hide_input": false,
  "kernelspec": {
   "display_name": "Python 2",
   "language": "python",
   "name": "python2"
  },
  "language_info": {
   "codemirror_mode": {
    "name": "ipython",
    "version": 2
   },
   "file_extension": ".py",
   "mimetype": "text/x-python",
   "name": "python",
   "nbconvert_exporter": "python",
   "pygments_lexer": "ipython2",
   "version": "2.7.12"
  },
  "latex_envs": {
   "LaTeX_envs_menu_present": true,
   "autocomplete": true,
   "bibliofile": "bibs/dissertation.bib",
   "cite_by": "apalike",
   "current_citInitial": 1,
   "eqLabelWithNumbers": true,
   "eqNumInitial": 1,
   "hotkeys": {
    "equation": "Ctrl-E",
    "itemize": "Ctrl-I"
   },
   "labels_anchors": false,
   "latex_user_defs": false,
   "report_style_numbering": false,
   "user_envs_cfg": false
  },
  "title": "Non-Dimensional Parameters"
 },
 "nbformat": 4,
 "nbformat_minor": 2
}
