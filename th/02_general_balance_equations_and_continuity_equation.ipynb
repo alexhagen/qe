{
 "cells": [
  {
   "cell_type": "code",
   "execution_count": 1,
   "metadata": {
    "collapsed": true,
    "deletable": true,
    "editable": true
   },
   "outputs": [],
   "source": [
    "import lyxithea.lyxithea as lyx\n",
    "\n",
    "bib = lyx.bib('bibs/qe.bib')"
   ]
  },
  {
   "cell_type": "markdown",
   "metadata": {
    "deletable": true,
    "editable": true,
    "variables": {
     " bib.pcite('Bird2007') ": "(<a href=\"#Bird2007\">Bird,  et. al. 2007</a>)"
    }
   },
   "source": [
    "# General Balance Equations and Continuity Equation\n",
    "\n",
    "Based on the derivation in {{ bib.pcite('Bird2007') }}.\n",
    "\n",
    "The general balance equations (GBE) are the main tennets of continuum mechanics.  Proper derivation of these equations is absolutely essential to theral-hydraulics.  They are also incredibly useful for other physical systems, and when coupled with the electronic charge conservation equation, could (ostensibly) solve any non-quantum mechanical problem."
   ]
  },
  {
   "cell_type": "markdown",
   "metadata": {
    "deletable": true,
    "editable": true
   },
   "source": [
    "## General Balance Equation\n",
    "\n",
    "The general balance equation for any property is given by:\n",
    "\n",
    "$$\\underbrace{\\frac{D}{Dt}\\intop_{V_{m}}\\psi dV}_{\\substack{\\text{change of }\\psi\\\\\n",
    "\\text{per unit time}\\\\\n",
    "\\text{in volume }V_{m}\n",
    "}\n",
    "}=-\\underbrace{\\oint_{S_{m}}\\mathbb{J}\\cdot\\vec{n}dS}_{\\substack{\\text{influx of }\\psi\\text{ across}\\\\\n",
    "\\text{surface }S_{m}\n",
    "}\n",
    "}+\\underbrace{\\int_{V_{m}}\\dot{\\psi_{g}}dV}_{\\substack{\\text{generation of }\\psi\\\\\n",
    "\\text{in volume }V_{m}\n",
    "}\n",
    "}$$\n",
    "\n",
    "We can use Reynold's Transport theorem, which states that $\\frac{D}{Dt}\\int_{V_{m}}\\psi dV=\\int_{V_{m}}\\left[\\frac{\\partial\\psi}{\\partial t}+\\nabla\\cdot\\left(\\psi\\vec{v}\\right)\\right]dV$ and Greene Theorem, which thats $\\oint_{S_{m}}\\mathbb{J}\\cdot\\vec{n}dS=\\int_{V_{m}}\\nabla\\cdot\\mathbb{J}dV$.  Inputting these two expressions to first convert the material derivative to time and spatial derivative and to convert the surface integral to a volume integral, respectively. With these two changes and combining volume integrals, we then get\n",
    "\n",
    "$$\\int_{V_{m}}\\left[\\frac{\\partial\\psi}{\\partial t}+\\nabla\\cdot\\left(\\psi\\vec{v}\\right)=-\\nabla\\cdot\\mathbb{J}+\\dot{\\psi_{g}}\\right]dV$$\n",
    "\n",
    "and after differentiating:\n",
    "\n",
    "$$\\underbrace{\\frac{\\partial\\psi}{\\partial t}}_{\\substack{\\text{change of }\\psi\\\\\n",
    "\\text{per unit time}\\\\\n",
    "\\text{per unit volume}\n",
    "}\n",
    "}\\underbrace{\\nabla\\cdot\\left(\\psi\\vec{v}\\right)}_{\\substack{\\text{convection by}\\\\\n",
    "\\text{material motion}\\\\\n",
    "\\text{per unit volume}\n",
    "}\n",
    "}=-\\underbrace{\\nabla\\cdot\\mathbb{J}}_{\\substack{\\text{influx of }\\psi\\text{ per}\\\\\n",
    "\\text{surface }S_{m}\\text{ per}\\\\\n",
    "\\text{unit volume}\n",
    "}\n",
    "}+\\underbrace{\\dot{\\psi_{g}}}_{\\substack{\\text{generation of }\\psi\\\\\n",
    "\\text{per unit volume}\n",
    "}\n",
    "}$$"
   ]
  },
  {
   "cell_type": "markdown",
   "metadata": {
    "deletable": true,
    "editable": true
   },
   "source": [
    "## Continuity Equation\n",
    "\n",
    "Apply the GBE, using $\\psi = \\rho$, $\\mathbb{J} = 0$, and $\\dot{\\psi_{g}} = 0$, we get\n",
    "\n",
    "$$\\frac{\\partial\\rho}{\\partial t}+\\nabla\\cdot\\left(\\rho\\vec{v}\\right)=0$$\n",
    "\n",
    "which is equivalent to (by FOIL): $\\frac{\\partial\\rho}{\\partial t}+\\nabla\\cdot\\left(\\rho\\vec{v}\\right)=\\frac{\\partial\\rho}{\\partial t}+\\vec{v}\\cdot\\nabla\\rho+\\rho\\nabla\\cdot\\vec{v}$ and using the material derivative's definition: $\\frac{D\\rho}{Dt}\\equiv\\frac{\\partial\\rho}{\\partial t}+\\vec{v}\\cdot\\nabla\\rho$ in the above equation, we get:\n",
    "\n",
    "$$\\frac{1}{\\rho}\\frac{D\\rho}{Dt}=-\\nabla\\cdot\\vec{v}$$\n",
    "\n",
    "and assuming incompressible: $\\frac{D\\rho}{Dt}=0$, it is apparent that:\n",
    "\n",
    "$$\\nabla\\cdot\\vec{v}=0$$\n",
    "\n",
    "which is the continuity equation."
   ]
  },
  {
   "cell_type": "code",
   "execution_count": 2,
   "metadata": {
    "collapsed": false,
    "deletable": true,
    "editable": true
   },
   "outputs": [
    {
     "data": {
      "text/html": [
       "<h2>Bibliography</h2>\n",
       "<ol>\n",
       "<li name=\"Bird2007\">\n",
       "<!-- This document was automatically generated with bibtex2html 1.98\n",
       "     (see http://www.lri.fr/~filliatr/bibtex2html/),\n",
       "     with the following command:\n",
       "     /usr/bin/bibtex2html -nokeys -o - -s plain -nodoc -q /tmp/tmptftond.bib  -->\n",
       "\n",
       "\n",
       "\n",
       "\n",
       "<p><a name=\"Bird2007\"></a>\n",
       "\n",
       "R.&nbsp;B. Bird, W.&nbsp;E. Stewart, and E.&nbsp;N. Lightfoot.\n",
       " <em>Transport Phenomena</em>.\n",
       " John Wiley &amp; Sons, Inc., New York, NY, 2nd edition, 2007.\n",
       "\n",
       "</p>\n",
       "</li>\n",
       "</ol>\n"
      ],
      "text/plain": [
       "<IPython.core.display.HTML object>"
      ]
     },
     "metadata": {},
     "output_type": "display_data"
    }
   ],
   "source": [
    "bib.bibliography()"
   ]
  },
  {
   "cell_type": "code",
   "execution_count": null,
   "metadata": {
    "collapsed": true,
    "deletable": true,
    "editable": true
   },
   "outputs": [],
   "source": []
  }
 ],
 "metadata": {
  "breadcrumb": [
   {
    "title": "Thermal Hydraulics"
   },
   {
    "title": "General Balance Equations and Basic Heat Transfer"
   }
  ],
  "hide_input": false,
  "kernelspec": {
   "display_name": "Python 2",
   "language": "python",
   "name": "python2"
  },
  "language_info": {
   "codemirror_mode": {
    "name": "ipython",
    "version": 2
   },
   "file_extension": ".py",
   "mimetype": "text/x-python",
   "name": "python",
   "nbconvert_exporter": "python",
   "pygments_lexer": "ipython2",
   "version": "2.7.13"
  },
  "latex_envs": {
   "LaTeX_envs_menu_present": true,
   "autocomplete": true,
   "bibliofile": "bibs/dissertation.bib",
   "cite_by": "apalike",
   "current_citInitial": 1,
   "eqLabelWithNumbers": true,
   "eqNumInitial": 1,
   "hotkeys": {
    "equation": "Ctrl-E",
    "itemize": "Ctrl-I"
   },
   "labels_anchors": false,
   "latex_user_defs": false,
   "report_style_numbering": false,
   "user_envs_cfg": false
  },
  "title": "General Balance Equation and Continuity Equation"
 },
 "nbformat": 4,
 "nbformat_minor": 2
}
