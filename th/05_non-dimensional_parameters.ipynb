{
 "cells": [
  {
   "cell_type": "code",
   "execution_count": 1,
   "metadata": {
    "collapsed": false,
    "deletable": true,
    "editable": true
   },
   "outputs": [
    {
     "data": {
      "application/javascript": [
       "\n",
       "MathJax.Hub.Register.StartupHook(\"TeX Jax Ready\",function () {\n",
       "  var MML = MathJax.ElementJax.mml,\n",
       "      TeX = MathJax.InputJax.TeX;\n",
       "\n",
       "  TeX.Definitions.macros.nicefrac = \"myBevelFraction\";\n",
       "  TeX.Definitions.macros.unit = \"myUnit\";\n",
       "  TeX.Definitions.macros.ce = \"myCe\";\n",
       "\n",
       "  TeX.Parse.Augment({\n",
       "    myBevelFraction: function (name) {\n",
       "      var num = this.ParseArg(name),\n",
       "          den = this.ParseArg(name);\n",
       "      this.Push(MML.mfrac(num,den).With({bevelled: true}));\n",
       "    },\n",
       "    myUnit: function(name) {\n",
       "      var num = this.ParseArg(name);\n",
       "      var den = 2;\n",
       "      this.Push(MML.mtext(num).With({variant: 'normal'}));\n",
       "    },\n",
       "    myCe: function(name) {\n",
       "      var num = this.ParseArg(name);\n",
       "      var den = 2;\n",
       "      this.Push(MML.mtext(num).With({variant: 'normal'}));\n",
       "    }\n",
       "  });\n",
       "  MathJax.Hub.Insert(MathJax.InputJax.TeX.Definitions.macros,{\n",
       "      cancel: [\"Extension\",\"cancel\"],\n",
       "      bcancel: [\"Extension\",\"cancel\"],\n",
       "      xcancel: [\"Extension\",\"cancel\"],\n",
       "      cancelto: [\"Extension\",\"cancel\"]\n",
       "    });\n",
       "});\n"
      ],
      "text/plain": [
       "<IPython.core.display.Javascript object>"
      ]
     },
     "metadata": {},
     "output_type": "display_data"
    }
   ],
   "source": [
    "import lyxithea.lyxithea as lyx\n",
    "\n",
    "bib = lyx.bib('bibs/qe.bib')"
   ]
  },
  {
   "cell_type": "markdown",
   "metadata": {
    "deletable": true,
    "editable": true,
    "variables": {
     " bib.pcite('Bird2007') ": "(<a href=\"#Bird2007\">Bird,  et. al. 2007</a>)"
    }
   },
   "source": [
    "# Non-Dimensional Parameters\n",
    "\n",
    "This material is taken from {{ bib.pcite('Bird2007') }}.  The non-dimensional parameters are all over the field of fluids and thermal hydraulics.  Their importance is, in my opinion, overstated.  Any paper worth its salt will describe the non-dimensional number and its calculation before using it as a parameter.  However, the idea that one can create parameters comparing effects without some sort of unit change is important, and several numbers, such as $Re$ and $Pr$ are seen a lot in the literature."
   ]
  },
  {
   "cell_type": "code",
   "execution_count": 2,
   "metadata": {
    "collapsed": false,
    "deletable": true,
    "editable": true
   },
   "outputs": [
    {
     "data": {
      "text/html": [
       "\n",
       "            <div class='table' style='align: center; margin-left: auto; margin-right: auto;'>\n",
       "                <div style='margin: auto; text-align: center;' class='tablecaption' name='nondim'><b>Table 1:</b> Non-Dimensional Parameters and their definitions</div>\n",
       "                <table>\n",
       "<thead>\n",
       "<tr><th style=\"text-align: center;\"> Symbol </th><th style=\"text-align: center;\">  Name   </th><th style=\"text-align: center;\">                Formula                </th><th style=\"text-align: center;\">                                     Physical Meaning                                      </th></tr>\n",
       "</thead>\n",
       "<tbody>\n",
       "<tr><td style=\"text-align: center;\">  $Re$  </td><td style=\"text-align: center;\">Reynold's</td><td style=\"text-align: center;\">         $\\frac{\\rho vD}{\\mu}$         </td><td style=\"text-align: center;\">                   $\\frac{\\text{inertial force}}{\\text{viscous force}}$                    </td></tr>\n",
       "<tr><td style=\"text-align: center;\">  $Pr$  </td><td style=\"text-align: center;\"> Prandtl </td><td style=\"text-align: center;\">$\\frac{\\nu}{\\alpha}=\\frac{c_{p}\\mu}{k}$</td><td style=\"text-align: center;\">                                            --                                             </td></tr>\n",
       "<tr><td style=\"text-align: center;\">  $Gr$  </td><td style=\"text-align: center;\"> Grashof </td><td style=\"text-align: center;\"> $\\frac{g\\beta\\Delta TD^{3}}{\\nu^{2}}$ </td><td style=\"text-align: center;\">                                            --                                             </td></tr>\n",
       "<tr><td style=\"text-align: center;\">  $Br$  </td><td style=\"text-align: center;\">Brinkman </td><td style=\"text-align: center;\">     $\\frac{\\mu v^{2}}{k\\Delta T}$     </td><td style=\"text-align: center;\">$\\frac{\\text{heat production by viscous dissipation}}{\\text{heat transport by conduction}}$</td></tr>\n",
       "<tr><td style=\"text-align: center;\">  $Pe$  </td><td style=\"text-align: center;\"> Peclet  </td><td style=\"text-align: center;\">                $RePr$                 </td><td style=\"text-align: center;\">        $\\frac{\\text{convection heat transport}}{\\text{conduction heat transport}}$        </td></tr>\n",
       "<tr><td style=\"text-align: center;\">  $Ra$  </td><td style=\"text-align: center;\">Rayleigh </td><td style=\"text-align: center;\">                $GrPr$                 </td><td style=\"text-align: center;\">                                            --                                             </td></tr>\n",
       "<tr><td style=\"text-align: center;\">  $Ec$  </td><td style=\"text-align: center;\"> Eckert  </td><td style=\"text-align: center;\">            $\\frac{Br}{Pr}$            </td><td style=\"text-align: center;\">                                            --                                             </td></tr>\n",
       "<tr><td style=\"text-align: center;\">  $Fr$  </td><td style=\"text-align: center;\"> Froude  </td><td style=\"text-align: center;\">         $\\frac{\\rho v}{pgD}$          </td><td style=\"text-align: center;\">                $\\frac{\\text{inertial force}}{\\text{gravitational force}}$                 </td></tr>\n",
       "<tr><td style=\"text-align: center;\">   --   </td><td style=\"text-align: center;\">   --    </td><td style=\"text-align: center;\">          $\\frac{Gr}{Re^{2}}$          </td><td style=\"text-align: center;\">                   $\\frac{\\text{buoyant force}}{\\text{inertial force}}$                    </td></tr>\n",
       "<tr><td style=\"text-align: center;\">  $Ma$  </td><td style=\"text-align: center;\">  Mach   </td><td style=\"text-align: center;\">             $\\frac{v}{c}$             </td><td style=\"text-align: center;\">                                            --                                             </td></tr>\n",
       "<tr><td style=\"text-align: center;\">  $Nu$  </td><td style=\"text-align: center;\"> Nusselt </td><td style=\"text-align: center;\">            $\\frac{hD}{k}$             </td><td style=\"text-align: center;\">                       $\\frac{\\text{convection}}{\\text{conduction}}$                       </td></tr>\n",
       "<tr><td style=\"text-align: center;\">  $We$  </td><td style=\"text-align: center;\">  Weber  </td><td style=\"text-align: center;\">      $\\frac{Dv^{2}\\rho}{\\sigma}$      </td><td style=\"text-align: center;\">                  $\\frac{\\text{inertial force}}{\\text{surface tension}}$                   </td></tr>\n",
       "<tr><td style=\"text-align: center;\">  $Bi$  </td><td style=\"text-align: center;\">  Biot   </td><td style=\"text-align: center;\">            $\\frac{hD}{k}$             </td><td style=\"text-align: center;\">                       $\\frac{\\text{convection}}{\\text{conduction}}$                       </td></tr>\n",
       "</tbody>\n",
       "</table>\n",
       "            </div>\n",
       "        "
      ],
      "text/plain": [
       "<IPython.core.display.HTML object>"
      ]
     },
     "metadata": {},
     "output_type": "display_data"
    }
   ],
   "source": [
    "header = ['Symbol', 'Name', 'Formula', 'Physical Meaning']\n",
    "re = ['$Re$', \"Reynold's\",\n",
    "      r'$\\frac{\\rho vD}{\\mu}$',\n",
    "      r'$\\frac{\\text{inertial force}}{\\text{viscous force}}$']\n",
    "pr = ['$Pr$',   \"Prandtl\",\n",
    "      r'$\\frac{\\nu}{\\alpha}=\\frac{c_{p}\\mu}{k}$', r'--']\n",
    "gr = ['$Gr$',   'Grashof',\n",
    "      r'$\\frac{g\\beta\\Delta TD^{3}}{\\nu^{2}}$', r'--']\n",
    "br = ['$Br$',  'Brinkman',\n",
    "      r'$\\frac{\\mu v^{2}}{k\\Delta T}$',\n",
    "      r'$\\frac{\\text{heat production by viscous dissipation}}{\\text{heat transport by conduction}}$']\n",
    "pe = ['$Pe$',    'Peclet',\n",
    "      r'$RePr$',\n",
    "      r'$\\frac{\\text{convection heat transport}}{\\text{conduction heat transport}}$']\n",
    "ra = ['$Ra$',  'Rayleigh',\n",
    "      r'$GrPr$', r'--']\n",
    "ec = ['$Ec$',    'Eckert',\n",
    "      r'$\\frac{Br}{Pr}$', r'--']\n",
    "fr = ['$Fr$',    'Froude',\n",
    "      r'$\\frac{\\rho v}{pgD}$',\n",
    "      r'$\\frac{\\text{inertial force}}{\\text{gravitational force}}$']\n",
    "nn = [  '--',        '--',\n",
    "      r'$\\frac{Gr}{Re^{2}}$',\n",
    "      r'$\\frac{\\text{buoyant force}}{\\text{inertial force}}$']\n",
    "ma = ['$Ma$',      'Mach',\n",
    "      r'$\\frac{v}{c}$', r'--']\n",
    "nu = ['$Nu$',   'Nusselt',\n",
    "      r'$\\frac{hD}{k}$',\n",
    "      r'$\\frac{\\text{convection}}{\\text{conduction}}$']\n",
    "we = ['$We$',     'Weber',\n",
    "      r'$\\frac{Dv^{2}\\rho}{\\sigma}$',\n",
    "      r'$\\frac{\\text{inertial force}}{\\text{surface tension}}$']\n",
    "bi = ['$Bi$',      'Biot',\n",
    "      r'$\\frac{hD}{k}$',\n",
    "      r'$\\frac{\\text{convection}}{\\text{conduction}}$']\n",
    "\n",
    "arr = [re, pr, gr, br, pe, ra, ec, fr, nn, ma, nu, we, bi]\n",
    "\n",
    "lyx.table(arr, 'Non-Dimensional Parameters and their definitions', label='nondim', headers=header)"
   ]
  },
  {
   "cell_type": "code",
   "execution_count": 3,
   "metadata": {
    "collapsed": false,
    "deletable": true,
    "editable": true
   },
   "outputs": [
    {
     "data": {
      "text/html": [
       "<h2>Bibliography</h2>\n",
       "<ol>\n",
       "<li name=\"Bird2007\">\n",
       "<!-- This document was automatically generated with bibtex2html 1.98\n",
       "     (see http://www.lri.fr/~filliatr/bibtex2html/),\n",
       "     with the following command:\n",
       "     bibtex2html -nokeys -o - -s plain -nodoc -q /var/folders/cy/f4wwjss96p34f35b2w98ynk80000gp/T/tmpN6Sxck.bib  -->\n",
       "\n",
       "\n",
       "\n",
       "\n",
       "<p><a name=\"Bird2007\"></a>\n",
       "\n",
       "R.&nbsp;B. Bird, W.&nbsp;E. Stewart, and E.&nbsp;N. Lightfoot.\n",
       " <em>Transport Phenomena</em>.\n",
       " John Wiley &amp; Sons, Inc., New York, NY, 2nd edition, 2007.\n",
       "\n",
       "</p>\n",
       "</li>\n",
       "</ol>\n"
      ],
      "text/plain": [
       "<IPython.core.display.HTML object>"
      ]
     },
     "metadata": {},
     "output_type": "display_data"
    }
   ],
   "source": [
    "bib.bibliography()"
   ]
  }
 ],
 "metadata": {
  "breadcrumb": [
   {
    "title": "Thermal Hydraulics"
   },
   {
    "title": "General Balance Equations and Basic Heat Transfer"
   }
  ],
  "hide_input": false,
  "kernelspec": {
   "display_name": "Python 2",
   "language": "python",
   "name": "python2"
  },
  "language_info": {
   "codemirror_mode": {
    "name": "ipython",
    "version": 2
   },
   "file_extension": ".py",
   "mimetype": "text/x-python",
   "name": "python",
   "nbconvert_exporter": "python",
   "pygments_lexer": "ipython2",
   "version": "2.7.13"
  },
  "latex_envs": {
   "LaTeX_envs_menu_present": true,
   "autocomplete": true,
   "bibliofile": "bibs/dissertation.bib",
   "cite_by": "apalike",
   "current_citInitial": 1,
   "eqLabelWithNumbers": true,
   "eqNumInitial": 1,
   "hotkeys": {
    "equation": "Ctrl-E",
    "itemize": "Ctrl-I"
   },
   "labels_anchors": false,
   "latex_user_defs": false,
   "report_style_numbering": false,
   "user_envs_cfg": false
  },
  "title": "Non-Dimensional Parameters"
 },
 "nbformat": 4,
 "nbformat_minor": 2
}
